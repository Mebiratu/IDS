{
  "cells": [
    {
      "cell_type": "markdown",
      "metadata": {
        "id": "yQCu8T-Vlzr5"
      },
      "source": [
        "Library Import"
      ]
    },
    {
      "cell_type": "code",
      "execution_count": null,
      "metadata": {
        "colab": {
          "base_uri": "https://localhost:8080/"
        },
        "id": "Tkb0qwf-qF4X",
        "outputId": "b47aa5b3-10fd-4c42-e64a-ddf3de8d3063"
      },
      "outputs": [
        {
          "name": "stdout",
          "output_type": "stream",
          "text": [
            "Collecting lime\n",
            "  Downloading lime-0.2.0.1.tar.gz (275 kB)\n",
            "\u001b[2K     \u001b[90m━━━━━━━━━━━━━━━━━━━━━━━━━━━━━━━━━━━━━━━━\u001b[0m \u001b[32m275.7/275.7 kB\u001b[0m \u001b[31m1.9 MB/s\u001b[0m eta \u001b[36m0:00:00\u001b[0m\n",
            "\u001b[?25h  Preparing metadata (setup.py) ... \u001b[?25l\u001b[?25hdone\n",
            "Requirement already satisfied: matplotlib in /usr/local/lib/python3.10/dist-packages (from lime) (3.7.1)\n",
            "Requirement already satisfied: numpy in /usr/local/lib/python3.10/dist-packages (from lime) (1.23.5)\n",
            "Requirement already satisfied: scipy in /usr/local/lib/python3.10/dist-packages (from lime) (1.11.4)\n",
            "Requirement already satisfied: tqdm in /usr/local/lib/python3.10/dist-packages (from lime) (4.66.1)\n",
            "Requirement already satisfied: scikit-learn>=0.18 in /usr/local/lib/python3.10/dist-packages (from lime) (1.2.2)\n",
            "Requirement already satisfied: scikit-image>=0.12 in /usr/local/lib/python3.10/dist-packages (from lime) (0.19.3)\n",
            "Requirement already satisfied: networkx>=2.2 in /usr/local/lib/python3.10/dist-packages (from scikit-image>=0.12->lime) (3.2.1)\n",
            "Requirement already satisfied: pillow!=7.1.0,!=7.1.1,!=8.3.0,>=6.1.0 in /usr/local/lib/python3.10/dist-packages (from scikit-image>=0.12->lime) (9.4.0)\n",
            "Requirement already satisfied: imageio>=2.4.1 in /usr/local/lib/python3.10/dist-packages (from scikit-image>=0.12->lime) (2.31.6)\n",
            "Requirement already satisfied: tifffile>=2019.7.26 in /usr/local/lib/python3.10/dist-packages (from scikit-image>=0.12->lime) (2023.12.9)\n",
            "Requirement already satisfied: PyWavelets>=1.1.1 in /usr/local/lib/python3.10/dist-packages (from scikit-image>=0.12->lime) (1.5.0)\n",
            "Requirement already satisfied: packaging>=20.0 in /usr/local/lib/python3.10/dist-packages (from scikit-image>=0.12->lime) (23.2)\n",
            "Requirement already satisfied: joblib>=1.1.1 in /usr/local/lib/python3.10/dist-packages (from scikit-learn>=0.18->lime) (1.3.2)\n",
            "Requirement already satisfied: threadpoolctl>=2.0.0 in /usr/local/lib/python3.10/dist-packages (from scikit-learn>=0.18->lime) (3.2.0)\n",
            "Requirement already satisfied: contourpy>=1.0.1 in /usr/local/lib/python3.10/dist-packages (from matplotlib->lime) (1.2.0)\n",
            "Requirement already satisfied: cycler>=0.10 in /usr/local/lib/python3.10/dist-packages (from matplotlib->lime) (0.12.1)\n",
            "Requirement already satisfied: fonttools>=4.22.0 in /usr/local/lib/python3.10/dist-packages (from matplotlib->lime) (4.47.0)\n",
            "Requirement already satisfied: kiwisolver>=1.0.1 in /usr/local/lib/python3.10/dist-packages (from matplotlib->lime) (1.4.5)\n",
            "Requirement already satisfied: pyparsing>=2.3.1 in /usr/local/lib/python3.10/dist-packages (from matplotlib->lime) (3.1.1)\n",
            "Requirement already satisfied: python-dateutil>=2.7 in /usr/local/lib/python3.10/dist-packages (from matplotlib->lime) (2.8.2)\n",
            "Requirement already satisfied: six>=1.5 in /usr/local/lib/python3.10/dist-packages (from python-dateutil>=2.7->matplotlib->lime) (1.16.0)\n",
            "Building wheels for collected packages: lime\n",
            "  Building wheel for lime (setup.py) ... \u001b[?25l\u001b[?25hdone\n",
            "  Created wheel for lime: filename=lime-0.2.0.1-py3-none-any.whl size=283835 sha256=11ea8b026c90a02e0400c8cfa1a5a6dd787cc8e26b325afa4dca5a7c6c933a7b\n",
            "  Stored in directory: /root/.cache/pip/wheels/fd/a2/af/9ac0a1a85a27f314a06b39e1f492bee1547d52549a4606ed89\n",
            "Successfully built lime\n",
            "Installing collected packages: lime\n",
            "Successfully installed lime-0.2.0.1\n"
          ]
        }
      ],
      "source": [
        "pip install lime"
      ]
    },
    {
      "cell_type": "markdown",
      "metadata": {
        "id": "hQZIu-DpI0mL"
      },
      "source": []
    },
    {
      "cell_type": "code",
      "execution_count": null,
      "metadata": {
        "id": "Ukd0EuwnlyXe"
      },
      "outputs": [],
      "source": [
        "import pandas as pd\n",
        "import numpy as np\n",
        "import time\n",
        "#import cv2\n",
        "import os\n",
        "import matplotlib.pyplot as plt\n",
        "import numpy as np\n",
        "import seaborn as sns #visualization library that is commonly used for data science and machine learning tasks\n",
        "sns.set()\n",
        "from sklearn.model_selection import train_test_split\n",
        "from sklearn.metrics import classification_report,accuracy_score,confusion_matrix\n",
        "from sklearn.ensemble import VotingClassifier\n",
        "from sklearn.linear_model import LogisticRegression\n",
        "from sklearn.metrics import confusion_matrix\n",
        "#import lime\n",
        "#import lime.lime_tabular\n",
        "\n",
        "from sklearn.feature_selection import SelectKBest\n",
        "from sklearn.feature_selection import f_regression"
      ]
    },
    {
      "cell_type": "markdown",
      "metadata": {
        "id": "Jq4Rjt3SA0lP"
      },
      "source": [
        "https://www.kaggle.com/code/essammohamed4320/intrusion-detection-system-with-ml-dl"
      ]
    },
    {
      "cell_type": "markdown",
      "metadata": {
        "id": "vW1LB6lnA1yd"
      },
      "source": [
        "https://www.kaggle.com/code/eduardohasbun/machine-learning-intrusion-detection-system"
      ]
    },
    {
      "cell_type": "markdown",
      "metadata": {
        "id": "zd8pk_YyBpge"
      },
      "source": [
        "https://www.kaggle.com/code/iamyajat/intrusion-detection-system-using-neural-networks"
      ]
    },
    {
      "cell_type": "markdown",
      "metadata": {
        "id": "DaIDDa_zB-XK"
      },
      "source": [
        "https://www.kaggle.com/code/sripadkarthik/iot-data-for-intrusion-detection-using-ml-and-dl"
      ]
    },
    {
      "cell_type": "markdown",
      "metadata": {
        "id": "hQGBPQoqCO2U"
      },
      "source": [
        "https://www.kaggle.com/code/sanketrai/network-intrusion-detection"
      ]
    },
    {
      "cell_type": "markdown",
      "metadata": {
        "id": "vnBQfIKBCZRG"
      },
      "source": [
        "https://www.kaggle.com/code/wailinnoo/intrusion-detection-system-using-kdd99-dataset"
      ]
    },
    {
      "cell_type": "markdown",
      "metadata": {
        "id": "xC7hXhmLCopK"
      },
      "source": [
        "https://www.kaggle.com/code/eduardohasbun/machine-learning-intrusion-detection-system"
      ]
    },
    {
      "cell_type": "code",
      "execution_count": null,
      "metadata": {
        "id": "Fes6xx9OrC3X"
      },
      "outputs": [],
      "source": []
    },
    {
      "cell_type": "code",
      "execution_count": null,
      "metadata": {
        "colab": {
          "base_uri": "https://localhost:8080/"
        },
        "id": "baqokTj0n0UU",
        "outputId": "9db833f7-ad7e-45e0-ae40-0e120b7cba8e"
      },
      "outputs": [
        {
          "name": "stdout",
          "output_type": "stream",
          "text": [
            "Mounted at /content/drive\n"
          ]
        }
      ],
      "source": [
        "from google.colab import drive\n",
        "drive.mount('/content/drive')"
      ]
    },
    {
      "cell_type": "markdown",
      "metadata": {
        "id": "lqTWn4H-p00g"
      },
      "source": [
        "**Load Dataset**"
      ]
    },
    {
      "cell_type": "code",
      "execution_count": null,
      "metadata": {
        "colab": {
          "base_uri": "https://localhost:8080/"
        },
        "id": "6DnSFNdTnbDm",
        "outputId": "9261d346-0a43-4e20-fd11-29c21c88a72f"
      },
      "outputs": [
        {
          "output_type": "stream",
          "name": "stderr",
          "text": [
            "<ipython-input-2-b61f58f87909>:1: DtypeWarning: Columns (2,3,6,11,13,14,15,16,17,31,32,34,39,45,51,54,55) have mixed types. Specify dtype option on import or set low_memory=False.\n",
            "  data_file = pd.read_csv(\"drive/MyDrive/IIOT/DNN.csv\", header=0)\n"
          ]
        }
      ],
      "source": [
        "data_file = pd.read_csv(\"drive/MyDrive/IIOT/DNN.csv\", header=0)"
      ]
    },
    {
      "cell_type": "code",
      "execution_count": null,
      "metadata": {
        "id": "ao72EOegpYlQ"
      },
      "outputs": [],
      "source": [
        "df = data_file.copy() # Create a copy of the 'data_file' DataFrame and store it in a new DataFrame 'df'"
      ]
    },
    {
      "cell_type": "code",
      "execution_count": null,
      "metadata": {
        "colab": {
          "base_uri": "https://localhost:8080/",
          "height": 342
        },
        "id": "Gik6ZXRCpecb",
        "outputId": "67af8f50-b55c-4391-afe7-27aa6ea5f639"
      },
      "outputs": [
        {
          "data": {
            "text/html": [
              "\n",
              "  <div id=\"df-515be8c2-8dce-4dc1-8b3f-eb4907f5ce7e\" class=\"colab-df-container\">\n",
              "    <div>\n",
              "<style scoped>\n",
              "    .dataframe tbody tr th:only-of-type {\n",
              "        vertical-align: middle;\n",
              "    }\n",
              "\n",
              "    .dataframe tbody tr th {\n",
              "        vertical-align: top;\n",
              "    }\n",
              "\n",
              "    .dataframe thead th {\n",
              "        text-align: right;\n",
              "    }\n",
              "</style>\n",
              "<table border=\"1\" class=\"dataframe\">\n",
              "  <thead>\n",
              "    <tr style=\"text-align: right;\">\n",
              "      <th></th>\n",
              "      <th>frame.time</th>\n",
              "      <th>ip.src_host</th>\n",
              "      <th>ip.dst_host</th>\n",
              "      <th>arp.dst.proto_ipv4</th>\n",
              "      <th>arp.opcode</th>\n",
              "      <th>arp.hw.size</th>\n",
              "      <th>arp.src.proto_ipv4</th>\n",
              "      <th>icmp.checksum</th>\n",
              "      <th>icmp.seq_le</th>\n",
              "      <th>icmp.transmit_timestamp</th>\n",
              "      <th>...</th>\n",
              "      <th>mqtt.proto_len</th>\n",
              "      <th>mqtt.protoname</th>\n",
              "      <th>mqtt.topic</th>\n",
              "      <th>mqtt.topic_len</th>\n",
              "      <th>mqtt.ver</th>\n",
              "      <th>mbtcp.len</th>\n",
              "      <th>mbtcp.trans_id</th>\n",
              "      <th>mbtcp.unit_id</th>\n",
              "      <th>Attack_label</th>\n",
              "      <th>Attack_type</th>\n",
              "    </tr>\n",
              "  </thead>\n",
              "  <tbody>\n",
              "    <tr>\n",
              "      <th>0</th>\n",
              "      <td>2021 11:44:10.081753000</td>\n",
              "      <td>192.168.0.128</td>\n",
              "      <td>192.168.0.101</td>\n",
              "      <td>0</td>\n",
              "      <td>0.0</td>\n",
              "      <td>0.0</td>\n",
              "      <td>0</td>\n",
              "      <td>0.0</td>\n",
              "      <td>0.0</td>\n",
              "      <td>0.0</td>\n",
              "      <td>...</td>\n",
              "      <td>0.0</td>\n",
              "      <td>0</td>\n",
              "      <td>0</td>\n",
              "      <td>0.0</td>\n",
              "      <td>0.0</td>\n",
              "      <td>0.0</td>\n",
              "      <td>0.0</td>\n",
              "      <td>0.0</td>\n",
              "      <td>0</td>\n",
              "      <td>Normal</td>\n",
              "    </tr>\n",
              "    <tr>\n",
              "      <th>1</th>\n",
              "      <td>2021 11:44:10.162218000</td>\n",
              "      <td>192.168.0.101</td>\n",
              "      <td>192.168.0.128</td>\n",
              "      <td>0</td>\n",
              "      <td>0.0</td>\n",
              "      <td>0.0</td>\n",
              "      <td>0</td>\n",
              "      <td>0.0</td>\n",
              "      <td>0.0</td>\n",
              "      <td>0.0</td>\n",
              "      <td>...</td>\n",
              "      <td>4.0</td>\n",
              "      <td>MQTT</td>\n",
              "      <td>0</td>\n",
              "      <td>0.0</td>\n",
              "      <td>4.0</td>\n",
              "      <td>0.0</td>\n",
              "      <td>0.0</td>\n",
              "      <td>0.0</td>\n",
              "      <td>0</td>\n",
              "      <td>Normal</td>\n",
              "    </tr>\n",
              "    <tr>\n",
              "      <th>2</th>\n",
              "      <td>2021 11:44:10.162271000</td>\n",
              "      <td>192.168.0.128</td>\n",
              "      <td>192.168.0.101</td>\n",
              "      <td>0</td>\n",
              "      <td>0.0</td>\n",
              "      <td>0.0</td>\n",
              "      <td>0</td>\n",
              "      <td>0.0</td>\n",
              "      <td>0.0</td>\n",
              "      <td>0.0</td>\n",
              "      <td>...</td>\n",
              "      <td>0.0</td>\n",
              "      <td>0</td>\n",
              "      <td>0</td>\n",
              "      <td>0.0</td>\n",
              "      <td>0.0</td>\n",
              "      <td>0.0</td>\n",
              "      <td>0.0</td>\n",
              "      <td>0.0</td>\n",
              "      <td>0</td>\n",
              "      <td>Normal</td>\n",
              "    </tr>\n",
              "    <tr>\n",
              "      <th>3</th>\n",
              "      <td>2021 11:44:10.162641000</td>\n",
              "      <td>192.168.0.128</td>\n",
              "      <td>192.168.0.101</td>\n",
              "      <td>0</td>\n",
              "      <td>0.0</td>\n",
              "      <td>0.0</td>\n",
              "      <td>0</td>\n",
              "      <td>0.0</td>\n",
              "      <td>0.0</td>\n",
              "      <td>0.0</td>\n",
              "      <td>...</td>\n",
              "      <td>0.0</td>\n",
              "      <td>0</td>\n",
              "      <td>0</td>\n",
              "      <td>0.0</td>\n",
              "      <td>0.0</td>\n",
              "      <td>0.0</td>\n",
              "      <td>0.0</td>\n",
              "      <td>0.0</td>\n",
              "      <td>0</td>\n",
              "      <td>Normal</td>\n",
              "    </tr>\n",
              "    <tr>\n",
              "      <th>4</th>\n",
              "      <td>2021 11:44:10.166132000</td>\n",
              "      <td>192.168.0.101</td>\n",
              "      <td>192.168.0.128</td>\n",
              "      <td>0</td>\n",
              "      <td>0.0</td>\n",
              "      <td>0.0</td>\n",
              "      <td>0</td>\n",
              "      <td>0.0</td>\n",
              "      <td>0.0</td>\n",
              "      <td>0.0</td>\n",
              "      <td>...</td>\n",
              "      <td>0.0</td>\n",
              "      <td>0</td>\n",
              "      <td>Temperature_and_Humidity</td>\n",
              "      <td>24.0</td>\n",
              "      <td>0.0</td>\n",
              "      <td>0.0</td>\n",
              "      <td>0.0</td>\n",
              "      <td>0.0</td>\n",
              "      <td>0</td>\n",
              "      <td>Normal</td>\n",
              "    </tr>\n",
              "  </tbody>\n",
              "</table>\n",
              "<p>5 rows × 63 columns</p>\n",
              "</div>\n",
              "    <div class=\"colab-df-buttons\">\n",
              "\n",
              "  <div class=\"colab-df-container\">\n",
              "    <button class=\"colab-df-convert\" onclick=\"convertToInteractive('df-515be8c2-8dce-4dc1-8b3f-eb4907f5ce7e')\"\n",
              "            title=\"Convert this dataframe to an interactive table.\"\n",
              "            style=\"display:none;\">\n",
              "\n",
              "  <svg xmlns=\"http://www.w3.org/2000/svg\" height=\"24px\" viewBox=\"0 -960 960 960\">\n",
              "    <path d=\"M120-120v-720h720v720H120Zm60-500h600v-160H180v160Zm220 220h160v-160H400v160Zm0 220h160v-160H400v160ZM180-400h160v-160H180v160Zm440 0h160v-160H620v160ZM180-180h160v-160H180v160Zm440 0h160v-160H620v160Z\"/>\n",
              "  </svg>\n",
              "    </button>\n",
              "\n",
              "  <style>\n",
              "    .colab-df-container {\n",
              "      display:flex;\n",
              "      gap: 12px;\n",
              "    }\n",
              "\n",
              "    .colab-df-convert {\n",
              "      background-color: #E8F0FE;\n",
              "      border: none;\n",
              "      border-radius: 50%;\n",
              "      cursor: pointer;\n",
              "      display: none;\n",
              "      fill: #1967D2;\n",
              "      height: 32px;\n",
              "      padding: 0 0 0 0;\n",
              "      width: 32px;\n",
              "    }\n",
              "\n",
              "    .colab-df-convert:hover {\n",
              "      background-color: #E2EBFA;\n",
              "      box-shadow: 0px 1px 2px rgba(60, 64, 67, 0.3), 0px 1px 3px 1px rgba(60, 64, 67, 0.15);\n",
              "      fill: #174EA6;\n",
              "    }\n",
              "\n",
              "    .colab-df-buttons div {\n",
              "      margin-bottom: 4px;\n",
              "    }\n",
              "\n",
              "    [theme=dark] .colab-df-convert {\n",
              "      background-color: #3B4455;\n",
              "      fill: #D2E3FC;\n",
              "    }\n",
              "\n",
              "    [theme=dark] .colab-df-convert:hover {\n",
              "      background-color: #434B5C;\n",
              "      box-shadow: 0px 1px 3px 1px rgba(0, 0, 0, 0.15);\n",
              "      filter: drop-shadow(0px 1px 2px rgba(0, 0, 0, 0.3));\n",
              "      fill: #FFFFFF;\n",
              "    }\n",
              "  </style>\n",
              "\n",
              "    <script>\n",
              "      const buttonEl =\n",
              "        document.querySelector('#df-515be8c2-8dce-4dc1-8b3f-eb4907f5ce7e button.colab-df-convert');\n",
              "      buttonEl.style.display =\n",
              "        google.colab.kernel.accessAllowed ? 'block' : 'none';\n",
              "\n",
              "      async function convertToInteractive(key) {\n",
              "        const element = document.querySelector('#df-515be8c2-8dce-4dc1-8b3f-eb4907f5ce7e');\n",
              "        const dataTable =\n",
              "          await google.colab.kernel.invokeFunction('convertToInteractive',\n",
              "                                                    [key], {});\n",
              "        if (!dataTable) return;\n",
              "\n",
              "        const docLinkHtml = 'Like what you see? Visit the ' +\n",
              "          '<a target=\"_blank\" href=https://colab.research.google.com/notebooks/data_table.ipynb>data table notebook</a>'\n",
              "          + ' to learn more about interactive tables.';\n",
              "        element.innerHTML = '';\n",
              "        dataTable['output_type'] = 'display_data';\n",
              "        await google.colab.output.renderOutput(dataTable, element);\n",
              "        const docLink = document.createElement('div');\n",
              "        docLink.innerHTML = docLinkHtml;\n",
              "        element.appendChild(docLink);\n",
              "      }\n",
              "    </script>\n",
              "  </div>\n",
              "\n",
              "\n",
              "<div id=\"df-7e17f0b0-c645-4020-92b1-e7f9758f5a7b\">\n",
              "  <button class=\"colab-df-quickchart\" onclick=\"quickchart('df-7e17f0b0-c645-4020-92b1-e7f9758f5a7b')\"\n",
              "            title=\"Suggest charts\"\n",
              "            style=\"display:none;\">\n",
              "\n",
              "<svg xmlns=\"http://www.w3.org/2000/svg\" height=\"24px\"viewBox=\"0 0 24 24\"\n",
              "     width=\"24px\">\n",
              "    <g>\n",
              "        <path d=\"M19 3H5c-1.1 0-2 .9-2 2v14c0 1.1.9 2 2 2h14c1.1 0 2-.9 2-2V5c0-1.1-.9-2-2-2zM9 17H7v-7h2v7zm4 0h-2V7h2v10zm4 0h-2v-4h2v4z\"/>\n",
              "    </g>\n",
              "</svg>\n",
              "  </button>\n",
              "\n",
              "<style>\n",
              "  .colab-df-quickchart {\n",
              "      --bg-color: #E8F0FE;\n",
              "      --fill-color: #1967D2;\n",
              "      --hover-bg-color: #E2EBFA;\n",
              "      --hover-fill-color: #174EA6;\n",
              "      --disabled-fill-color: #AAA;\n",
              "      --disabled-bg-color: #DDD;\n",
              "  }\n",
              "\n",
              "  [theme=dark] .colab-df-quickchart {\n",
              "      --bg-color: #3B4455;\n",
              "      --fill-color: #D2E3FC;\n",
              "      --hover-bg-color: #434B5C;\n",
              "      --hover-fill-color: #FFFFFF;\n",
              "      --disabled-bg-color: #3B4455;\n",
              "      --disabled-fill-color: #666;\n",
              "  }\n",
              "\n",
              "  .colab-df-quickchart {\n",
              "    background-color: var(--bg-color);\n",
              "    border: none;\n",
              "    border-radius: 50%;\n",
              "    cursor: pointer;\n",
              "    display: none;\n",
              "    fill: var(--fill-color);\n",
              "    height: 32px;\n",
              "    padding: 0;\n",
              "    width: 32px;\n",
              "  }\n",
              "\n",
              "  .colab-df-quickchart:hover {\n",
              "    background-color: var(--hover-bg-color);\n",
              "    box-shadow: 0 1px 2px rgba(60, 64, 67, 0.3), 0 1px 3px 1px rgba(60, 64, 67, 0.15);\n",
              "    fill: var(--button-hover-fill-color);\n",
              "  }\n",
              "\n",
              "  .colab-df-quickchart-complete:disabled,\n",
              "  .colab-df-quickchart-complete:disabled:hover {\n",
              "    background-color: var(--disabled-bg-color);\n",
              "    fill: var(--disabled-fill-color);\n",
              "    box-shadow: none;\n",
              "  }\n",
              "\n",
              "  .colab-df-spinner {\n",
              "    border: 2px solid var(--fill-color);\n",
              "    border-color: transparent;\n",
              "    border-bottom-color: var(--fill-color);\n",
              "    animation:\n",
              "      spin 1s steps(1) infinite;\n",
              "  }\n",
              "\n",
              "  @keyframes spin {\n",
              "    0% {\n",
              "      border-color: transparent;\n",
              "      border-bottom-color: var(--fill-color);\n",
              "      border-left-color: var(--fill-color);\n",
              "    }\n",
              "    20% {\n",
              "      border-color: transparent;\n",
              "      border-left-color: var(--fill-color);\n",
              "      border-top-color: var(--fill-color);\n",
              "    }\n",
              "    30% {\n",
              "      border-color: transparent;\n",
              "      border-left-color: var(--fill-color);\n",
              "      border-top-color: var(--fill-color);\n",
              "      border-right-color: var(--fill-color);\n",
              "    }\n",
              "    40% {\n",
              "      border-color: transparent;\n",
              "      border-right-color: var(--fill-color);\n",
              "      border-top-color: var(--fill-color);\n",
              "    }\n",
              "    60% {\n",
              "      border-color: transparent;\n",
              "      border-right-color: var(--fill-color);\n",
              "    }\n",
              "    80% {\n",
              "      border-color: transparent;\n",
              "      border-right-color: var(--fill-color);\n",
              "      border-bottom-color: var(--fill-color);\n",
              "    }\n",
              "    90% {\n",
              "      border-color: transparent;\n",
              "      border-bottom-color: var(--fill-color);\n",
              "    }\n",
              "  }\n",
              "</style>\n",
              "\n",
              "  <script>\n",
              "    async function quickchart(key) {\n",
              "      const quickchartButtonEl =\n",
              "        document.querySelector('#' + key + ' button');\n",
              "      quickchartButtonEl.disabled = true;  // To prevent multiple clicks.\n",
              "      quickchartButtonEl.classList.add('colab-df-spinner');\n",
              "      try {\n",
              "        const charts = await google.colab.kernel.invokeFunction(\n",
              "            'suggestCharts', [key], {});\n",
              "      } catch (error) {\n",
              "        console.error('Error during call to suggestCharts:', error);\n",
              "      }\n",
              "      quickchartButtonEl.classList.remove('colab-df-spinner');\n",
              "      quickchartButtonEl.classList.add('colab-df-quickchart-complete');\n",
              "    }\n",
              "    (() => {\n",
              "      let quickchartButtonEl =\n",
              "        document.querySelector('#df-7e17f0b0-c645-4020-92b1-e7f9758f5a7b button');\n",
              "      quickchartButtonEl.style.display =\n",
              "        google.colab.kernel.accessAllowed ? 'block' : 'none';\n",
              "    })();\n",
              "  </script>\n",
              "</div>\n",
              "\n",
              "    </div>\n",
              "  </div>\n"
            ],
            "text/plain": [
              "                  frame.time    ip.src_host    ip.dst_host arp.dst.proto_ipv4  \\\n",
              "0   2021 11:44:10.081753000   192.168.0.128  192.168.0.101                  0   \n",
              "1   2021 11:44:10.162218000   192.168.0.101  192.168.0.128                  0   \n",
              "2   2021 11:44:10.162271000   192.168.0.128  192.168.0.101                  0   \n",
              "3   2021 11:44:10.162641000   192.168.0.128  192.168.0.101                  0   \n",
              "4   2021 11:44:10.166132000   192.168.0.101  192.168.0.128                  0   \n",
              "\n",
              "   arp.opcode  arp.hw.size arp.src.proto_ipv4  icmp.checksum  icmp.seq_le  \\\n",
              "0         0.0          0.0                  0            0.0          0.0   \n",
              "1         0.0          0.0                  0            0.0          0.0   \n",
              "2         0.0          0.0                  0            0.0          0.0   \n",
              "3         0.0          0.0                  0            0.0          0.0   \n",
              "4         0.0          0.0                  0            0.0          0.0   \n",
              "\n",
              "   icmp.transmit_timestamp  ...  mqtt.proto_len mqtt.protoname  \\\n",
              "0                      0.0  ...             0.0              0   \n",
              "1                      0.0  ...             4.0           MQTT   \n",
              "2                      0.0  ...             0.0              0   \n",
              "3                      0.0  ...             0.0              0   \n",
              "4                      0.0  ...             0.0              0   \n",
              "\n",
              "                 mqtt.topic mqtt.topic_len mqtt.ver mbtcp.len mbtcp.trans_id  \\\n",
              "0                         0            0.0      0.0       0.0            0.0   \n",
              "1                         0            0.0      4.0       0.0            0.0   \n",
              "2                         0            0.0      0.0       0.0            0.0   \n",
              "3                         0            0.0      0.0       0.0            0.0   \n",
              "4  Temperature_and_Humidity           24.0      0.0       0.0            0.0   \n",
              "\n",
              "  mbtcp.unit_id  Attack_label  Attack_type  \n",
              "0           0.0             0       Normal  \n",
              "1           0.0             0       Normal  \n",
              "2           0.0             0       Normal  \n",
              "3           0.0             0       Normal  \n",
              "4           0.0             0       Normal  \n",
              "\n",
              "[5 rows x 63 columns]"
            ]
          },
          "execution_count": 4,
          "metadata": {},
          "output_type": "execute_result"
        }
      ],
      "source": [
        "data_file.head() # Display the first few rows of the 'data_file' DataFrame"
      ]
    },
    {
      "cell_type": "code",
      "execution_count": null,
      "metadata": {
        "colab": {
          "base_uri": "https://localhost:8080/"
        },
        "id": "uiwT_BmxCYtH",
        "outputId": "d3a726a5-7e27-4231-a58c-e6c328fc2dc3"
      },
      "outputs": [
        {
          "data": {
            "text/plain": [
              "(2219201, 63)"
            ]
          },
          "execution_count": 6,
          "metadata": {},
          "output_type": "execute_result"
        }
      ],
      "source": [
        "data_file.shape"
      ]
    },
    {
      "cell_type": "code",
      "execution_count": null,
      "metadata": {
        "id": "-nDYtfIPp3HQ"
      },
      "outputs": [],
      "source": [
        "sns.set(font_scale=1.2)\n"
      ]
    },
    {
      "cell_type": "code",
      "execution_count": null,
      "metadata": {
        "colab": {
          "base_uri": "https://localhost:8080/",
          "height": 898
        },
        "id": "r2mjyOsBqAdA",
        "outputId": "0ce707ab-93cf-440b-c8ef-f2035e4c05b8"
      },
      "outputs": [
        {
          "data": {
            "text/plain": [
              "[Text(0.5, 1.0, 'Attack Count')]"
            ]
          },
          "execution_count": 6,
          "metadata": {},
          "output_type": "execute_result"
        },
        {
          "data": {
            "image/png": "[encoded data removed]",
            "text/plain": [
              "<Figure size 1000x1000 with 1 Axes>"
            ]
          },
          "metadata": {},
          "output_type": "display_data"
        }
      ],
      "source": [
        "plt.figure(figsize=(10,10))\n",
        "sns.countplot(data=df, x=\"Attack_label\", hue=\"Attack_type\").set(title='Attack Count')\n"
      ]
    },
    {
      "cell_type": "code",
      "execution_count": null,
      "metadata": {
        "colab": {
          "base_uri": "https://localhost:8080/"
        },
        "id": "ipITyvR4rDvt",
        "outputId": "f8093c8b-53e0-40d9-c5cb-3897f7015a0c"
      },
      "outputs": [
        {
          "data": {
            "text/plain": [
              "array(['Normal', 'MITM', 'Uploading', 'Ransomware', 'SQL_injection',\n",
              "       'DDoS_HTTP', 'DDoS_TCP', 'Password', 'Port_Scanning',\n",
              "       'Vulnerability_scanner', 'Backdoor', 'XSS', 'Fingerprinting',\n",
              "       'DDoS_UDP', 'DDoS_ICMP'], dtype=object)"
            ]
          },
          "execution_count": 36,
          "metadata": {},
          "output_type": "execute_result"
        }
      ],
      "source": [
        "df['Attack_type'].unique()\n"
      ]
    },
    {
      "cell_type": "code",
      "execution_count": null,
      "metadata": {
        "colab": {
          "base_uri": "https://localhost:8080/"
        },
        "id": "-G_m9b3mrIbA",
        "outputId": "34f708b9-4246-4910-fc1d-cf554010094a"
      },
      "outputs": [
        {
          "data": {
            "text/plain": [
              "15"
            ]
          },
          "execution_count": 8,
          "metadata": {},
          "output_type": "execute_result"
        }
      ],
      "source": [
        "df['Attack_type'].nunique()\n"
      ]
    },
    {
      "cell_type": "code",
      "execution_count": null,
      "metadata": {
        "id": "YjP7a3O13p6K"
      },
      "outputs": [],
      "source": [
        "def pie_plot(df, cols_list, rows, cols):\n",
        "    fig, axes = plt.subplots(rows, cols)\n",
        "    for ax, col in zip(axes.ravel(), cols_list):\n",
        "        df[col].value_counts().plot(ax=ax, kind='pie', figsize=(15, 15), fontsize=8, autopct='%1.0f%%')\n",
        "        ax.set_title(str(col), fontsize = 8)\n",
        "    plt.show()"
      ]
    },
    {
      "cell_type": "code",
      "execution_count": null,
      "metadata": {
        "colab": {
          "base_uri": "https://localhost:8080/",
          "height": 1000
        },
        "id": "d90s6ycsJx3S",
        "outputId": "688fc823-6216-41e4-afc3-bd84bf768b54"
      },
      "outputs": [
        {
          "data": {
            "image/png": "[encoded data removed]",
            "text/plain": [
              "<Figure size 1500x1500 with 2 Axes>"
            ]
          },
          "metadata": {},
          "output_type": "display_data"
        }
      ],
      "source": [
        "pie_plot(df, ['Attack_label'], 1, 2)"
      ]
    },
    {
      "cell_type": "code",
      "execution_count": null,
      "metadata": {
        "colab": {
          "base_uri": "https://localhost:8080/",
          "height": 1000
        },
        "id": "dQjnUKUK3tqS",
        "outputId": "a4bc49ee-9fe2-44ae-af19-f9583df90845"
      },
      "outputs": [
        {
          "data": {
            "image/png": "[encoded data removed]",
            "text/plain": [
              "<Figure size 1500x1500 with 2 Axes>"
            ]
          },
          "metadata": {},
          "output_type": "display_data"
        }
      ],
      "source": [
        "#pie_plot(df, ['Attack_type'], 1, 2)"
      ]
    },
    {
      "cell_type": "code",
      "execution_count": null,
      "metadata": {
        "id": "9frCc6mKJw6q"
      },
      "outputs": [],
      "source": []
    },
    {
      "cell_type": "code",
      "execution_count": null,
      "metadata": {
        "id": "knkZNxxhJv6l"
      },
      "outputs": [],
      "source": []
    },
    {
      "cell_type": "code",
      "execution_count": null,
      "metadata": {
        "colab": {
          "base_uri": "https://localhost:8080/",
          "height": 268
        },
        "id": "ALQAFpF5rMz1",
        "outputId": "b2944fcb-2fc9-4a77-f57e-71a7b3e637ad"
      },
      "outputs": [
        {
          "data": {
            "text/plain": [
              "[Text(0.5, 1.0, 'Attacks and subtypes')]"
            ]
          },
          "execution_count": 13,
          "metadata": {},
          "output_type": "execute_result"
        },
        {
          "data": {
            "image/png": "[encoded data removed]",
            "text/plain": [
              "<Figure size 3500x1000 with 1 Axes>"
            ]
          },
          "metadata": {},
          "output_type": "display_data"
        }
      ],
      "source": [
        "plt.figure(figsize=(35,10))\n",
        "sns.countplot(x=df['Attack_type']).set(title='Attacks and subtypes')\n"
      ]
    },
    {
      "cell_type": "code",
      "execution_count": null,
      "metadata": {
        "colab": {
          "base_uri": "https://localhost:8080/"
        },
        "id": "2fzphpzirSMs",
        "outputId": "3f3cf8de-c849-42e4-e8c8-6be4c2f47999"
      },
      "outputs": [
        {
          "name": "stdout",
          "output_type": "stream",
          "text": [
            "<class 'pandas.core.frame.DataFrame'>\n",
            "RangeIndex: 2219201 entries, 0 to 2219200\n",
            "Data columns (total 63 columns):\n",
            " #   Column                     Dtype  \n",
            "---  ------                     -----  \n",
            " 0   frame.time                 object \n",
            " 1   ip.src_host                object \n",
            " 2   ip.dst_host                object \n",
            " 3   arp.dst.proto_ipv4         object \n",
            " 4   arp.opcode                 float64\n",
            " 5   arp.hw.size                float64\n",
            " 6   arp.src.proto_ipv4         object \n",
            " 7   icmp.checksum              float64\n",
            " 8   icmp.seq_le                float64\n",
            " 9   icmp.transmit_timestamp    float64\n",
            " 10  icmp.unused                float64\n",
            " 11  http.file_data             object \n",
            " 12  http.content_length        float64\n",
            " 13  http.request.uri.query     object \n",
            " 14  http.request.method        object \n",
            " 15  http.referer               object \n",
            " 16  http.request.full_uri      object \n",
            " 17  http.request.version       object \n",
            " 18  http.response              float64\n",
            " 19  http.tls_port              float64\n",
            " 20  tcp.ack                    float64\n",
            " 21  tcp.ack_raw                float64\n",
            " 22  tcp.checksum               float64\n",
            " 23  tcp.connection.fin         float64\n",
            " 24  tcp.connection.rst         float64\n",
            " 25  tcp.connection.syn         float64\n",
            " 26  tcp.connection.synack      float64\n",
            " 27  tcp.dstport                float64\n",
            " 28  tcp.flags                  float64\n",
            " 29  tcp.flags.ack              float64\n",
            " 30  tcp.len                    float64\n",
            " 31  tcp.options                object \n",
            " 32  tcp.payload                object \n",
            " 33  tcp.seq                    float64\n",
            " 34  tcp.srcport                object \n",
            " 35  udp.port                   float64\n",
            " 36  udp.stream                 float64\n",
            " 37  udp.time_delta             float64\n",
            " 38  dns.qry.name               float64\n",
            " 39  dns.qry.name.len           object \n",
            " 40  dns.qry.qu                 float64\n",
            " 41  dns.qry.type               float64\n",
            " 42  dns.retransmission         float64\n",
            " 43  dns.retransmit_request     float64\n",
            " 44  dns.retransmit_request_in  float64\n",
            " 45  mqtt.conack.flags          object \n",
            " 46  mqtt.conflag.cleansess     float64\n",
            " 47  mqtt.conflags              float64\n",
            " 48  mqtt.hdrflags              float64\n",
            " 49  mqtt.len                   float64\n",
            " 50  mqtt.msg_decoded_as        float64\n",
            " 51  mqtt.msg                   object \n",
            " 52  mqtt.msgtype               float64\n",
            " 53  mqtt.proto_len             float64\n",
            " 54  mqtt.protoname             object \n",
            " 55  mqtt.topic                 object \n",
            " 56  mqtt.topic_len             float64\n",
            " 57  mqtt.ver                   float64\n",
            " 58  mbtcp.len                  float64\n",
            " 59  mbtcp.trans_id             float64\n",
            " 60  mbtcp.unit_id              float64\n",
            " 61  Attack_label               int64  \n",
            " 62  Attack_type                object \n",
            "dtypes: float64(42), int64(1), object(20)\n",
            "memory usage: 1.0+ GB\n"
          ]
        }
      ],
      "source": [
        "df.info()\n"
      ]
    },
    {
      "cell_type": "markdown",
      "metadata": {
        "id": "wk0J3jVhrYT0"
      },
      "source": [
        "**Preprocessing**"
      ]
    },
    {
      "cell_type": "code",
      "execution_count": null,
      "metadata": {
        "id": "KMfc1Gyy_w8h"
      },
      "outputs": [],
      "source": [
        "from sklearn.preprocessing import RobustScaler"
      ]
    },
    {
      "cell_type": "code",
      "execution_count": null,
      "metadata": {
        "colab": {
          "base_uri": "https://localhost:8080/"
        },
        "id": "copf8qcLrZTc",
        "outputId": "ac843f78-b191-4402-d646-98de58fabdb4"
      },
      "outputs": [
        {
          "output_type": "stream",
          "name": "stdout",
          "text": [
            "0    1380858\n",
            "1     545052\n",
            "Name: Attack_label, dtype: int64\n"
          ]
        }
      ],
      "source": [
        "# Import necessary libraries\n",
        "\n",
        "from sklearn.utils import shuffle\n",
        "\n",
        "# Define a list of columns to be dropped from the DataFrame\n",
        "drop_columns = [\"Attack_type\", \"frame.time\", \"ip.src_host\", \"ip.dst_host\", \"arp.src.proto_ipv4\",\n",
        "                \"arp.dst.proto_ipv4\", \"http.file_data\", \"http.request.full_uri\", \"icmp.transmit_timestamp\",\n",
        "                \"http.request.uri.query\", \"tcp.options\", \"tcp.payload\", \"tcp.srcport\",\n",
        "                \"tcp.dstport\", \"udp.port\", \"mqtt.msg\"]\n",
        "# Drop the specified columns from the DataFrame\n",
        "df.drop(drop_columns, axis=1, inplace=True)\n",
        "# Remove rows with any missing (NaN) values from the DataFrame\n",
        "df.dropna(axis=0, how='any', inplace=True)\n",
        "# Remove duplicate rows from the DataFrame, keeping only the first occurrence\n",
        "df.drop_duplicates(subset=None, keep=\"first\", inplace=True)\n",
        "# Shuffle the rows of the DataFrame to introduce randomness\n",
        "df = shuffle(df)\n",
        "# Check for missing values in the DataFrame and display the counts per column\n",
        "df.isna().sum()\n",
        "# Display the count of unique values in the 'Attack_label' column\n",
        "print(df['Attack_label'].value_counts())"
      ]
    },
    {
      "cell_type": "code",
      "execution_count": null,
      "metadata": {
        "id": "KS2jxmkkgevK"
      },
      "outputs": [],
      "source": []
    },
    {
      "cell_type": "code",
      "execution_count": null,
      "metadata": {
        "colab": {
          "base_uri": "https://localhost:8080/"
        },
        "id": "Z0mucBXbKy8W",
        "outputId": "50ffef73-cf1d-4d37-9a11-8b76565fa11e"
      },
      "outputs": [
        {
          "name": "stdout",
          "output_type": "stream",
          "text": [
            "<class 'pandas.core.frame.DataFrame'>\n",
            "Int64Index: 1925910 entries, 1660909 to 276264\n",
            "Data columns (total 47 columns):\n",
            " #   Column                     Dtype  \n",
            "---  ------                     -----  \n",
            " 0   arp.opcode                 float64\n",
            " 1   arp.hw.size                float64\n",
            " 2   icmp.checksum              float64\n",
            " 3   icmp.seq_le                float64\n",
            " 4   icmp.unused                float64\n",
            " 5   http.content_length        float64\n",
            " 6   http.request.method        object \n",
            " 7   http.referer               object \n",
            " 8   http.request.version       object \n",
            " 9   http.response              float64\n",
            " 10  http.tls_port              float64\n",
            " 11  tcp.ack                    float64\n",
            " 12  tcp.ack_raw                float64\n",
            " 13  tcp.checksum               float64\n",
            " 14  tcp.connection.fin         float64\n",
            " 15  tcp.connection.rst         float64\n",
            " 16  tcp.connection.syn         float64\n",
            " 17  tcp.connection.synack      float64\n",
            " 18  tcp.flags                  float64\n",
            " 19  tcp.flags.ack              float64\n",
            " 20  tcp.len                    float64\n",
            " 21  tcp.seq                    float64\n",
            " 22  udp.stream                 float64\n",
            " 23  udp.time_delta             float64\n",
            " 24  dns.qry.name               float64\n",
            " 25  dns.qry.name.len           object \n",
            " 26  dns.qry.qu                 float64\n",
            " 27  dns.qry.type               float64\n",
            " 28  dns.retransmission         float64\n",
            " 29  dns.retransmit_request     float64\n",
            " 30  dns.retransmit_request_in  float64\n",
            " 31  mqtt.conack.flags          object \n",
            " 32  mqtt.conflag.cleansess     float64\n",
            " 33  mqtt.conflags              float64\n",
            " 34  mqtt.hdrflags              float64\n",
            " 35  mqtt.len                   float64\n",
            " 36  mqtt.msg_decoded_as        float64\n",
            " 37  mqtt.msgtype               float64\n",
            " 38  mqtt.proto_len             float64\n",
            " 39  mqtt.protoname             object \n",
            " 40  mqtt.topic                 object \n",
            " 41  mqtt.topic_len             float64\n",
            " 42  mqtt.ver                   float64\n",
            " 43  mbtcp.len                  float64\n",
            " 44  mbtcp.trans_id             float64\n",
            " 45  mbtcp.unit_id              float64\n",
            " 46  Attack_label               int64  \n",
            "dtypes: float64(39), int64(1), object(7)\n",
            "memory usage: 705.3+ MB\n"
          ]
        }
      ],
      "source": [
        "df.info()"
      ]
    },
    {
      "cell_type": "code",
      "execution_count": null,
      "metadata": {
        "id": "ayRr6JMurUqM"
      },
      "outputs": [],
      "source": [
        "import numpy as np\n",
        "\n",
        "from sklearn.model_selection import train_test_split\n",
        "\n",
        "from sklearn.preprocessing import StandardScaler\n",
        "\n",
        "from sklearn import preprocessing\n",
        "\n",
        "# Define a function to perform one-hot encoding on categorical columns\n",
        "def encode_text_dummy(df, name):\n",
        "    # Use pd.get_dummies to create dummy variables for the specified column 'name'\n",
        "    dummies = pd.get_dummies(df[name])\n",
        "    # Iterate through the generated dummy columns and rename them to include the original column name\n",
        "    for x in dummies.columns:\n",
        "        dummy_name = f\"{name}-{x}\"\n",
        "        df[dummy_name] = dummies[x]\n",
        "    # Remove the original column 'name' from the DataFrame\n",
        "    df.drop(name, axis=1, inplace=True)\n",
        "# Apply the 'encode_text_dummy' function to one-hot encode several categorical columns in the 'df' DataFrame\n",
        "encode_text_dummy(df,'http.request.method')\n",
        "\n",
        "encode_text_dummy(df,'http.referer')\n",
        "\n",
        "encode_text_dummy(df,\"http.request.version\")\n",
        "\n",
        "encode_text_dummy(df,\"dns.qry.name.len\")\n",
        "\n",
        "encode_text_dummy(df,\"mqtt.conack.flags\")\n",
        "\n",
        "encode_text_dummy(df,\"mqtt.protoname\")\n",
        "\n",
        "encode_text_dummy(df,\"mqtt.topic\")"
      ]
    },
    {
      "cell_type": "code",
      "execution_count": null,
      "metadata": {
        "colab": {
          "base_uri": "https://localhost:8080/",
          "height": 461
        },
        "id": "MkNtxVk9roLk",
        "outputId": "ccb130c8-b135-445f-d189-30ab0d17a3fb"
      },
      "outputs": [
        {
          "data": {
            "text/html": [
              "\n",
              "  <div id=\"df-834cda8a-20a9-482b-8258-c444850d0230\" class=\"colab-df-container\">\n",
              "    <div>\n",
              "<style scoped>\n",
              "    .dataframe tbody tr th:only-of-type {\n",
              "        vertical-align: middle;\n",
              "    }\n",
              "\n",
              "    .dataframe tbody tr th {\n",
              "        vertical-align: top;\n",
              "    }\n",
              "\n",
              "    .dataframe thead th {\n",
              "        text-align: right;\n",
              "    }\n",
              "</style>\n",
              "<table border=\"1\" class=\"dataframe\">\n",
              "  <thead>\n",
              "    <tr style=\"text-align: right;\">\n",
              "      <th></th>\n",
              "      <th>arp.opcode</th>\n",
              "      <th>arp.hw.size</th>\n",
              "      <th>icmp.checksum</th>\n",
              "      <th>icmp.seq_le</th>\n",
              "      <th>icmp.unused</th>\n",
              "      <th>http.content_length</th>\n",
              "      <th>http.response</th>\n",
              "      <th>http.tls_port</th>\n",
              "      <th>tcp.ack</th>\n",
              "      <th>tcp.ack_raw</th>\n",
              "      <th>...</th>\n",
              "      <th>mqtt.conack.flags-1471198</th>\n",
              "      <th>mqtt.conack.flags-1471199</th>\n",
              "      <th>mqtt.conack.flags-1574358</th>\n",
              "      <th>mqtt.conack.flags-1574359</th>\n",
              "      <th>mqtt.protoname-0.0</th>\n",
              "      <th>mqtt.protoname-0</th>\n",
              "      <th>mqtt.protoname-MQTT</th>\n",
              "      <th>mqtt.topic-0.0</th>\n",
              "      <th>mqtt.topic-0</th>\n",
              "      <th>mqtt.topic-Temperature_and_Humidity</th>\n",
              "    </tr>\n",
              "  </thead>\n",
              "  <tbody>\n",
              "    <tr>\n",
              "      <th>1245344</th>\n",
              "      <td>0.0</td>\n",
              "      <td>0.0</td>\n",
              "      <td>0.0</td>\n",
              "      <td>0.0</td>\n",
              "      <td>0.0</td>\n",
              "      <td>0.0</td>\n",
              "      <td>0.0</td>\n",
              "      <td>0.0</td>\n",
              "      <td>6.000000e+00</td>\n",
              "      <td>2.162137e+09</td>\n",
              "      <td>...</td>\n",
              "      <td>0</td>\n",
              "      <td>0</td>\n",
              "      <td>0</td>\n",
              "      <td>0</td>\n",
              "      <td>0</td>\n",
              "      <td>1</td>\n",
              "      <td>0</td>\n",
              "      <td>0</td>\n",
              "      <td>1</td>\n",
              "      <td>0</td>\n",
              "    </tr>\n",
              "    <tr>\n",
              "      <th>846930</th>\n",
              "      <td>0.0</td>\n",
              "      <td>0.0</td>\n",
              "      <td>0.0</td>\n",
              "      <td>0.0</td>\n",
              "      <td>0.0</td>\n",
              "      <td>0.0</td>\n",
              "      <td>0.0</td>\n",
              "      <td>0.0</td>\n",
              "      <td>1.000000e+00</td>\n",
              "      <td>7.432731e+08</td>\n",
              "      <td>...</td>\n",
              "      <td>0</td>\n",
              "      <td>0</td>\n",
              "      <td>0</td>\n",
              "      <td>0</td>\n",
              "      <td>0</td>\n",
              "      <td>1</td>\n",
              "      <td>0</td>\n",
              "      <td>0</td>\n",
              "      <td>1</td>\n",
              "      <td>0</td>\n",
              "    </tr>\n",
              "    <tr>\n",
              "      <th>1769152</th>\n",
              "      <td>0.0</td>\n",
              "      <td>0.0</td>\n",
              "      <td>0.0</td>\n",
              "      <td>0.0</td>\n",
              "      <td>0.0</td>\n",
              "      <td>0.0</td>\n",
              "      <td>0.0</td>\n",
              "      <td>0.0</td>\n",
              "      <td>1.210000e+02</td>\n",
              "      <td>1.061562e+09</td>\n",
              "      <td>...</td>\n",
              "      <td>0</td>\n",
              "      <td>0</td>\n",
              "      <td>0</td>\n",
              "      <td>0</td>\n",
              "      <td>0</td>\n",
              "      <td>0</td>\n",
              "      <td>0</td>\n",
              "      <td>0</td>\n",
              "      <td>0</td>\n",
              "      <td>0</td>\n",
              "    </tr>\n",
              "    <tr>\n",
              "      <th>1867520</th>\n",
              "      <td>0.0</td>\n",
              "      <td>0.0</td>\n",
              "      <td>0.0</td>\n",
              "      <td>0.0</td>\n",
              "      <td>0.0</td>\n",
              "      <td>0.0</td>\n",
              "      <td>0.0</td>\n",
              "      <td>0.0</td>\n",
              "      <td>1.996611e+09</td>\n",
              "      <td>1.996611e+09</td>\n",
              "      <td>...</td>\n",
              "      <td>0</td>\n",
              "      <td>0</td>\n",
              "      <td>0</td>\n",
              "      <td>0</td>\n",
              "      <td>0</td>\n",
              "      <td>0</td>\n",
              "      <td>0</td>\n",
              "      <td>0</td>\n",
              "      <td>0</td>\n",
              "      <td>0</td>\n",
              "    </tr>\n",
              "    <tr>\n",
              "      <th>565930</th>\n",
              "      <td>0.0</td>\n",
              "      <td>0.0</td>\n",
              "      <td>0.0</td>\n",
              "      <td>0.0</td>\n",
              "      <td>0.0</td>\n",
              "      <td>0.0</td>\n",
              "      <td>0.0</td>\n",
              "      <td>0.0</td>\n",
              "      <td>3.460890e+05</td>\n",
              "      <td>2.371971e+09</td>\n",
              "      <td>...</td>\n",
              "      <td>0</td>\n",
              "      <td>0</td>\n",
              "      <td>0</td>\n",
              "      <td>0</td>\n",
              "      <td>0</td>\n",
              "      <td>1</td>\n",
              "      <td>0</td>\n",
              "      <td>0</td>\n",
              "      <td>1</td>\n",
              "      <td>0</td>\n",
              "    </tr>\n",
              "    <tr>\n",
              "      <th>...</th>\n",
              "      <td>...</td>\n",
              "      <td>...</td>\n",
              "      <td>...</td>\n",
              "      <td>...</td>\n",
              "      <td>...</td>\n",
              "      <td>...</td>\n",
              "      <td>...</td>\n",
              "      <td>...</td>\n",
              "      <td>...</td>\n",
              "      <td>...</td>\n",
              "      <td>...</td>\n",
              "      <td>...</td>\n",
              "      <td>...</td>\n",
              "      <td>...</td>\n",
              "      <td>...</td>\n",
              "      <td>...</td>\n",
              "      <td>...</td>\n",
              "      <td>...</td>\n",
              "      <td>...</td>\n",
              "      <td>...</td>\n",
              "      <td>...</td>\n",
              "    </tr>\n",
              "    <tr>\n",
              "      <th>1378884</th>\n",
              "      <td>0.0</td>\n",
              "      <td>0.0</td>\n",
              "      <td>0.0</td>\n",
              "      <td>0.0</td>\n",
              "      <td>0.0</td>\n",
              "      <td>0.0</td>\n",
              "      <td>0.0</td>\n",
              "      <td>0.0</td>\n",
              "      <td>1.500000e+01</td>\n",
              "      <td>1.011134e+09</td>\n",
              "      <td>...</td>\n",
              "      <td>0</td>\n",
              "      <td>0</td>\n",
              "      <td>0</td>\n",
              "      <td>0</td>\n",
              "      <td>0</td>\n",
              "      <td>1</td>\n",
              "      <td>0</td>\n",
              "      <td>0</td>\n",
              "      <td>1</td>\n",
              "      <td>0</td>\n",
              "    </tr>\n",
              "    <tr>\n",
              "      <th>820847</th>\n",
              "      <td>0.0</td>\n",
              "      <td>0.0</td>\n",
              "      <td>0.0</td>\n",
              "      <td>0.0</td>\n",
              "      <td>0.0</td>\n",
              "      <td>0.0</td>\n",
              "      <td>0.0</td>\n",
              "      <td>0.0</td>\n",
              "      <td>1.000000e+00</td>\n",
              "      <td>3.231173e+09</td>\n",
              "      <td>...</td>\n",
              "      <td>0</td>\n",
              "      <td>0</td>\n",
              "      <td>0</td>\n",
              "      <td>0</td>\n",
              "      <td>0</td>\n",
              "      <td>1</td>\n",
              "      <td>0</td>\n",
              "      <td>0</td>\n",
              "      <td>1</td>\n",
              "      <td>0</td>\n",
              "    </tr>\n",
              "    <tr>\n",
              "      <th>588284</th>\n",
              "      <td>0.0</td>\n",
              "      <td>0.0</td>\n",
              "      <td>0.0</td>\n",
              "      <td>0.0</td>\n",
              "      <td>0.0</td>\n",
              "      <td>0.0</td>\n",
              "      <td>0.0</td>\n",
              "      <td>0.0</td>\n",
              "      <td>1.056987e+08</td>\n",
              "      <td>1.244551e+09</td>\n",
              "      <td>...</td>\n",
              "      <td>0</td>\n",
              "      <td>0</td>\n",
              "      <td>0</td>\n",
              "      <td>0</td>\n",
              "      <td>0</td>\n",
              "      <td>1</td>\n",
              "      <td>0</td>\n",
              "      <td>0</td>\n",
              "      <td>1</td>\n",
              "      <td>0</td>\n",
              "    </tr>\n",
              "    <tr>\n",
              "      <th>1247488</th>\n",
              "      <td>0.0</td>\n",
              "      <td>0.0</td>\n",
              "      <td>0.0</td>\n",
              "      <td>0.0</td>\n",
              "      <td>0.0</td>\n",
              "      <td>0.0</td>\n",
              "      <td>0.0</td>\n",
              "      <td>0.0</td>\n",
              "      <td>0.000000e+00</td>\n",
              "      <td>0.000000e+00</td>\n",
              "      <td>...</td>\n",
              "      <td>0</td>\n",
              "      <td>0</td>\n",
              "      <td>0</td>\n",
              "      <td>0</td>\n",
              "      <td>0</td>\n",
              "      <td>1</td>\n",
              "      <td>0</td>\n",
              "      <td>0</td>\n",
              "      <td>1</td>\n",
              "      <td>0</td>\n",
              "    </tr>\n",
              "    <tr>\n",
              "      <th>30057</th>\n",
              "      <td>0.0</td>\n",
              "      <td>0.0</td>\n",
              "      <td>0.0</td>\n",
              "      <td>0.0</td>\n",
              "      <td>0.0</td>\n",
              "      <td>0.0</td>\n",
              "      <td>0.0</td>\n",
              "      <td>0.0</td>\n",
              "      <td>5.600000e+01</td>\n",
              "      <td>4.195091e+08</td>\n",
              "      <td>...</td>\n",
              "      <td>0</td>\n",
              "      <td>0</td>\n",
              "      <td>0</td>\n",
              "      <td>0</td>\n",
              "      <td>0</td>\n",
              "      <td>1</td>\n",
              "      <td>0</td>\n",
              "      <td>0</td>\n",
              "      <td>1</td>\n",
              "      <td>0</td>\n",
              "    </tr>\n",
              "  </tbody>\n",
              "</table>\n",
              "<p>1925910 rows × 96 columns</p>\n",
              "</div>\n",
              "    <div class=\"colab-df-buttons\">\n",
              "\n",
              "  <div class=\"colab-df-container\">\n",
              "    <button class=\"colab-df-convert\" onclick=\"convertToInteractive('df-834cda8a-20a9-482b-8258-c444850d0230')\"\n",
              "            title=\"Convert this dataframe to an interactive table.\"\n",
              "            style=\"display:none;\">\n",
              "\n",
              "  <svg xmlns=\"http://www.w3.org/2000/svg\" height=\"24px\" viewBox=\"0 -960 960 960\">\n",
              "    <path d=\"M120-120v-720h720v720H120Zm60-500h600v-160H180v160Zm220 220h160v-160H400v160Zm0 220h160v-160H400v160ZM180-400h160v-160H180v160Zm440 0h160v-160H620v160ZM180-180h160v-160H180v160Zm440 0h160v-160H620v160Z\"/>\n",
              "  </svg>\n",
              "    </button>\n",
              "\n",
              "  <style>\n",
              "    .colab-df-container {\n",
              "      display:flex;\n",
              "      gap: 12px;\n",
              "    }\n",
              "\n",
              "    .colab-df-convert {\n",
              "      background-color: #E8F0FE;\n",
              "      border: none;\n",
              "      border-radius: 50%;\n",
              "      cursor: pointer;\n",
              "      display: none;\n",
              "      fill: #1967D2;\n",
              "      height: 32px;\n",
              "      padding: 0 0 0 0;\n",
              "      width: 32px;\n",
              "    }\n",
              "\n",
              "    .colab-df-convert:hover {\n",
              "      background-color: #E2EBFA;\n",
              "      box-shadow: 0px 1px 2px rgba(60, 64, 67, 0.3), 0px 1px 3px 1px rgba(60, 64, 67, 0.15);\n",
              "      fill: #174EA6;\n",
              "    }\n",
              "\n",
              "    .colab-df-buttons div {\n",
              "      margin-bottom: 4px;\n",
              "    }\n",
              "\n",
              "    [theme=dark] .colab-df-convert {\n",
              "      background-color: #3B4455;\n",
              "      fill: #D2E3FC;\n",
              "    }\n",
              "\n",
              "    [theme=dark] .colab-df-convert:hover {\n",
              "      background-color: #434B5C;\n",
              "      box-shadow: 0px 1px 3px 1px rgba(0, 0, 0, 0.15);\n",
              "      filter: drop-shadow(0px 1px 2px rgba(0, 0, 0, 0.3));\n",
              "      fill: #FFFFFF;\n",
              "    }\n",
              "  </style>\n",
              "\n",
              "    <script>\n",
              "      const buttonEl =\n",
              "        document.querySelector('#df-834cda8a-20a9-482b-8258-c444850d0230 button.colab-df-convert');\n",
              "      buttonEl.style.display =\n",
              "        google.colab.kernel.accessAllowed ? 'block' : 'none';\n",
              "\n",
              "      async function convertToInteractive(key) {\n",
              "        const element = document.querySelector('#df-834cda8a-20a9-482b-8258-c444850d0230');\n",
              "        const dataTable =\n",
              "          await google.colab.kernel.invokeFunction('convertToInteractive',\n",
              "                                                    [key], {});\n",
              "        if (!dataTable) return;\n",
              "\n",
              "        const docLinkHtml = 'Like what you see? Visit the ' +\n",
              "          '<a target=\"_blank\" href=https://colab.research.google.com/notebooks/data_table.ipynb>data table notebook</a>'\n",
              "          + ' to learn more about interactive tables.';\n",
              "        element.innerHTML = '';\n",
              "        dataTable['output_type'] = 'display_data';\n",
              "        await google.colab.output.renderOutput(dataTable, element);\n",
              "        const docLink = document.createElement('div');\n",
              "        docLink.innerHTML = docLinkHtml;\n",
              "        element.appendChild(docLink);\n",
              "      }\n",
              "    </script>\n",
              "  </div>\n",
              "\n",
              "\n",
              "<div id=\"df-39d67ffe-e12f-4ccc-a8d2-3d7e11b1c961\">\n",
              "  <button class=\"colab-df-quickchart\" onclick=\"quickchart('df-39d67ffe-e12f-4ccc-a8d2-3d7e11b1c961')\"\n",
              "            title=\"Suggest charts\"\n",
              "            style=\"display:none;\">\n",
              "\n",
              "<svg xmlns=\"http://www.w3.org/2000/svg\" height=\"24px\"viewBox=\"0 0 24 24\"\n",
              "     width=\"24px\">\n",
              "    <g>\n",
              "        <path d=\"M19 3H5c-1.1 0-2 .9-2 2v14c0 1.1.9 2 2 2h14c1.1 0 2-.9 2-2V5c0-1.1-.9-2-2-2zM9 17H7v-7h2v7zm4 0h-2V7h2v10zm4 0h-2v-4h2v4z\"/>\n",
              "    </g>\n",
              "</svg>\n",
              "  </button>\n",
              "\n",
              "<style>\n",
              "  .colab-df-quickchart {\n",
              "      --bg-color: #E8F0FE;\n",
              "      --fill-color: #1967D2;\n",
              "      --hover-bg-color: #E2EBFA;\n",
              "      --hover-fill-color: #174EA6;\n",
              "      --disabled-fill-color: #AAA;\n",
              "      --disabled-bg-color: #DDD;\n",
              "  }\n",
              "\n",
              "  [theme=dark] .colab-df-quickchart {\n",
              "      --bg-color: #3B4455;\n",
              "      --fill-color: #D2E3FC;\n",
              "      --hover-bg-color: #434B5C;\n",
              "      --hover-fill-color: #FFFFFF;\n",
              "      --disabled-bg-color: #3B4455;\n",
              "      --disabled-fill-color: #666;\n",
              "  }\n",
              "\n",
              "  .colab-df-quickchart {\n",
              "    background-color: var(--bg-color);\n",
              "    border: none;\n",
              "    border-radius: 50%;\n",
              "    cursor: pointer;\n",
              "    display: none;\n",
              "    fill: var(--fill-color);\n",
              "    height: 32px;\n",
              "    padding: 0;\n",
              "    width: 32px;\n",
              "  }\n",
              "\n",
              "  .colab-df-quickchart:hover {\n",
              "    background-color: var(--hover-bg-color);\n",
              "    box-shadow: 0 1px 2px rgba(60, 64, 67, 0.3), 0 1px 3px 1px rgba(60, 64, 67, 0.15);\n",
              "    fill: var(--button-hover-fill-color);\n",
              "  }\n",
              "\n",
              "  .colab-df-quickchart-complete:disabled,\n",
              "  .colab-df-quickchart-complete:disabled:hover {\n",
              "    background-color: var(--disabled-bg-color);\n",
              "    fill: var(--disabled-fill-color);\n",
              "    box-shadow: none;\n",
              "  }\n",
              "\n",
              "  .colab-df-spinner {\n",
              "    border: 2px solid var(--fill-color);\n",
              "    border-color: transparent;\n",
              "    border-bottom-color: var(--fill-color);\n",
              "    animation:\n",
              "      spin 1s steps(1) infinite;\n",
              "  }\n",
              "\n",
              "  @keyframes spin {\n",
              "    0% {\n",
              "      border-color: transparent;\n",
              "      border-bottom-color: var(--fill-color);\n",
              "      border-left-color: var(--fill-color);\n",
              "    }\n",
              "    20% {\n",
              "      border-color: transparent;\n",
              "      border-left-color: var(--fill-color);\n",
              "      border-top-color: var(--fill-color);\n",
              "    }\n",
              "    30% {\n",
              "      border-color: transparent;\n",
              "      border-left-color: var(--fill-color);\n",
              "      border-top-color: var(--fill-color);\n",
              "      border-right-color: var(--fill-color);\n",
              "    }\n",
              "    40% {\n",
              "      border-color: transparent;\n",
              "      border-right-color: var(--fill-color);\n",
              "      border-top-color: var(--fill-color);\n",
              "    }\n",
              "    60% {\n",
              "      border-color: transparent;\n",
              "      border-right-color: var(--fill-color);\n",
              "    }\n",
              "    80% {\n",
              "      border-color: transparent;\n",
              "      border-right-color: var(--fill-color);\n",
              "      border-bottom-color: var(--fill-color);\n",
              "    }\n",
              "    90% {\n",
              "      border-color: transparent;\n",
              "      border-bottom-color: var(--fill-color);\n",
              "    }\n",
              "  }\n",
              "</style>\n",
              "\n",
              "  <script>\n",
              "    async function quickchart(key) {\n",
              "      const quickchartButtonEl =\n",
              "        document.querySelector('#' + key + ' button');\n",
              "      quickchartButtonEl.disabled = true;  // To prevent multiple clicks.\n",
              "      quickchartButtonEl.classList.add('colab-df-spinner');\n",
              "      try {\n",
              "        const charts = await google.colab.kernel.invokeFunction(\n",
              "            'suggestCharts', [key], {});\n",
              "      } catch (error) {\n",
              "        console.error('Error during call to suggestCharts:', error);\n",
              "      }\n",
              "      quickchartButtonEl.classList.remove('colab-df-spinner');\n",
              "      quickchartButtonEl.classList.add('colab-df-quickchart-complete');\n",
              "    }\n",
              "    (() => {\n",
              "      let quickchartButtonEl =\n",
              "        document.querySelector('#df-39d67ffe-e12f-4ccc-a8d2-3d7e11b1c961 button');\n",
              "      quickchartButtonEl.style.display =\n",
              "        google.colab.kernel.accessAllowed ? 'block' : 'none';\n",
              "    })();\n",
              "  </script>\n",
              "</div>\n",
              "\n",
              "  <div id=\"id_a791aea9-588f-4302-9eed-c49967102164\">\n",
              "    <style>\n",
              "      .colab-df-generate {\n",
              "        background-color: #E8F0FE;\n",
              "        border: none;\n",
              "        border-radius: 50%;\n",
              "        cursor: pointer;\n",
              "        display: none;\n",
              "        fill: #1967D2;\n",
              "        height: 32px;\n",
              "        padding: 0 0 0 0;\n",
              "        width: 32px;\n",
              "      }\n",
              "\n",
              "      .colab-df-generate:hover {\n",
              "        background-color: #E2EBFA;\n",
              "        box-shadow: 0px 1px 2px rgba(60, 64, 67, 0.3), 0px 1px 3px 1px rgba(60, 64, 67, 0.15);\n",
              "        fill: #174EA6;\n",
              "      }\n",
              "\n",
              "      [theme=dark] .colab-df-generate {\n",
              "        background-color: #3B4455;\n",
              "        fill: #D2E3FC;\n",
              "      }\n",
              "\n",
              "      [theme=dark] .colab-df-generate:hover {\n",
              "        background-color: #434B5C;\n",
              "        box-shadow: 0px 1px 3px 1px rgba(0, 0, 0, 0.15);\n",
              "        filter: drop-shadow(0px 1px 2px rgba(0, 0, 0, 0.3));\n",
              "        fill: #FFFFFF;\n",
              "      }\n",
              "    </style>\n",
              "    <button class=\"colab-df-generate\" onclick=\"generateWithVariable('df')\"\n",
              "            title=\"Generate code using this dataframe.\"\n",
              "            style=\"display:none;\">\n",
              "\n",
              "  <svg xmlns=\"http://www.w3.org/2000/svg\" height=\"24px\"viewBox=\"0 0 24 24\"\n",
              "       width=\"24px\">\n",
              "    <path d=\"M7,19H8.4L18.45,9,17,7.55,7,17.6ZM5,21V16.75L18.45,3.32a2,2,0,0,1,2.83,0l1.4,1.43a1.91,1.91,0,0,1,.58,1.4,1.91,1.91,0,0,1-.58,1.4L9.25,21ZM18.45,9,17,7.55Zm-12,3A5.31,5.31,0,0,0,4.9,8.1,5.31,5.31,0,0,0,1,6.5,5.31,5.31,0,0,0,4.9,4.9,5.31,5.31,0,0,0,6.5,1,5.31,5.31,0,0,0,8.1,4.9,5.31,5.31,0,0,0,12,6.5,5.46,5.46,0,0,0,6.5,12Z\"/>\n",
              "  </svg>\n",
              "    </button>\n",
              "    <script>\n",
              "      (() => {\n",
              "      const buttonEl =\n",
              "        document.querySelector('#id_a791aea9-588f-4302-9eed-c49967102164 button.colab-df-generate');\n",
              "      buttonEl.style.display =\n",
              "        google.colab.kernel.accessAllowed ? 'block' : 'none';\n",
              "\n",
              "      buttonEl.onclick = () => {\n",
              "        google.colab.notebook.generateWithVariable('df');\n",
              "      }\n",
              "      })();\n",
              "    </script>\n",
              "  </div>\n",
              "\n",
              "    </div>\n",
              "  </div>\n"
            ],
            "text/plain": [
              "         arp.opcode  arp.hw.size  icmp.checksum  icmp.seq_le  icmp.unused  \\\n",
              "1245344         0.0          0.0            0.0          0.0          0.0   \n",
              "846930          0.0          0.0            0.0          0.0          0.0   \n",
              "1769152         0.0          0.0            0.0          0.0          0.0   \n",
              "1867520         0.0          0.0            0.0          0.0          0.0   \n",
              "565930          0.0          0.0            0.0          0.0          0.0   \n",
              "...             ...          ...            ...          ...          ...   \n",
              "1378884         0.0          0.0            0.0          0.0          0.0   \n",
              "820847          0.0          0.0            0.0          0.0          0.0   \n",
              "588284          0.0          0.0            0.0          0.0          0.0   \n",
              "1247488         0.0          0.0            0.0          0.0          0.0   \n",
              "30057           0.0          0.0            0.0          0.0          0.0   \n",
              "\n",
              "         http.content_length  http.response  http.tls_port       tcp.ack  \\\n",
              "1245344                  0.0            0.0            0.0  6.000000e+00   \n",
              "846930                   0.0            0.0            0.0  1.000000e+00   \n",
              "1769152                  0.0            0.0            0.0  1.210000e+02   \n",
              "1867520                  0.0            0.0            0.0  1.996611e+09   \n",
              "565930                   0.0            0.0            0.0  3.460890e+05   \n",
              "...                      ...            ...            ...           ...   \n",
              "1378884                  0.0            0.0            0.0  1.500000e+01   \n",
              "820847                   0.0            0.0            0.0  1.000000e+00   \n",
              "588284                   0.0            0.0            0.0  1.056987e+08   \n",
              "1247488                  0.0            0.0            0.0  0.000000e+00   \n",
              "30057                    0.0            0.0            0.0  5.600000e+01   \n",
              "\n",
              "          tcp.ack_raw  ...  mqtt.conack.flags-1471198  \\\n",
              "1245344  2.162137e+09  ...                          0   \n",
              "846930   7.432731e+08  ...                          0   \n",
              "1769152  1.061562e+09  ...                          0   \n",
              "1867520  1.996611e+09  ...                          0   \n",
              "565930   2.371971e+09  ...                          0   \n",
              "...               ...  ...                        ...   \n",
              "1378884  1.011134e+09  ...                          0   \n",
              "820847   3.231173e+09  ...                          0   \n",
              "588284   1.244551e+09  ...                          0   \n",
              "1247488  0.000000e+00  ...                          0   \n",
              "30057    4.195091e+08  ...                          0   \n",
              "\n",
              "         mqtt.conack.flags-1471199  mqtt.conack.flags-1574358  \\\n",
              "1245344                          0                          0   \n",
              "846930                           0                          0   \n",
              "1769152                          0                          0   \n",
              "1867520                          0                          0   \n",
              "565930                           0                          0   \n",
              "...                            ...                        ...   \n",
              "1378884                          0                          0   \n",
              "820847                           0                          0   \n",
              "588284                           0                          0   \n",
              "1247488                          0                          0   \n",
              "30057                            0                          0   \n",
              "\n",
              "         mqtt.conack.flags-1574359  mqtt.protoname-0.0  mqtt.protoname-0  \\\n",
              "1245344                          0                   0                 1   \n",
              "846930                           0                   0                 1   \n",
              "1769152                          0                   0                 0   \n",
              "1867520                          0                   0                 0   \n",
              "565930                           0                   0                 1   \n",
              "...                            ...                 ...               ...   \n",
              "1378884                          0                   0                 1   \n",
              "820847                           0                   0                 1   \n",
              "588284                           0                   0                 1   \n",
              "1247488                          0                   0                 1   \n",
              "30057                            0                   0                 1   \n",
              "\n",
              "         mqtt.protoname-MQTT  mqtt.topic-0.0  mqtt.topic-0  \\\n",
              "1245344                    0               0             1   \n",
              "846930                     0               0             1   \n",
              "1769152                    0               0             0   \n",
              "1867520                    0               0             0   \n",
              "565930                     0               0             1   \n",
              "...                      ...             ...           ...   \n",
              "1378884                    0               0             1   \n",
              "820847                     0               0             1   \n",
              "588284                     0               0             1   \n",
              "1247488                    0               0             1   \n",
              "30057                      0               0             1   \n",
              "\n",
              "         mqtt.topic-Temperature_and_Humidity  \n",
              "1245344                                    0  \n",
              "846930                                     0  \n",
              "1769152                                    0  \n",
              "1867520                                    0  \n",
              "565930                                     0  \n",
              "...                                      ...  \n",
              "1378884                                    0  \n",
              "820847                                     0  \n",
              "588284                                     0  \n",
              "1247488                                    0  \n",
              "30057                                      0  \n",
              "\n",
              "[1925910 rows x 96 columns]"
            ]
          },
          "execution_count": 39,
          "metadata": {},
          "output_type": "execute_result"
        }
      ],
      "source": [
        "df"
      ]
    },
    {
      "cell_type": "code",
      "execution_count": null,
      "metadata": {
        "colab": {
          "base_uri": "https://localhost:8080/"
        },
        "id": "P95cnLlirrtz",
        "outputId": "225cf84a-dee7-4033-b0d2-afe49b24f814"
      },
      "outputs": [
        {
          "data": {
            "text/plain": [
              "(1925910, 96)"
            ]
          },
          "execution_count": 29,
          "metadata": {},
          "output_type": "execute_result"
        }
      ],
      "source": [
        "df.shape"
      ]
    },
    {
      "cell_type": "code",
      "execution_count": null,
      "metadata": {
        "colab": {
          "base_uri": "https://localhost:8080/",
          "height": 367
        },
        "id": "YJ_AQ50zrvFj",
        "outputId": "ef11cc74-1bd7-4b8c-fab6-5831e8afb53c"
      },
      "outputs": [
        {
          "data": {
            "text/html": [
              "\n",
              "  <div id=\"df-c6479711-0fd3-4123-8718-07f570c20822\" class=\"colab-df-container\">\n",
              "    <div>\n",
              "<style scoped>\n",
              "    .dataframe tbody tr th:only-of-type {\n",
              "        vertical-align: middle;\n",
              "    }\n",
              "\n",
              "    .dataframe tbody tr th {\n",
              "        vertical-align: top;\n",
              "    }\n",
              "\n",
              "    .dataframe thead th {\n",
              "        text-align: right;\n",
              "    }\n",
              "</style>\n",
              "<table border=\"1\" class=\"dataframe\">\n",
              "  <thead>\n",
              "    <tr style=\"text-align: right;\">\n",
              "      <th></th>\n",
              "      <th>arp.opcode</th>\n",
              "      <th>arp.hw.size</th>\n",
              "      <th>icmp.checksum</th>\n",
              "      <th>icmp.seq_le</th>\n",
              "      <th>icmp.unused</th>\n",
              "      <th>http.content_length</th>\n",
              "      <th>http.response</th>\n",
              "      <th>http.tls_port</th>\n",
              "      <th>tcp.ack</th>\n",
              "      <th>tcp.ack_raw</th>\n",
              "      <th>...</th>\n",
              "      <th>mqtt.conack.flags-1471198</th>\n",
              "      <th>mqtt.conack.flags-1471199</th>\n",
              "      <th>mqtt.conack.flags-1574358</th>\n",
              "      <th>mqtt.conack.flags-1574359</th>\n",
              "      <th>mqtt.protoname-0.0</th>\n",
              "      <th>mqtt.protoname-0</th>\n",
              "      <th>mqtt.protoname-MQTT</th>\n",
              "      <th>mqtt.topic-0.0</th>\n",
              "      <th>mqtt.topic-0</th>\n",
              "      <th>mqtt.topic-Temperature_and_Humidity</th>\n",
              "    </tr>\n",
              "  </thead>\n",
              "  <tbody>\n",
              "    <tr>\n",
              "      <th>count</th>\n",
              "      <td>1.925910e+06</td>\n",
              "      <td>1.925910e+06</td>\n",
              "      <td>1.925910e+06</td>\n",
              "      <td>1.925910e+06</td>\n",
              "      <td>1925910.0</td>\n",
              "      <td>1.925910e+06</td>\n",
              "      <td>1.925910e+06</td>\n",
              "      <td>1925910.0</td>\n",
              "      <td>1.925910e+06</td>\n",
              "      <td>1.925910e+06</td>\n",
              "      <td>...</td>\n",
              "      <td>1.925910e+06</td>\n",
              "      <td>1.925910e+06</td>\n",
              "      <td>1.925910e+06</td>\n",
              "      <td>1.925910e+06</td>\n",
              "      <td>1.925910e+06</td>\n",
              "      <td>1.925910e+06</td>\n",
              "      <td>1.925910e+06</td>\n",
              "      <td>1.925910e+06</td>\n",
              "      <td>1.925910e+06</td>\n",
              "      <td>1.925910e+06</td>\n",
              "    </tr>\n",
              "    <tr>\n",
              "      <th>mean</th>\n",
              "      <td>1.401935e-05</td>\n",
              "      <td>5.607739e-05</td>\n",
              "      <td>1.166042e+03</td>\n",
              "      <td>1.351843e+03</td>\n",
              "      <td>0.0</td>\n",
              "      <td>5.540462e+00</td>\n",
              "      <td>1.692862e-02</td>\n",
              "      <td>0.0</td>\n",
              "      <td>2.624963e+07</td>\n",
              "      <td>1.712849e+09</td>\n",
              "      <td>...</td>\n",
              "      <td>1.038470e-06</td>\n",
              "      <td>1.038470e-06</td>\n",
              "      <td>4.673116e-06</td>\n",
              "      <td>4.673116e-06</td>\n",
              "      <td>2.833985e-03</td>\n",
              "      <td>6.738840e-01</td>\n",
              "      <td>4.310586e-02</td>\n",
              "      <td>2.833985e-03</td>\n",
              "      <td>6.738856e-01</td>\n",
              "      <td>4.310430e-02</td>\n",
              "    </tr>\n",
              "    <tr>\n",
              "      <th>std</th>\n",
              "      <td>4.833776e-03</td>\n",
              "      <td>1.834288e-02</td>\n",
              "      <td>7.040939e+03</td>\n",
              "      <td>7.544654e+03</td>\n",
              "      <td>0.0</td>\n",
              "      <td>1.034849e+02</td>\n",
              "      <td>1.290041e-01</td>\n",
              "      <td>0.0</td>\n",
              "      <td>1.767548e+08</td>\n",
              "      <td>1.301941e+09</td>\n",
              "      <td>...</td>\n",
              "      <td>1.019053e-03</td>\n",
              "      <td>1.019053e-03</td>\n",
              "      <td>2.161735e-03</td>\n",
              "      <td>2.161735e-03</td>\n",
              "      <td>5.315971e-02</td>\n",
              "      <td>4.687904e-01</td>\n",
              "      <td>2.030955e-01</td>\n",
              "      <td>5.315971e-02</td>\n",
              "      <td>4.687898e-01</td>\n",
              "      <td>2.030919e-01</td>\n",
              "    </tr>\n",
              "    <tr>\n",
              "      <th>min</th>\n",
              "      <td>0.000000e+00</td>\n",
              "      <td>0.000000e+00</td>\n",
              "      <td>0.000000e+00</td>\n",
              "      <td>0.000000e+00</td>\n",
              "      <td>0.0</td>\n",
              "      <td>0.000000e+00</td>\n",
              "      <td>0.000000e+00</td>\n",
              "      <td>0.0</td>\n",
              "      <td>0.000000e+00</td>\n",
              "      <td>0.000000e+00</td>\n",
              "      <td>...</td>\n",
              "      <td>0.000000e+00</td>\n",
              "      <td>0.000000e+00</td>\n",
              "      <td>0.000000e+00</td>\n",
              "      <td>0.000000e+00</td>\n",
              "      <td>0.000000e+00</td>\n",
              "      <td>0.000000e+00</td>\n",
              "      <td>0.000000e+00</td>\n",
              "      <td>0.000000e+00</td>\n",
              "      <td>0.000000e+00</td>\n",
              "      <td>0.000000e+00</td>\n",
              "    </tr>\n",
              "    <tr>\n",
              "      <th>25%</th>\n",
              "      <td>0.000000e+00</td>\n",
              "      <td>0.000000e+00</td>\n",
              "      <td>0.000000e+00</td>\n",
              "      <td>0.000000e+00</td>\n",
              "      <td>0.0</td>\n",
              "      <td>0.000000e+00</td>\n",
              "      <td>0.000000e+00</td>\n",
              "      <td>0.0</td>\n",
              "      <td>1.000000e+00</td>\n",
              "      <td>4.554452e+08</td>\n",
              "      <td>...</td>\n",
              "      <td>0.000000e+00</td>\n",
              "      <td>0.000000e+00</td>\n",
              "      <td>0.000000e+00</td>\n",
              "      <td>0.000000e+00</td>\n",
              "      <td>0.000000e+00</td>\n",
              "      <td>0.000000e+00</td>\n",
              "      <td>0.000000e+00</td>\n",
              "      <td>0.000000e+00</td>\n",
              "      <td>0.000000e+00</td>\n",
              "      <td>0.000000e+00</td>\n",
              "    </tr>\n",
              "    <tr>\n",
              "      <th>50%</th>\n",
              "      <td>0.000000e+00</td>\n",
              "      <td>0.000000e+00</td>\n",
              "      <td>0.000000e+00</td>\n",
              "      <td>0.000000e+00</td>\n",
              "      <td>0.0</td>\n",
              "      <td>0.000000e+00</td>\n",
              "      <td>0.000000e+00</td>\n",
              "      <td>0.0</td>\n",
              "      <td>6.000000e+00</td>\n",
              "      <td>1.681297e+09</td>\n",
              "      <td>...</td>\n",
              "      <td>0.000000e+00</td>\n",
              "      <td>0.000000e+00</td>\n",
              "      <td>0.000000e+00</td>\n",
              "      <td>0.000000e+00</td>\n",
              "      <td>0.000000e+00</td>\n",
              "      <td>1.000000e+00</td>\n",
              "      <td>0.000000e+00</td>\n",
              "      <td>0.000000e+00</td>\n",
              "      <td>1.000000e+00</td>\n",
              "      <td>0.000000e+00</td>\n",
              "    </tr>\n",
              "    <tr>\n",
              "      <th>75%</th>\n",
              "      <td>0.000000e+00</td>\n",
              "      <td>0.000000e+00</td>\n",
              "      <td>0.000000e+00</td>\n",
              "      <td>0.000000e+00</td>\n",
              "      <td>0.0</td>\n",
              "      <td>0.000000e+00</td>\n",
              "      <td>0.000000e+00</td>\n",
              "      <td>0.0</td>\n",
              "      <td>1.080000e+02</td>\n",
              "      <td>2.620366e+09</td>\n",
              "      <td>...</td>\n",
              "      <td>0.000000e+00</td>\n",
              "      <td>0.000000e+00</td>\n",
              "      <td>0.000000e+00</td>\n",
              "      <td>0.000000e+00</td>\n",
              "      <td>0.000000e+00</td>\n",
              "      <td>1.000000e+00</td>\n",
              "      <td>0.000000e+00</td>\n",
              "      <td>0.000000e+00</td>\n",
              "      <td>1.000000e+00</td>\n",
              "      <td>0.000000e+00</td>\n",
              "    </tr>\n",
              "    <tr>\n",
              "      <th>max</th>\n",
              "      <td>2.000000e+00</td>\n",
              "      <td>6.000000e+00</td>\n",
              "      <td>6.553300e+04</td>\n",
              "      <td>6.553500e+04</td>\n",
              "      <td>0.0</td>\n",
              "      <td>8.365500e+04</td>\n",
              "      <td>1.000000e+00</td>\n",
              "      <td>0.0</td>\n",
              "      <td>3.949529e+09</td>\n",
              "      <td>4.294947e+09</td>\n",
              "      <td>...</td>\n",
              "      <td>1.000000e+00</td>\n",
              "      <td>1.000000e+00</td>\n",
              "      <td>1.000000e+00</td>\n",
              "      <td>1.000000e+00</td>\n",
              "      <td>1.000000e+00</td>\n",
              "      <td>1.000000e+00</td>\n",
              "      <td>1.000000e+00</td>\n",
              "      <td>1.000000e+00</td>\n",
              "      <td>1.000000e+00</td>\n",
              "      <td>1.000000e+00</td>\n",
              "    </tr>\n",
              "  </tbody>\n",
              "</table>\n",
              "<p>8 rows × 96 columns</p>\n",
              "</div>\n",
              "    <div class=\"colab-df-buttons\">\n",
              "\n",
              "  <div class=\"colab-df-container\">\n",
              "    <button class=\"colab-df-convert\" onclick=\"convertToInteractive('df-c6479711-0fd3-4123-8718-07f570c20822')\"\n",
              "            title=\"Convert this dataframe to an interactive table.\"\n",
              "            style=\"display:none;\">\n",
              "\n",
              "  <svg xmlns=\"http://www.w3.org/2000/svg\" height=\"24px\" viewBox=\"0 -960 960 960\">\n",
              "    <path d=\"M120-120v-720h720v720H120Zm60-500h600v-160H180v160Zm220 220h160v-160H400v160Zm0 220h160v-160H400v160ZM180-400h160v-160H180v160Zm440 0h160v-160H620v160ZM180-180h160v-160H180v160Zm440 0h160v-160H620v160Z\"/>\n",
              "  </svg>\n",
              "    </button>\n",
              "\n",
              "  <style>\n",
              "    .colab-df-container {\n",
              "      display:flex;\n",
              "      gap: 12px;\n",
              "    }\n",
              "\n",
              "    .colab-df-convert {\n",
              "      background-color: #E8F0FE;\n",
              "      border: none;\n",
              "      border-radius: 50%;\n",
              "      cursor: pointer;\n",
              "      display: none;\n",
              "      fill: #1967D2;\n",
              "      height: 32px;\n",
              "      padding: 0 0 0 0;\n",
              "      width: 32px;\n",
              "    }\n",
              "\n",
              "    .colab-df-convert:hover {\n",
              "      background-color: #E2EBFA;\n",
              "      box-shadow: 0px 1px 2px rgba(60, 64, 67, 0.3), 0px 1px 3px 1px rgba(60, 64, 67, 0.15);\n",
              "      fill: #174EA6;\n",
              "    }\n",
              "\n",
              "    .colab-df-buttons div {\n",
              "      margin-bottom: 4px;\n",
              "    }\n",
              "\n",
              "    [theme=dark] .colab-df-convert {\n",
              "      background-color: #3B4455;\n",
              "      fill: #D2E3FC;\n",
              "    }\n",
              "\n",
              "    [theme=dark] .colab-df-convert:hover {\n",
              "      background-color: #434B5C;\n",
              "      box-shadow: 0px 1px 3px 1px rgba(0, 0, 0, 0.15);\n",
              "      filter: drop-shadow(0px 1px 2px rgba(0, 0, 0, 0.3));\n",
              "      fill: #FFFFFF;\n",
              "    }\n",
              "  </style>\n",
              "\n",
              "    <script>\n",
              "      const buttonEl =\n",
              "        document.querySelector('#df-c6479711-0fd3-4123-8718-07f570c20822 button.colab-df-convert');\n",
              "      buttonEl.style.display =\n",
              "        google.colab.kernel.accessAllowed ? 'block' : 'none';\n",
              "\n",
              "      async function convertToInteractive(key) {\n",
              "        const element = document.querySelector('#df-c6479711-0fd3-4123-8718-07f570c20822');\n",
              "        const dataTable =\n",
              "          await google.colab.kernel.invokeFunction('convertToInteractive',\n",
              "                                                    [key], {});\n",
              "        if (!dataTable) return;\n",
              "\n",
              "        const docLinkHtml = 'Like what you see? Visit the ' +\n",
              "          '<a target=\"_blank\" href=https://colab.research.google.com/notebooks/data_table.ipynb>data table notebook</a>'\n",
              "          + ' to learn more about interactive tables.';\n",
              "        element.innerHTML = '';\n",
              "        dataTable['output_type'] = 'display_data';\n",
              "        await google.colab.output.renderOutput(dataTable, element);\n",
              "        const docLink = document.createElement('div');\n",
              "        docLink.innerHTML = docLinkHtml;\n",
              "        element.appendChild(docLink);\n",
              "      }\n",
              "    </script>\n",
              "  </div>\n",
              "\n",
              "\n",
              "<div id=\"df-83ca024b-15a4-4de3-b2a0-1702b3025ae4\">\n",
              "  <button class=\"colab-df-quickchart\" onclick=\"quickchart('df-83ca024b-15a4-4de3-b2a0-1702b3025ae4')\"\n",
              "            title=\"Suggest charts\"\n",
              "            style=\"display:none;\">\n",
              "\n",
              "<svg xmlns=\"http://www.w3.org/2000/svg\" height=\"24px\"viewBox=\"0 0 24 24\"\n",
              "     width=\"24px\">\n",
              "    <g>\n",
              "        <path d=\"M19 3H5c-1.1 0-2 .9-2 2v14c0 1.1.9 2 2 2h14c1.1 0 2-.9 2-2V5c0-1.1-.9-2-2-2zM9 17H7v-7h2v7zm4 0h-2V7h2v10zm4 0h-2v-4h2v4z\"/>\n",
              "    </g>\n",
              "</svg>\n",
              "  </button>\n",
              "\n",
              "<style>\n",
              "  .colab-df-quickchart {\n",
              "      --bg-color: #E8F0FE;\n",
              "      --fill-color: #1967D2;\n",
              "      --hover-bg-color: #E2EBFA;\n",
              "      --hover-fill-color: #174EA6;\n",
              "      --disabled-fill-color: #AAA;\n",
              "      --disabled-bg-color: #DDD;\n",
              "  }\n",
              "\n",
              "  [theme=dark] .colab-df-quickchart {\n",
              "      --bg-color: #3B4455;\n",
              "      --fill-color: #D2E3FC;\n",
              "      --hover-bg-color: #434B5C;\n",
              "      --hover-fill-color: #FFFFFF;\n",
              "      --disabled-bg-color: #3B4455;\n",
              "      --disabled-fill-color: #666;\n",
              "  }\n",
              "\n",
              "  .colab-df-quickchart {\n",
              "    background-color: var(--bg-color);\n",
              "    border: none;\n",
              "    border-radius: 50%;\n",
              "    cursor: pointer;\n",
              "    display: none;\n",
              "    fill: var(--fill-color);\n",
              "    height: 32px;\n",
              "    padding: 0;\n",
              "    width: 32px;\n",
              "  }\n",
              "\n",
              "  .colab-df-quickchart:hover {\n",
              "    background-color: var(--hover-bg-color);\n",
              "    box-shadow: 0 1px 2px rgba(60, 64, 67, 0.3), 0 1px 3px 1px rgba(60, 64, 67, 0.15);\n",
              "    fill: var(--button-hover-fill-color);\n",
              "  }\n",
              "\n",
              "  .colab-df-quickchart-complete:disabled,\n",
              "  .colab-df-quickchart-complete:disabled:hover {\n",
              "    background-color: var(--disabled-bg-color);\n",
              "    fill: var(--disabled-fill-color);\n",
              "    box-shadow: none;\n",
              "  }\n",
              "\n",
              "  .colab-df-spinner {\n",
              "    border: 2px solid var(--fill-color);\n",
              "    border-color: transparent;\n",
              "    border-bottom-color: var(--fill-color);\n",
              "    animation:\n",
              "      spin 1s steps(1) infinite;\n",
              "  }\n",
              "\n",
              "  @keyframes spin {\n",
              "    0% {\n",
              "      border-color: transparent;\n",
              "      border-bottom-color: var(--fill-color);\n",
              "      border-left-color: var(--fill-color);\n",
              "    }\n",
              "    20% {\n",
              "      border-color: transparent;\n",
              "      border-left-color: var(--fill-color);\n",
              "      border-top-color: var(--fill-color);\n",
              "    }\n",
              "    30% {\n",
              "      border-color: transparent;\n",
              "      border-left-color: var(--fill-color);\n",
              "      border-top-color: var(--fill-color);\n",
              "      border-right-color: var(--fill-color);\n",
              "    }\n",
              "    40% {\n",
              "      border-color: transparent;\n",
              "      border-right-color: var(--fill-color);\n",
              "      border-top-color: var(--fill-color);\n",
              "    }\n",
              "    60% {\n",
              "      border-color: transparent;\n",
              "      border-right-color: var(--fill-color);\n",
              "    }\n",
              "    80% {\n",
              "      border-color: transparent;\n",
              "      border-right-color: var(--fill-color);\n",
              "      border-bottom-color: var(--fill-color);\n",
              "    }\n",
              "    90% {\n",
              "      border-color: transparent;\n",
              "      border-bottom-color: var(--fill-color);\n",
              "    }\n",
              "  }\n",
              "</style>\n",
              "\n",
              "  <script>\n",
              "    async function quickchart(key) {\n",
              "      const quickchartButtonEl =\n",
              "        document.querySelector('#' + key + ' button');\n",
              "      quickchartButtonEl.disabled = true;  // To prevent multiple clicks.\n",
              "      quickchartButtonEl.classList.add('colab-df-spinner');\n",
              "      try {\n",
              "        const charts = await google.colab.kernel.invokeFunction(\n",
              "            'suggestCharts', [key], {});\n",
              "      } catch (error) {\n",
              "        console.error('Error during call to suggestCharts:', error);\n",
              "      }\n",
              "      quickchartButtonEl.classList.remove('colab-df-spinner');\n",
              "      quickchartButtonEl.classList.add('colab-df-quickchart-complete');\n",
              "    }\n",
              "    (() => {\n",
              "      let quickchartButtonEl =\n",
              "        document.querySelector('#df-83ca024b-15a4-4de3-b2a0-1702b3025ae4 button');\n",
              "      quickchartButtonEl.style.display =\n",
              "        google.colab.kernel.accessAllowed ? 'block' : 'none';\n",
              "    })();\n",
              "  </script>\n",
              "</div>\n",
              "\n",
              "    </div>\n",
              "  </div>\n"
            ],
            "text/plain": [
              "         arp.opcode   arp.hw.size  icmp.checksum   icmp.seq_le  icmp.unused  \\\n",
              "count  1.925910e+06  1.925910e+06   1.925910e+06  1.925910e+06    1925910.0   \n",
              "mean   1.401935e-05  5.607739e-05   1.166042e+03  1.351843e+03          0.0   \n",
              "std    4.833776e-03  1.834288e-02   7.040939e+03  7.544654e+03          0.0   \n",
              "min    0.000000e+00  0.000000e+00   0.000000e+00  0.000000e+00          0.0   \n",
              "25%    0.000000e+00  0.000000e+00   0.000000e+00  0.000000e+00          0.0   \n",
              "50%    0.000000e+00  0.000000e+00   0.000000e+00  0.000000e+00          0.0   \n",
              "75%    0.000000e+00  0.000000e+00   0.000000e+00  0.000000e+00          0.0   \n",
              "max    2.000000e+00  6.000000e+00   6.553300e+04  6.553500e+04          0.0   \n",
              "\n",
              "       http.content_length  http.response  http.tls_port       tcp.ack  \\\n",
              "count         1.925910e+06   1.925910e+06      1925910.0  1.925910e+06   \n",
              "mean          5.540462e+00   1.692862e-02            0.0  2.624963e+07   \n",
              "std           1.034849e+02   1.290041e-01            0.0  1.767548e+08   \n",
              "min           0.000000e+00   0.000000e+00            0.0  0.000000e+00   \n",
              "25%           0.000000e+00   0.000000e+00            0.0  1.000000e+00   \n",
              "50%           0.000000e+00   0.000000e+00            0.0  6.000000e+00   \n",
              "75%           0.000000e+00   0.000000e+00            0.0  1.080000e+02   \n",
              "max           8.365500e+04   1.000000e+00            0.0  3.949529e+09   \n",
              "\n",
              "        tcp.ack_raw  ...  mqtt.conack.flags-1471198  \\\n",
              "count  1.925910e+06  ...               1.925910e+06   \n",
              "mean   1.712849e+09  ...               1.038470e-06   \n",
              "std    1.301941e+09  ...               1.019053e-03   \n",
              "min    0.000000e+00  ...               0.000000e+00   \n",
              "25%    4.554452e+08  ...               0.000000e+00   \n",
              "50%    1.681297e+09  ...               0.000000e+00   \n",
              "75%    2.620366e+09  ...               0.000000e+00   \n",
              "max    4.294947e+09  ...               1.000000e+00   \n",
              "\n",
              "       mqtt.conack.flags-1471199  mqtt.conack.flags-1574358  \\\n",
              "count               1.925910e+06               1.925910e+06   \n",
              "mean                1.038470e-06               4.673116e-06   \n",
              "std                 1.019053e-03               2.161735e-03   \n",
              "min                 0.000000e+00               0.000000e+00   \n",
              "25%                 0.000000e+00               0.000000e+00   \n",
              "50%                 0.000000e+00               0.000000e+00   \n",
              "75%                 0.000000e+00               0.000000e+00   \n",
              "max                 1.000000e+00               1.000000e+00   \n",
              "\n",
              "       mqtt.conack.flags-1574359  mqtt.protoname-0.0  mqtt.protoname-0  \\\n",
              "count               1.925910e+06        1.925910e+06      1.925910e+06   \n",
              "mean                4.673116e-06        2.833985e-03      6.738840e-01   \n",
              "std                 2.161735e-03        5.315971e-02      4.687904e-01   \n",
              "min                 0.000000e+00        0.000000e+00      0.000000e+00   \n",
              "25%                 0.000000e+00        0.000000e+00      0.000000e+00   \n",
              "50%                 0.000000e+00        0.000000e+00      1.000000e+00   \n",
              "75%                 0.000000e+00        0.000000e+00      1.000000e+00   \n",
              "max                 1.000000e+00        1.000000e+00      1.000000e+00   \n",
              "\n",
              "       mqtt.protoname-MQTT  mqtt.topic-0.0  mqtt.topic-0  \\\n",
              "count         1.925910e+06    1.925910e+06  1.925910e+06   \n",
              "mean          4.310586e-02    2.833985e-03  6.738856e-01   \n",
              "std           2.030955e-01    5.315971e-02  4.687898e-01   \n",
              "min           0.000000e+00    0.000000e+00  0.000000e+00   \n",
              "25%           0.000000e+00    0.000000e+00  0.000000e+00   \n",
              "50%           0.000000e+00    0.000000e+00  1.000000e+00   \n",
              "75%           0.000000e+00    0.000000e+00  1.000000e+00   \n",
              "max           1.000000e+00    1.000000e+00  1.000000e+00   \n",
              "\n",
              "       mqtt.topic-Temperature_and_Humidity  \n",
              "count                         1.925910e+06  \n",
              "mean                          4.310430e-02  \n",
              "std                           2.030919e-01  \n",
              "min                           0.000000e+00  \n",
              "25%                           0.000000e+00  \n",
              "50%                           0.000000e+00  \n",
              "75%                           0.000000e+00  \n",
              "max                           1.000000e+00  \n",
              "\n",
              "[8 rows x 96 columns]"
            ]
          },
          "execution_count": 30,
          "metadata": {},
          "output_type": "execute_result"
        }
      ],
      "source": [
        "df.describe()\n"
      ]
    },
    {
      "cell_type": "markdown",
      "metadata": {
        "id": "21eaMY4vr0lz"
      },
      "source": [
        "**Train Test Split**"
      ]
    },
    {
      "cell_type": "code",
      "execution_count": null,
      "metadata": {
        "id": "TN3oBdMDrxvL"
      },
      "outputs": [],
      "source": [
        "from sklearn.model_selection import train_test_split\n",
        "\n",
        "data = df.drop(\"Attack_label\",axis=1)\n",
        "target = df[\"Attack_label\"]\n",
        "\n",
        "x_train, x_test, y_train, y_test = train_test_split(data, target,test_size=0.2, random_state = 50)"
      ]
    },
    {
      "cell_type": "code",
      "execution_count": null,
      "metadata": {
        "colab": {
          "base_uri": "https://localhost:8080/"
        },
        "id": "2cR9hRhMr7hz",
        "outputId": "663c22b6-323d-4b00-8e2d-fa2e87909bdd"
      },
      "outputs": [
        {
          "name": "stdout",
          "output_type": "stream",
          "text": [
            "x_train          arp.opcode  arp.hw.size  icmp.checksum  icmp.seq_le  icmp.unused  \\\n",
            "1677268         0.0          0.0            0.0          0.0          0.0   \n",
            "1795370         0.0          0.0            0.0          0.0          0.0   \n",
            "1218763         0.0          0.0            0.0          0.0          0.0   \n",
            "321397          0.0          0.0            0.0          0.0          0.0   \n",
            "1819745         0.0          0.0            0.0          0.0          0.0   \n",
            "...             ...          ...            ...          ...          ...   \n",
            "2100453         0.0          0.0            0.0          0.0          0.0   \n",
            "152458          0.0          0.0            0.0          0.0          0.0   \n",
            "2109097         0.0          0.0        26285.0      19274.0          0.0   \n",
            "1022319         0.0          0.0            0.0          0.0          0.0   \n",
            "436030          0.0          0.0            0.0          0.0          0.0   \n",
            "\n",
            "         http.content_length  http.response  http.tls_port       tcp.ack  \\\n",
            "1677268                  0.0            0.0            0.0  1.000000e+00   \n",
            "1795370                  0.0            0.0            0.0  1.648549e+09   \n",
            "1218763                  0.0            0.0            0.0  5.000000e+00   \n",
            "321397                   0.0            0.0            0.0  6.000000e+00   \n",
            "1819745                  0.0            0.0            0.0  1.000000e+00   \n",
            "...                      ...            ...            ...           ...   \n",
            "2100453                  0.0            0.0            0.0  0.000000e+00   \n",
            "152458                   0.0            0.0            0.0  1.000000e+00   \n",
            "2109097                  0.0            0.0            0.0  0.000000e+00   \n",
            "1022319                  0.0            0.0            0.0  1.500000e+01   \n",
            "436030                   0.0            0.0            0.0  3.926200e+04   \n",
            "\n",
            "          tcp.ack_raw  ...  mqtt.conack.flags-1471198  \\\n",
            "1677268  2.263602e+09  ...                          0   \n",
            "1795370  1.648549e+09  ...                          0   \n",
            "1218763  1.132902e+09  ...                          0   \n",
            "321397   1.170756e+09  ...                          0   \n",
            "1819745  2.185178e+09  ...                          0   \n",
            "...               ...  ...                        ...   \n",
            "2100453  0.000000e+00  ...                          0   \n",
            "152458   1.356817e+07  ...                          0   \n",
            "2109097  0.000000e+00  ...                          0   \n",
            "1022319  3.100888e+09  ...                          0   \n",
            "436030   2.371664e+09  ...                          0   \n",
            "\n",
            "         mqtt.conack.flags-1471199  mqtt.conack.flags-1574358  \\\n",
            "1677268                          0                          0   \n",
            "1795370                          0                          0   \n",
            "1218763                          0                          0   \n",
            "321397                           0                          0   \n",
            "1819745                          0                          0   \n",
            "...                            ...                        ...   \n",
            "2100453                          0                          0   \n",
            "152458                           0                          0   \n",
            "2109097                          0                          0   \n",
            "1022319                          0                          0   \n",
            "436030                           0                          0   \n",
            "\n",
            "         mqtt.conack.flags-1574359  mqtt.protoname-0.0  mqtt.protoname-0  \\\n",
            "1677268                          0                   0                 0   \n",
            "1795370                          0                   0                 0   \n",
            "1218763                          0                   0                 1   \n",
            "321397                           0                   0                 1   \n",
            "1819745                          0                   0                 0   \n",
            "...                            ...                 ...               ...   \n",
            "2100453                          0                   0                 0   \n",
            "152458                           0                   0                 1   \n",
            "2109097                          0                   0                 0   \n",
            "1022319                          0                   0                 1   \n",
            "436030                           0                   0                 1   \n",
            "\n",
            "         mqtt.protoname-MQTT  mqtt.topic-0.0  mqtt.topic-0  \\\n",
            "1677268                    0               0             0   \n",
            "1795370                    0               0             0   \n",
            "1218763                    0               0             1   \n",
            "321397                     0               0             1   \n",
            "1819745                    0               0             0   \n",
            "...                      ...             ...           ...   \n",
            "2100453                    0               0             0   \n",
            "152458                     0               0             1   \n",
            "2109097                    0               0             0   \n",
            "1022319                    0               0             1   \n",
            "436030                     0               0             1   \n",
            "\n",
            "         mqtt.topic-Temperature_and_Humidity  \n",
            "1677268                                    0  \n",
            "1795370                                    0  \n",
            "1218763                                    0  \n",
            "321397                                     0  \n",
            "1819745                                    0  \n",
            "...                                      ...  \n",
            "2100453                                    0  \n",
            "152458                                     0  \n",
            "2109097                                    0  \n",
            "1022319                                    0  \n",
            "436030                                     0  \n",
            "\n",
            "[1540728 rows x 95 columns]\n",
            "x_test          arp.opcode  arp.hw.size  icmp.checksum  icmp.seq_le  icmp.unused  \\\n",
            "472673          0.0          0.0            0.0          0.0          0.0   \n",
            "251553          0.0          0.0            0.0          0.0          0.0   \n",
            "347834          0.0          0.0            0.0          0.0          0.0   \n",
            "1957578         0.0          0.0            0.0          0.0          0.0   \n",
            "511675          0.0          0.0            0.0          0.0          0.0   \n",
            "...             ...          ...            ...          ...          ...   \n",
            "2055199         0.0          0.0            0.0          0.0          0.0   \n",
            "1515701         0.0          0.0            0.0          0.0          0.0   \n",
            "64078           0.0          0.0            0.0          0.0          0.0   \n",
            "1505828         0.0          0.0            0.0          0.0          0.0   \n",
            "316447          0.0          0.0            0.0          0.0          0.0   \n",
            "\n",
            "         http.content_length  http.response  http.tls_port     tcp.ack  \\\n",
            "472673                   0.0            0.0            0.0  32582981.0   \n",
            "251553                   0.0            0.0            0.0         0.0   \n",
            "347834                   0.0            0.0            0.0        59.0   \n",
            "1957578                  0.0            0.0            0.0   1326641.0   \n",
            "511675                   0.0            0.0            0.0  57069006.0   \n",
            "...                      ...            ...            ...         ...   \n",
            "2055199                  0.0            0.0            0.0         0.0   \n",
            "1515701                  0.0            0.0            0.0         5.0   \n",
            "64078                    0.0            0.0            0.0         5.0   \n",
            "1505828                  0.0            0.0            0.0        56.0   \n",
            "316447                   0.0            0.0            0.0        59.0   \n",
            "\n",
            "          tcp.ack_raw  ...  mqtt.conack.flags-1471198  \\\n",
            "472673   1.171435e+09  ...                          0   \n",
            "251553   0.000000e+00  ...                          0   \n",
            "347834   1.569595e+09  ...                          0   \n",
            "1957578  2.693382e+09  ...                          0   \n",
            "511675   1.195921e+09  ...                          0   \n",
            "...               ...  ...                        ...   \n",
            "2055199  0.000000e+00  ...                          0   \n",
            "1515701  2.867961e+09  ...                          0   \n",
            "64078    2.228660e+09  ...                          0   \n",
            "1505828  5.155232e+07  ...                          0   \n",
            "316447   1.770942e+09  ...                          0   \n",
            "\n",
            "         mqtt.conack.flags-1471199  mqtt.conack.flags-1574358  \\\n",
            "472673                           0                          0   \n",
            "251553                           0                          0   \n",
            "347834                           0                          0   \n",
            "1957578                          0                          0   \n",
            "511675                           0                          0   \n",
            "...                            ...                        ...   \n",
            "2055199                          0                          0   \n",
            "1515701                          0                          0   \n",
            "64078                            0                          0   \n",
            "1505828                          0                          0   \n",
            "316447                           0                          0   \n",
            "\n",
            "         mqtt.conack.flags-1574359  mqtt.protoname-0.0  mqtt.protoname-0  \\\n",
            "472673                           0                   0                 1   \n",
            "251553                           0                   0                 1   \n",
            "347834                           0                   0                 1   \n",
            "1957578                          0                   0                 0   \n",
            "511675                           0                   0                 1   \n",
            "...                            ...                 ...               ...   \n",
            "2055199                          0                   0                 0   \n",
            "1515701                          0                   0                 1   \n",
            "64078                            0                   0                 1   \n",
            "1505828                          0                   0                 1   \n",
            "316447                           0                   0                 1   \n",
            "\n",
            "         mqtt.protoname-MQTT  mqtt.topic-0.0  mqtt.topic-0  \\\n",
            "472673                     0               0             1   \n",
            "251553                     0               0             1   \n",
            "347834                     0               0             1   \n",
            "1957578                    0               0             0   \n",
            "511675                     0               0             1   \n",
            "...                      ...             ...           ...   \n",
            "2055199                    0               0             0   \n",
            "1515701                    0               0             1   \n",
            "64078                      0               0             1   \n",
            "1505828                    0               0             1   \n",
            "316447                     0               0             1   \n",
            "\n",
            "         mqtt.topic-Temperature_and_Humidity  \n",
            "472673                                     0  \n",
            "251553                                     0  \n",
            "347834                                     0  \n",
            "1957578                                    0  \n",
            "511675                                     0  \n",
            "...                                      ...  \n",
            "2055199                                    0  \n",
            "1515701                                    0  \n",
            "64078                                      0  \n",
            "1505828                                    0  \n",
            "316447                                     0  \n",
            "\n",
            "[385182 rows x 95 columns]\n",
            "y_train 1677268    1\n",
            "1795370    1\n",
            "1218763    0\n",
            "321397     0\n",
            "1819745    1\n",
            "          ..\n",
            "2100453    1\n",
            "152458     0\n",
            "2109097    1\n",
            "1022319    0\n",
            "436030     0\n",
            "Name: Attack_label, Length: 1540728, dtype: int64\n",
            "y_test 472673     0\n",
            "251553     0\n",
            "347834     0\n",
            "1957578    1\n",
            "511675     0\n",
            "          ..\n",
            "2055199    1\n",
            "1515701    0\n",
            "64078      0\n",
            "1505828    0\n",
            "316447     0\n",
            "Name: Attack_label, Length: 385182, dtype: int64\n"
          ]
        }
      ],
      "source": [
        "print('x_train',x_train)\n",
        "print('x_test',x_test)\n",
        "print('y_train',y_train)\n",
        "print('y_test',y_test)"
      ]
    },
    {
      "cell_type": "code",
      "execution_count": null,
      "metadata": {
        "colab": {
          "base_uri": "https://localhost:8080/"
        },
        "id": "QTK0G2qcr98z",
        "outputId": "ee956330-2dca-438c-9d48-9b79b24ab447"
      },
      "outputs": [
        {
          "name": "stderr",
          "output_type": "stream",
          "text": [
            "/usr/local/lib/python3.10/dist-packages/sklearn/preprocessing/_encoders.py:868: FutureWarning: `sparse` was renamed to `sparse_output` in version 1.2 and will be removed in 1.4. `sparse_output` is ignored unless you leave `sparse` to its default value.\n",
            "  warnings.warn(\n"
          ]
        }
      ],
      "source": [
        "from sklearn.preprocessing import OneHotEncoder\n",
        "encoder = OneHotEncoder(sparse=False)  # Create an instance of the encoder\n",
        "x_train_encoded = encoder.fit_transform(x_train)  # Encode the training data"
      ]
    },
    {
      "cell_type": "code",
      "execution_count": null,
      "metadata": {
        "id": "O0agbpW2Rrd7"
      },
      "outputs": [],
      "source": [
        "#explainer = lime.lime_tabular.LimeTabularExplainer(X_train.values, feature_names=X_train.columns.values.tolist(),class_names=['MEDV'], verbose=True, mode='regression')"
      ]
    },
    {
      "cell_type": "markdown",
      "metadata": {
        "id": "TQRy1cIIKreu"
      },
      "source": []
    },
    {
      "cell_type": "code",
      "execution_count": null,
      "metadata": {
        "id": "3WckH1LtONqq"
      },
      "outputs": [],
      "source": [
        "#exp = explainer_lime.explain_instance(x_train.iloc[1,:],xgb_model.predict_proba, num_features=4)\n",
        "#https://www.kaggle.com/code/prashant111/explain-your-model-predictions-with-lime\n",
        "#https://www.kaggle.com/code/prashant111/explain-your-model-predictions-with-shapley-values\n",
        "#https://www.kaggle.com/code/dansbecker/shap-values"
      ]
    },
    {
      "cell_type": "markdown",
      "metadata": {
        "id": "VF0iIiP5J4kK"
      },
      "source": [
        "\n",
        "\n"
      ]
    },
    {
      "cell_type": "code",
      "execution_count": null,
      "metadata": {
        "id": "l4s_AMVglvki"
      },
      "outputs": [],
      "source": []
    },
    {
      "cell_type": "markdown",
      "metadata": {
        "id": "EtugzdR8fCty"
      },
      "source": [
        "**Deep Learning Model**\n",
        "\n"
      ]
    },
    {
      "cell_type": "markdown",
      "metadata": {
        "id": "0XteULZl1wZh"
      },
      "source": [
        "https://www.kaggle.com/code/rafetcan/recurrent-neural-n-rnn-tutorial-for-beginners/notebook"
      ]
    },
    {
      "cell_type": "markdown",
      "metadata": {
        "id": "B2BMCgcZOLh0"
      },
      "source": [
        "https://www.kaggle.com/code/rafetcan/long-short-term-memory-n-lstm-for-beginners\n"
      ]
    },
    {
      "cell_type": "markdown",
      "metadata": {
        "id": "Fr4F8ahksigi"
      },
      "source": [
        "**LSTM**"
      ]
    },
    {
      "cell_type": "code",
      "execution_count": null,
      "metadata": {
        "id": "rO69lAE5unQe"
      },
      "outputs": [],
      "source": [
        "from keras.utils import pad_sequences\n",
        "from keras.models import Sequential\n",
        "from keras.layers import Dense, Embedding, LSTM, SpatialDropout1D\n",
        "from keras.models import Sequential\n",
        "from keras.layers import Dense\n",
        "from keras.layers import LSTM\n",
        "from keras.layers import Dropout"
      ]
    },
    {
      "cell_type": "code",
      "execution_count": null,
      "metadata": {
        "colab": {
          "base_uri": "https://localhost:8080/"
        },
        "id": "g8AGLT0BKyJx",
        "outputId": "e9bd38ad-144f-4d24-90e0-653bd140d275"
      },
      "outputs": [
        {
          "data": {
            "text/plain": [
              "95"
            ]
          },
          "execution_count": 12,
          "metadata": {},
          "output_type": "execute_result"
        }
      ],
      "source": [
        "x_train.shape[1]"
      ]
    },
    {
      "cell_type": "markdown",
      "metadata": {
        "id": "73t7pxp8XkNQ"
      },
      "source": [
        "https://github.com/trajceskijovan/Timeseries-anomaly-detection-using-LSTM/blob/main/Timeseries%20anomaly%20detection%20using%20LSTM.ipynb"
      ]
    },
    {
      "cell_type": "code",
      "execution_count": null,
      "metadata": {
        "id": "sVeXAbPyQ421"
      },
      "outputs": [],
      "source": [
        "# Train model\n",
        "#from tensorflow.keras.callbacks import EarlyStopping"
      ]
    },
    {
      "cell_type": "markdown",
      "metadata": {
        "id": "UbL9NFCs2Q4l"
      },
      "source": []
    },
    {
      "cell_type": "code",
      "execution_count": null,
      "metadata": {
        "id": "DM5WcIlpNXQW"
      },
      "outputs": [],
      "source": [
        "\n",
        "#early_stop = EarlyStopping(monitor='val_loss', patience=10, verbose=1)\n",
        "#lsm = model.fit(x_train, y_train, epochs=1000, batch_size=16, validation_split=0.1,callbacks=[early_stop])\n",
        "#lsm"
      ]
    },
    {
      "cell_type": "code",
      "source": [
        "# The LSTM architecture\n",
        "lsm = Sequential()\n",
        "# First LSTM layer with Dropout regularisation\n",
        "lsm.add(LSTM(units=50, return_sequences=True, input_shape=(x_train.shape[1],1)))\n",
        "lsm.add(Dropout(0.2))\n",
        "# Second LSTM layer\n",
        "lsm.add(LSTM(units=50, return_sequences=True))\n",
        "lsm.add(Dropout(0.2))\n",
        "# Third LSTM layer\n",
        "lsm.add(LSTM(units=50, return_sequences=True))\n",
        "lsm.add(Dropout(0.2))\n",
        "# Fourth LSTM layer\n",
        "lsm.add(LSTM(units=50))\n",
        "lsm.add(Dropout(0.2))\n",
        "# The output layer\n",
        "lsm.add(Dense(units=1))\n",
        "\n",
        "# Compiling the RNN\n",
        "lsm.compile(optimizer='adam',loss='mean_squared_error')"
      ],
      "metadata": {
        "id": "Qpjwh9VuKSIx"
      },
      "execution_count": null,
      "outputs": []
    },
    {
      "cell_type": "code",
      "execution_count": null,
      "metadata": {
        "id": "qjPCgEuNUueq"
      },
      "outputs": [],
      "source": [
        "# Define model architecture\n",
        "from keras.layers import Activation\n",
        "lsm = Sequential()\n",
        "\n",
        "lsm.add(LSTM(units = 50, return_sequences = True, input_shape = (x_train.shape[1],1)))\n",
        "lsm.add(Dropout(0.2))\n",
        "\n",
        "lsm.add(LSTM(units = 50, return_sequences = True))\n",
        "lsm.add(Dropout(0.2))\n",
        "\n",
        "lsm.add(LSTM(units = 50, return_sequences = True))\n",
        "lsm.add(Dropout(0.2))\n",
        "\n",
        "lsm.add(LSTM(units = 50))\n",
        "lsm.add(Dropout(0.2))\n",
        "\n",
        "#lsm.add(Dense(units=1, activation='softmax'))\n",
        "#lsm.add(Dense(units = 1))\n"
      ]
    },
    {
      "cell_type": "code",
      "execution_count": null,
      "metadata": {
        "id": "HH_T-vW7FLdj"
      },
      "outputs": [],
      "source": []
    },
    {
      "cell_type": "code",
      "execution_count": null,
      "metadata": {
        "id": "NvshtaR9U3ut"
      },
      "outputs": [],
      "source": [
        "\n",
        "lsm.compile(optimizer= 'adam', loss = \"mean_squared_error\")"
      ]
    },
    {
      "cell_type": "code",
      "execution_count": null,
      "metadata": {
        "id": "9xmWx0djU9_G"
      },
      "outputs": [],
      "source": [
        "epochs = 4\n",
        "batch_size = 1000"
      ]
    },
    {
      "cell_type": "code",
      "execution_count": null,
      "metadata": {
        "id": "XENUdx4l2hKb"
      },
      "outputs": [],
      "source": []
    },
    {
      "cell_type": "code",
      "execution_count": null,
      "metadata": {
        "colab": {
          "base_uri": "https://localhost:8080/"
        },
        "id": "JUhY0o-tVBYc",
        "outputId": "9b72a7d2-2104-469e-9e1a-b6a6b8ed9fe3"
      },
      "outputs": [
        {
          "output_type": "stream",
          "name": "stdout",
          "text": [
            "Epoch 1/4\n",
            "1541/1541 [==============================] - 83s 48ms/step - loss: 0.0057\n",
            "Epoch 2/4\n",
            "1541/1541 [==============================] - 74s 48ms/step - loss: 0.0012\n",
            "Epoch 3/4\n",
            "1541/1541 [==============================] - 74s 48ms/step - loss: 0.0011\n",
            "Epoch 4/4\n",
            "1541/1541 [==============================] - 74s 48ms/step - loss: 0.0021\n",
            "time complexity :333.471 \n"
          ]
        }
      ],
      "source": [
        "start_time=time.time()\n",
        "lsm.fit(x_train, y_train, epochs = epochs, batch_size = batch_size)\n",
        "end_time=time.time()\n",
        "training_time=end_time - start_time\n",
        "print(\"time complexity :{:.3f} \".format(training_time))\n"
      ]
    },
    {
      "cell_type": "code",
      "execution_count": null,
      "metadata": {
        "id": "P_Zn-o0cirQ8"
      },
      "outputs": [],
      "source": [
        "#x_test = np.array(x_test)"
      ]
    },
    {
      "cell_type": "code",
      "execution_count": null,
      "metadata": {
        "colab": {
          "base_uri": "https://localhost:8080/"
        },
        "id": "NIkC1E-o4nid",
        "outputId": "4f34185c-5f43-4593-9578-23c185d7ded1"
      },
      "outputs": [
        {
          "output_type": "stream",
          "name": "stdout",
          "text": [
            "12037/12037 [==============================] - 90s 7ms/step\n",
            "48148/48148 [==============================] - 355s 7ms/step\n",
            "predicted value [[0.]\n",
            " [0.]\n",
            " [0.]\n",
            " ...\n",
            " [0.]\n",
            " [0.]\n",
            " [0.]]\n",
            "actual  value 421626     0\n",
            "1160808    0\n",
            "419115     0\n",
            "1796415    1\n",
            "1320764    0\n",
            "          ..\n",
            "396990     0\n",
            "709383     0\n",
            "225215     0\n",
            "97040      0\n",
            "1411492    0\n",
            "Name: Attack_label, Length: 385182, dtype: int64\n"
          ]
        }
      ],
      "source": [
        "predict = lsm.predict(x_test).round()\n",
        "ytrain_pred=lsm.predict(x_train).round()\n",
        "print(\"predicted value\",predict)\n",
        "print(\"actual  value\",y_test)\n",
        "\n",
        "\n",
        "# # now to find confusion matric\n",
        "\n",
        "\n"
      ]
    },
    {
      "cell_type": "code",
      "execution_count": null,
      "metadata": {
        "id": "4RfFBDWagtLA"
      },
      "outputs": [],
      "source": []
    },
    {
      "cell_type": "code",
      "execution_count": null,
      "metadata": {
        "colab": {
          "base_uri": "https://localhost:8080/"
        },
        "id": "e3uu1SlNgIZf",
        "outputId": "c25b4448-be2d-407f-f402-5a41b3b5734e"
      },
      "outputs": [
        {
          "output_type": "stream",
          "name": "stdout",
          "text": [
            "accuracy  train time in LSTM  1.0\n",
            "accuracy  test time in LSTM 1.0\n",
            "[[275899      0]\n",
            " [     0 109283]]\n",
            "Classification Report:\n",
            "              precision    recall  f1-score   support\n",
            "\n",
            "           0       1.00      1.00      1.00    275899\n",
            "           1       1.00      1.00      1.00    109283\n",
            "\n",
            "    accuracy                           1.00    385182\n",
            "   macro avg       1.00      1.00      1.00    385182\n",
            "weighted avg       1.00      1.00      1.00    385182\n",
            "\n"
          ]
        }
      ],
      "source": [
        "from sklearn.metrics import confusion_matrix, classification_report\n",
        "from sklearn.preprocessing import LabelBinarizer\n",
        "\n",
        "# Convert predict to a binary label array\n",
        "\n",
        "print(\"accuracy  train time in LSTM \",accuracy_score(y_train, ytrain_pred))\n",
        "print(\"accuracy  test time in LSTM\",accuracy_score(y_test, predict))\n",
        "\n",
        "# Calculate the confusion matrix\n",
        "cm = confusion_matrix(y_test, predict)\n",
        "print(cm)\n",
        "\n",
        "# Classification Report\n",
        "print(\"Classification Report:\")\n",
        "print(classification_report(y_test, predict))"
      ]
    },
    {
      "cell_type": "code",
      "execution_count": null,
      "metadata": {
        "colab": {
          "base_uri": "https://localhost:8080/"
        },
        "id": "VjJhNivlsXaY",
        "outputId": "63edebe7-2c85-4e7f-ada2-6ea49c76fce9"
      },
      "outputs": [
        {
          "output_type": "stream",
          "name": "stdout",
          "text": [
            "True Negatives for each class: [109283 275899]\n",
            "False Negatives for each class: [0 0]\n",
            "True Positives for each class: [275899 109283]\n",
            "False Positives for each class: [0 0]\n",
            "False Alarm Rate (FAR) for each class: [0. 0.]\n",
            "Total False Alarm Rate (FAR) for all classes combined: 0.0\n"
          ]
        }
      ],
      "source": [
        "num_classes = cm.shape[0]\n",
        "\n",
        "# Initialize arrays to store results\n",
        "true_negatives = np.zeros(num_classes, dtype=int)\n",
        "false_negatives = np.zeros(num_classes, dtype=int)\n",
        "true_positives = np.zeros(num_classes, dtype=int)\n",
        "false_positives = np.zeros(num_classes, dtype=int)\n",
        "\n",
        "# Calculate TN, FN, TP, FP for each class\n",
        "for i in range(num_classes):\n",
        "    # True Negatives (TN) for class i\n",
        "    mask = np.ones(num_classes, dtype=bool)\n",
        "    mask[i] = False\n",
        "    true_negatives[i] = np.sum(cm[mask][:, mask])\n",
        "\n",
        "    # False Negatives (FN) for class i\n",
        "    false_negatives[i] = np.sum(cm[i, :]) - cm[i, i]\n",
        "\n",
        "    # True Positives (TP) for class i\n",
        "    true_positives[i] = cm[i, i]\n",
        "\n",
        "    # False Positives (FP) for class i\n",
        "    false_positives[i] = np.sum(cm[:, i]) - cm[i, i]\n",
        "\n",
        "# Calculate False Alarm Rate (FAR) for each class\n",
        "false_alarm_rate = false_positives / (false_positives + true_negatives)\n",
        "\n",
        "# Calculate total False Alarm Rate (FAR)\n",
        "total_false_alarm_rate = np.sum(false_positives) / np.sum(false_positives + true_negatives)\n",
        "\n",
        "# Print results\n",
        "print(\"True Negatives for each class:\", true_negatives)\n",
        "print(\"False Negatives for each class:\", false_negatives)\n",
        "print(\"True Positives for each class:\", true_positives)\n",
        "print(\"False Positives for each class:\", false_positives)\n",
        "print(\"False Alarm Rate (FAR) for each class:\", false_alarm_rate)\n",
        "print(\"Total False Alarm Rate (FAR) for all classes combined:\", total_false_alarm_rate)"
      ]
    },
    {
      "cell_type": "code",
      "execution_count": null,
      "metadata": {
        "colab": {
          "base_uri": "https://localhost:8080/"
        },
        "id": "ctdIl93_3B3Z",
        "outputId": "0bdaf0d7-567d-4cd4-fe92-56d2bd316af3"
      },
      "outputs": [
        {
          "name": "stdout",
          "output_type": "stream",
          "text": [
            "MSE 0.0004880809591310082\n",
            "RMSE 0.022092554382212307\n",
            "MAE 0.0004880809591310082\n"
          ]
        }
      ],
      "source": [
        "#Mean squared error\n",
        "from sklearn.metrics import mean_squared_error\n",
        "from sklearn.metrics import mean_absolute_error\n",
        "import math\n",
        "MSE =mean_squared_error(y_test, predict)\n",
        "print('MSE',MSE)\n",
        "\n",
        "    #Root Mean squared error\n",
        "RMSE = math.sqrt(MSE)\n",
        "print('RMSE',RMSE)\n",
        "\n",
        "    #Mean absolute error\n",
        "MAE =mean_absolute_error(y_test, predict)\n",
        "print('MAE',MAE)"
      ]
    },
    {
      "cell_type": "markdown",
      "metadata": {
        "id": "qj6is07r14Ab"
      },
      "source": [
        "**Recurrent Neural N. (RNN)**"
      ]
    },
    {
      "cell_type": "code",
      "execution_count": null,
      "metadata": {
        "id": "Z0SC8mym15W5"
      },
      "outputs": [],
      "source": [
        "from keras.models import Sequential\n",
        "from keras.layers import Dense\n",
        "from keras.layers import SimpleRNN\n",
        "from keras.layers import Dropout"
      ]
    },
    {
      "cell_type": "code",
      "execution_count": null,
      "metadata": {
        "id": "42s3fmla2Ilr"
      },
      "outputs": [],
      "source": [
        "rnn = Sequential()\n",
        "\n",
        "rnn.add(SimpleRNN(units = 50, activation = \"tanh\", return_sequences = True, input_shape = (x_train.shape[1],1)))\n",
        "rnn.add(Dropout(0.2))\n",
        "\n",
        "rnn.add(SimpleRNN(units = 50, activation = \"tanh\", return_sequences = True))\n",
        "rnn.add(Dropout(0.2))\n",
        "\n",
        "rnn.add(SimpleRNN(units = 50, activation = \"tanh\", return_sequences = True))\n",
        "rnn.add(Dropout(0.2))\n",
        "\n",
        "rnn.add(SimpleRNN(units = 50))\n",
        "rnn.add(Dropout(0.2))\n",
        "\n",
        "rnn.add(Dense(units = 1))"
      ]
    },
    {
      "cell_type": "code",
      "execution_count": null,
      "metadata": {
        "id": "PTDQbrS62cj_"
      },
      "outputs": [],
      "source": [
        "rnn.compile(optimizer= \"adam\", loss = \"mean_squared_error\")"
      ]
    },
    {
      "cell_type": "code",
      "execution_count": null,
      "metadata": {
        "id": "cEA7FLoy2iuR"
      },
      "outputs": [],
      "source": [
        "epochs = 4\n",
        "batch_size = 1000"
      ]
    },
    {
      "cell_type": "code",
      "execution_count": null,
      "metadata": {
        "colab": {
          "base_uri": "https://localhost:8080/"
        },
        "id": "k3MsC0Kb2n6Z",
        "outputId": "4488937c-a15f-4181-9516-583625003868"
      },
      "outputs": [
        {
          "name": "stdout",
          "output_type": "stream",
          "text": [
            "Epoch 1/4\n",
            "1541/1541 [==============================] - 552s 354ms/step - loss: 0.0181\n",
            "Epoch 2/4\n",
            "1541/1541 [==============================] - 552s 358ms/step - loss: 0.0015\n",
            "Epoch 3/4\n",
            "1541/1541 [==============================] - 532s 345ms/step - loss: 0.0012\n",
            "Epoch 4/4\n",
            "1541/1541 [==============================] - 537s 348ms/step - loss: 0.0012\n",
            "time complexity :2179.438 \n"
          ]
        }
      ],
      "source": [
        "start_time=time.time()\n",
        "rnn.fit(x_train, y_train, epochs = epochs, batch_size = batch_size)\n",
        "end_time=time.time()\n",
        "training_time=end_time - start_time\n",
        "print(\"time complexity :{:.3f} \".format(training_time))\n"
      ]
    },
    {
      "cell_type": "code",
      "execution_count": null,
      "metadata": {
        "colab": {
          "base_uri": "https://localhost:8080/"
        },
        "id": "HaqGv2Xv4pFv",
        "outputId": "22c44b31-92c1-48e2-cc3c-6046694b7912"
      },
      "outputs": [
        {
          "name": "stdout",
          "output_type": "stream",
          "text": [
            "12037/12037 [==============================] - 433s 36ms/step\n",
            "48148/48148 [==============================] - 1743s 36ms/step\n",
            "predicted value [[-0.]\n",
            " [ 1.]\n",
            " [ 1.]\n",
            " ...\n",
            " [-0.]\n",
            " [-0.]\n",
            " [-0.]]\n",
            "actual  value 728945     0\n",
            "2036807    1\n",
            "1907943    1\n",
            "1970722    1\n",
            "248380     0\n",
            "          ..\n",
            "1749260    1\n",
            "1793766    1\n",
            "176501     0\n",
            "547525     0\n",
            "760818     0\n",
            "Name: Attack_label, Length: 385182, dtype: int64\n"
          ]
        }
      ],
      "source": [
        "predict = rnn.predict(x_test).round()\n",
        "ytrain_pred=rnn.predict(x_train).round()\n",
        "print(\"predicted value\",predict)\n",
        "print(\"actual  value\",y_test)"
      ]
    },
    {
      "cell_type": "code",
      "execution_count": null,
      "metadata": {
        "colab": {
          "base_uri": "https://localhost:8080/"
        },
        "id": "W0E27dML4tns",
        "outputId": "ed7e2ed0-2787-441b-aadf-690a7202e4fa"
      },
      "outputs": [
        {
          "name": "stdout",
          "output_type": "stream",
          "text": [
            "accuracy  train time in RNN  1.0\n",
            "accuracy  test time in RNN 1.0\n",
            "[[276642      0]\n",
            " [     0 108540]]\n",
            "Classification Report:\n",
            "              precision    recall  f1-score   support\n",
            "\n",
            "           0       1.00      1.00      1.00    276642\n",
            "           1       1.00      1.00      1.00    108540\n",
            "\n",
            "    accuracy                           1.00    385182\n",
            "   macro avg       1.00      1.00      1.00    385182\n",
            "weighted avg       1.00      1.00      1.00    385182\n",
            "\n"
          ]
        }
      ],
      "source": [
        "from sklearn.metrics import confusion_matrix, classification_report\n",
        "from sklearn.preprocessing import LabelBinarizer\n",
        "\n",
        "# Convert predict to a binary label array\n",
        "\n",
        "print(\"accuracy  train time in RNN \",accuracy_score(y_train, ytrain_pred))\n",
        "print(\"accuracy  test time in RNN\",accuracy_score(y_test, predict))\n",
        "\n",
        "# Calculate the confusion matrix\n",
        "cm = confusion_matrix(y_test, predict)\n",
        "print(cm)\n",
        "\n",
        "# Classification Report\n",
        "print(\"Classification Report:\")\n",
        "print(classification_report(y_test, predict))"
      ]
    },
    {
      "cell_type": "code",
      "execution_count": null,
      "metadata": {
        "id": "EAu6nSX5sU31"
      },
      "outputs": [],
      "source": [
        "num_classes = cm.shape[0]\n",
        "\n",
        "# Initialize arrays to store results\n",
        "true_negatives = np.zeros(num_classes, dtype=int)\n",
        "false_negatives = np.zeros(num_classes, dtype=int)\n",
        "true_positives = np.zeros(num_classes, dtype=int)\n",
        "false_positives = np.zeros(num_classes, dtype=int)\n",
        "\n",
        "# Calculate TN, FN, TP, FP for each class\n",
        "for i in range(num_classes):\n",
        "    # True Negatives (TN) for class i\n",
        "    mask = np.ones(num_classes, dtype=bool)\n",
        "    mask[i] = False\n",
        "    true_negatives[i] = np.sum(cm[mask][:, mask])\n",
        "\n",
        "    # False Negatives (FN) for class i\n",
        "    false_negatives[i] = np.sum(cm[i, :]) - cm[i, i]\n",
        "\n",
        "    # True Positives (TP) for class i\n",
        "    true_positives[i] = cm[i, i]\n",
        "\n",
        "    # False Positives (FP) for class i\n",
        "    false_positives[i] = np.sum(cm[:, i]) - cm[i, i]\n",
        "\n",
        "# Calculate False Alarm Rate (FAR) for each class\n",
        "false_alarm_rate = false_positives / (false_positives + true_negatives)\n",
        "\n",
        "# Calculate total False Alarm Rate (FAR)\n",
        "total_false_alarm_rate = np.sum(false_positives) / np.sum(false_positives + true_negatives)\n",
        "\n",
        "# Print results\n",
        "print(\"True Negatives for each class:\", true_negatives)\n",
        "print(\"False Negatives for each class:\", false_negatives)\n",
        "print(\"True Positives for each class:\", true_positives)\n",
        "print(\"False Positives for each class:\", false_positives)\n",
        "print(\"False Alarm Rate (FAR) for each class:\", false_alarm_rate)\n",
        "print(\"Total False Alarm Rate (FAR) for all classes combined:\", total_false_alarm_rate)"
      ]
    },
    {
      "cell_type": "code",
      "execution_count": null,
      "metadata": {
        "colab": {
          "base_uri": "https://localhost:8080/"
        },
        "id": "GHWP0B9ieCLB",
        "outputId": "24938f88-452b-4342-9cd0-70d8c583af42"
      },
      "outputs": [
        {
          "name": "stdout",
          "output_type": "stream",
          "text": [
            "RNN MSE 0.0\n",
            "RNN RMSE 0.0\n",
            "RNN MAE 0.0\n"
          ]
        }
      ],
      "source": [
        "from sklearn.metrics import mean_squared_error\n",
        "from sklearn.metrics import mean_absolute_error\n",
        "import math\n",
        "MSE =mean_squared_error(y_test, predict)\n",
        "print('RNN MSE',MSE)\n",
        "\n",
        "    #Root Mean squared error\n",
        "RMSE = math.sqrt(MSE)\n",
        "print('RNN RMSE',RMSE)\n",
        "\n",
        "    #Mean absolute error\n",
        "MAE =mean_absolute_error(y_test, predict)\n",
        "print('RNN MAE',MAE)"
      ]
    },
    {
      "cell_type": "markdown",
      "metadata": {
        "id": "o9RJrYjqBbgf"
      },
      "source": [
        "https://www.kaggle.com/code/thebrownviking20/intro-to-recurrent-neural-networks-lstm-gru"
      ]
    },
    {
      "cell_type": "markdown",
      "metadata": {
        "id": "DhWiU7of-gPu"
      },
      "source": [
        "**Gated Recurrent Units**"
      ]
    },
    {
      "cell_type": "code",
      "execution_count": null,
      "metadata": {
        "colab": {
          "base_uri": "https://localhost:8080/"
        },
        "id": "y80zX9W7-vft",
        "outputId": "2f10d07b-e54f-4216-8bb9-b909955c7218"
      },
      "outputs": [
        {
          "name": "stderr",
          "output_type": "stream",
          "text": [
            "WARNING:absl:`lr` is deprecated in Keras optimizer, please use `learning_rate` or use the legacy optimizer, e.g.,tf.keras.optimizers.legacy.SGD.\n"
          ]
        }
      ],
      "source": [
        "import keras.layers as layers\n",
        "from keras.layers import GRU\n",
        "from keras.optimizers import SGD\n",
        "# The GRU architecture\n",
        "gru = Sequential()\n",
        "# First GRU layer with Dropout regularisation\n",
        "gru.add(GRU(units=50, return_sequences=True, input_shape=(x_train.shape[1],1), activation='tanh'))\n",
        "gru.add(Dropout(0.2))\n",
        "# Second GRU layer\n",
        "gru.add(GRU(units=50, return_sequences=True, input_shape=(x_train.shape[1],1), activation='tanh'))\n",
        "gru.add(Dropout(0.2))\n",
        "# Third GRU layer\n",
        "gru.add(GRU(units=50, return_sequences=True, input_shape=(x_train.shape[1],1), activation='tanh'))\n",
        "gru.add(Dropout(0.2))\n",
        "# Fourth GRU layer\n",
        "gru.add(GRU(units=50, activation='tanh'))\n",
        "gru.add(Dropout(0.2))\n",
        "# The output layer\n",
        "gru.add(Dense(units=1))\n",
        "# Compiling the RNN\n",
        "gru.compile(optimizer=SGD(lr=0.01, momentum=0.9, nesterov=False),loss='mean_squared_error')\n"
      ]
    },
    {
      "cell_type": "code",
      "execution_count": null,
      "metadata": {
        "id": "B--KRq0k3ELy"
      },
      "outputs": [],
      "source": [
        "from keras.models import Sequential\n",
        "from keras.layers import Dense, LSTM, Dropout, GRU, Bidirectional\n",
        "from keras.optimizers import SGD\n",
        "import math\n",
        "from sklearn.metrics import mean_squared_error"
      ]
    },
    {
      "cell_type": "code",
      "execution_count": null,
      "metadata": {
        "colab": {
          "base_uri": "https://localhost:8080/"
        },
        "id": "kgMvZMWs4SF_",
        "outputId": "38ba0691-c777-4ba8-d897-09a42acaaf16"
      },
      "outputs": [
        {
          "name": "stdout",
          "output_type": "stream",
          "text": [
            "Epoch 1/4\n",
            "1541/1541 [==============================] - 94s 49ms/step - loss: 0.0161\n",
            "Epoch 2/4\n",
            "1541/1541 [==============================] - 72s 47ms/step - loss: 0.0088\n",
            "Epoch 3/4\n",
            "1541/1541 [==============================] - 72s 47ms/step - loss: 0.0084\n",
            "Epoch 4/4\n",
            "1541/1541 [==============================] - 72s 47ms/step - loss: 0.0081\n",
            "time complexity :339.162 \n"
          ]
        }
      ],
      "source": [
        "# Fitting to the training set\n",
        "\n",
        "epochs = 4\n",
        "batch_size = 1000\n",
        "start_time=time.time()\n",
        "gru.fit(x_train, y_train, epochs = epochs, batch_size = batch_size)\n",
        "end_time=time.time()\n",
        "training_time=end_time - start_time\n",
        "print(\"time complexity :{:.3f} \".format(training_time))\n"
      ]
    },
    {
      "cell_type": "code",
      "execution_count": null,
      "metadata": {
        "colab": {
          "base_uri": "https://localhost:8080/"
        },
        "id": "uY8TUZEv4zsj",
        "outputId": "6b2cf2af-000a-476d-fcdb-836b29d71213"
      },
      "outputs": [
        {
          "name": "stdout",
          "output_type": "stream",
          "text": [
            "12037/12037 [==============================] - 91s 7ms/step\n",
            "48148/48148 [==============================] - 354s 7ms/step\n",
            "predicted value [[1.]\n",
            " [0.]\n",
            " [1.]\n",
            " ...\n",
            " [1.]\n",
            " [0.]\n",
            " [1.]]\n",
            "actual  value 1629698    1\n",
            "1234611    0\n",
            "1864542    1\n",
            "2114322    1\n",
            "1019423    0\n",
            "          ..\n",
            "439698     0\n",
            "1146247    0\n",
            "1995346    1\n",
            "1607093    0\n",
            "1661420    1\n",
            "Name: Attack_label, Length: 385182, dtype: int64\n"
          ]
        }
      ],
      "source": [
        "predict = gru.predict(x_test).round()\n",
        "ytrain_pred=gru.predict(x_train).round()\n",
        "print(\"predicted value\",predict)\n",
        "print(\"actual  value\",y_test)"
      ]
    },
    {
      "cell_type": "code",
      "execution_count": null,
      "metadata": {
        "colab": {
          "base_uri": "https://localhost:8080/"
        },
        "id": "CZy5YDRA43Cr",
        "outputId": "9319ef60-bbe5-47db-ce6f-828a4bb125f6"
      },
      "outputs": [
        {
          "name": "stdout",
          "output_type": "stream",
          "text": [
            "accuracy  train time in GRU  0.9971643275127082\n",
            "accuracy  test time in GRU 0.9971727650824805\n",
            "[[276220      0]\n",
            " [  1089 107873]]\n",
            "Classification Report:\n",
            "              precision    recall  f1-score   support\n",
            "\n",
            "           0       1.00      1.00      1.00    276220\n",
            "           1       1.00      0.99      0.99    108962\n",
            "\n",
            "    accuracy                           1.00    385182\n",
            "   macro avg       1.00      1.00      1.00    385182\n",
            "weighted avg       1.00      1.00      1.00    385182\n",
            "\n"
          ]
        }
      ],
      "source": [
        "from sklearn.metrics import confusion_matrix, classification_report\n",
        "from sklearn.preprocessing import LabelBinarizer\n",
        "\n",
        "# Convert predict to a binary label array\n",
        "\n",
        "print(\"accuracy  train time in GRU \",accuracy_score(y_train, ytrain_pred))\n",
        "print(\"accuracy  test time in GRU\",accuracy_score(y_test, predict))\n",
        "\n",
        "# Calculate the confusion matrix\n",
        "cm = confusion_matrix(y_test, predict)\n",
        "print(cm)\n",
        "\n",
        "# Classification Report\n",
        "print(\"Classification Report:\")\n",
        "print(classification_report(y_test, predict))"
      ]
    },
    {
      "cell_type": "code",
      "execution_count": null,
      "metadata": {
        "id": "OdWsj-busRpp"
      },
      "outputs": [],
      "source": [
        "num_classes = cm.shape[0]\n",
        "\n",
        "# Initialize arrays to store results\n",
        "true_negatives = np.zeros(num_classes, dtype=int)\n",
        "false_negatives = np.zeros(num_classes, dtype=int)\n",
        "true_positives = np.zeros(num_classes, dtype=int)\n",
        "false_positives = np.zeros(num_classes, dtype=int)\n",
        "\n",
        "# Calculate TN, FN, TP, FP for each class\n",
        "for i in range(num_classes):\n",
        "    # True Negatives (TN) for class i\n",
        "    mask = np.ones(num_classes, dtype=bool)\n",
        "    mask[i] = False\n",
        "    true_negatives[i] = np.sum(cm[mask][:, mask])\n",
        "\n",
        "    # False Negatives (FN) for class i\n",
        "    false_negatives[i] = np.sum(cm[i, :]) - cm[i, i]\n",
        "\n",
        "    # True Positives (TP) for class i\n",
        "    true_positives[i] = cm[i, i]\n",
        "\n",
        "    # False Positives (FP) for class i\n",
        "    false_positives[i] = np.sum(cm[:, i]) - cm[i, i]\n",
        "\n",
        "# Calculate False Alarm Rate (FAR) for each class\n",
        "false_alarm_rate = false_positives / (false_positives + true_negatives)\n",
        "\n",
        "# Calculate total False Alarm Rate (FAR)\n",
        "total_false_alarm_rate = np.sum(false_positives) / np.sum(false_positives + true_negatives)\n",
        "\n",
        "# Print results\n",
        "print(\"True Negatives for each class:\", true_negatives)\n",
        "print(\"False Negatives for each class:\", false_negatives)\n",
        "print(\"True Positives for each class:\", true_positives)\n",
        "print(\"False Positives for each class:\", false_positives)\n",
        "print(\"False Alarm Rate (FAR) for each class:\", false_alarm_rate)\n",
        "print(\"Total False Alarm Rate (FAR) for all classes combined:\", total_false_alarm_rate)"
      ]
    },
    {
      "cell_type": "code",
      "execution_count": null,
      "metadata": {
        "colab": {
          "base_uri": "https://localhost:8080/"
        },
        "id": "OaLFqvizufR1",
        "outputId": "4d0988c6-7e92-45da-ca86-d688778e536a"
      },
      "outputs": [
        {
          "name": "stdout",
          "output_type": "stream",
          "text": [
            "GRU MSE 0.00282723491751951\n",
            "GRU RMSE 0.05317174924261482\n",
            "GRU MAE 0.00282723491751951\n"
          ]
        }
      ],
      "source": [
        "from sklearn.metrics import mean_squared_error\n",
        "from sklearn.metrics import mean_absolute_error\n",
        "import math\n",
        "MSE =mean_squared_error(y_test, predict)\n",
        "print('GRU MSE',MSE)\n",
        "\n",
        "    #Root Mean squared error\n",
        "RMSE = math.sqrt(MSE)\n",
        "print('GRU RMSE',RMSE)\n",
        "\n",
        "    #Mean absolute error\n",
        "MAE =mean_absolute_error(y_test, predict)\n",
        "print('GRU MAE',MAE)"
      ]
    },
    {
      "cell_type": "markdown",
      "metadata": {
        "id": "3Tiw-Bs28KZW"
      },
      "source": [
        "**Autoencoders**"
      ]
    },
    {
      "cell_type": "markdown",
      "metadata": {
        "id": "WUt7CygD8Lff"
      },
      "source": [
        "https://www.kaggle.com/code/vincentkr18/beginner-autoencoders-using-keras"
      ]
    },
    {
      "cell_type": "code",
      "execution_count": null,
      "metadata": {
        "id": "IOtoWImPUwEg"
      },
      "outputs": [],
      "source": []
    },
    {
      "cell_type": "markdown",
      "metadata": {
        "id": "I1nkTjoo8Zwm"
      },
      "source": [
        "https://www.kaggle.com/code/rockystats/understanding-auto-encoders"
      ]
    },
    {
      "cell_type": "markdown",
      "metadata": {
        "id": "hx65OPy98awn"
      },
      "source": [
        "https://www.kaggle.com/code/residentmario/autoencoders"
      ]
    },
    {
      "cell_type": "markdown",
      "metadata": {
        "id": "9xKK-GFM8u-d"
      },
      "source": [
        "https://www.kaggle.com/code/deepaksurana/fraud-detection-using-autoencoders-in-keras"
      ]
    },
    {
      "cell_type": "markdown",
      "metadata": {
        "id": "4_JN7KKZ897u"
      },
      "source": [
        "https://www.kaggle.com/code/robinteuwens/anomaly-detection-with-auto-encoders"
      ]
    },
    {
      "cell_type": "markdown",
      "metadata": {
        "id": "umaUhkBV9SJb"
      },
      "source": [
        "https://www.kaggle.com/code/saumandas/intro-to-autoencoders/notebook?scriptVersionId=41387885"
      ]
    },
    {
      "cell_type": "markdown",
      "metadata": {
        "id": "qbacsYg_90iV"
      },
      "source": []
    },
    {
      "cell_type": "code",
      "execution_count": null,
      "metadata": {
        "colab": {
          "base_uri": "https://localhost:8080/"
        },
        "id": "5puBFZ8-p93r",
        "outputId": "192a10e4-94c0-40ed-d612-619cb404c2f4"
      },
      "outputs": [
        {
          "name": "stdout",
          "output_type": "stream",
          "text": [
            "Found existing installation: tensorboard 2.15.1\n",
            "Uninstalling tensorboard-2.15.1:\n",
            "  Would remove:\n",
            "    /usr/local/bin/tensorboard\n",
            "    /usr/local/lib/python3.10/dist-packages/tensorboard-2.15.1.dist-info/*\n",
            "    /usr/local/lib/python3.10/dist-packages/tensorboard/*\n",
            "  Would not remove (might be manually added):\n",
            "    /usr/local/lib/python3.10/dist-packages/tensorboard/db.py\n",
            "    /usr/local/lib/python3.10/dist-packages/tensorboard/pip_package/__init__.py\n",
            "    /usr/local/lib/python3.10/dist-packages/tensorboard/pip_package/setup.py\n",
            "    /usr/local/lib/python3.10/dist-packages/tensorboard/plugins/debugger/__init__.py\n",
            "    /usr/local/lib/python3.10/dist-packages/tensorboard/plugins/debugger/comm_channel.py\n",
            "    /usr/local/lib/python3.10/dist-packages/tensorboard/plugins/debugger/constants.py\n",
            "    /usr/local/lib/python3.10/dist-packages/tensorboard/plugins/debugger/debug_graphs_helper.py\n",
            "    /usr/local/lib/python3.10/dist-packages/tensorboard/plugins/debugger/debugger_plugin.py\n",
            "    /usr/local/lib/python3.10/dist-packages/tensorboard/plugins/debugger/debugger_plugin_loader.py\n",
            "    /usr/local/lib/python3.10/dist-packages/tensorboard/plugins/debugger/debugger_server_lib.py\n",
            "    /usr/local/lib/python3.10/dist-packages/tensorboard/plugins/debugger/events_writer_manager.py\n",
            "    /usr/local/lib/python3.10/dist-packages/tensorboard/plugins/debugger/interactive_debugger_plugin.py\n",
            "    /usr/local/lib/python3.10/dist-packages/tensorboard/plugins/debugger/interactive_debugger_server_lib.py\n",
            "    /usr/local/lib/python3.10/dist-packages/tensorboard/plugins/debugger/numerics_alert.py\n",
            "    /usr/local/lib/python3.10/dist-packages/tensorboard/plugins/debugger/tensor_helper.py\n",
            "    /usr/local/lib/python3.10/dist-packages/tensorboard/plugins/debugger/tensor_store.py\n",
            "    /usr/local/lib/python3.10/dist-packages/tensorboard/plugins/profile/__init__.py\n",
            "    /usr/local/lib/python3.10/dist-packages/tensorboard/plugins/profile/profile_plugin.py\n",
            "    /usr/local/lib/python3.10/dist-packages/tensorboard/plugins/profile/trace_events_json.py\n",
            "    /usr/local/lib/python3.10/dist-packages/tensorboard/plugins/profile/trace_events_pb2.py\n",
            "    /usr/local/lib/python3.10/dist-packages/tensorboard/summary.py\n",
            "    /usr/local/lib/python3.10/dist-packages/tensorboard/util.py\n",
            "Proceed (Y/n)? Y\n",
            "  Successfully uninstalled tensorboard-2.15.1\n"
          ]
        }
      ],
      "source": [
        "pip uninstall tensorboard"
      ]
    },
    {
      "cell_type": "code",
      "execution_count": null,
      "metadata": {
        "id": "exjAuoz8Uwrs"
      },
      "outputs": [],
      "source": [
        "from keras.models import Model, load_model\n",
        "from keras.layers import Input, Dense\n",
        "from keras.callbacks import ModelCheckpoint, TensorBoard\n",
        "from keras import regularizers\n",
        "import math"
      ]
    },
    {
      "cell_type": "code",
      "execution_count": null,
      "metadata": {
        "id": "eeBMQCTwWc78"
      },
      "outputs": [],
      "source": [
        "\n",
        "nb_epoch = 4\n",
        "batch_size = 1000\n",
        "input_dim = x_train.shape[1] #num of columns, 30\n",
        "encoding_dim = 18\n",
        "hidden_dim1 = 10 #int(encoding_dim / 2) #i.e. 7\n",
        "hidden_dim2 = 6\n",
        "learning_rate = 1e-7"
      ]
    },
    {
      "cell_type": "code",
      "execution_count": null,
      "metadata": {
        "id": "isVRE73tU2N8"
      },
      "outputs": [],
      "source": [
        "# This returns a tensor\n",
        "input_layer = Input(shape=(input_dim, ))\n",
        "\n",
        "# a layer instance is callable on a tensor, and returns a tensor\n",
        "# Dense implements the operation: output = activation(dot(input, kernel) + bias), where\n",
        "# activation is the element-wise activation function passed as the activation argument,\n",
        "# kernel is a weights matrix created by the layer, and\n",
        "# bias is a bias vector created by the layer (only applicable if use_bias is True).\n",
        "\n",
        "# activity_regularizer: Regularizer function applied to the output of the layer\n",
        "encoder = Dense(encoding_dim, activation=\"tanh\",\n",
        "                activity_regularizer=regularizers.l1(learning_rate))(input_layer)\n",
        "encoder = Dense(hidden_dim1, activation=\"elu\")(encoder)\n",
        "encoder = Dense(hidden_dim2, activation=\"tanh\")(encoder)\n",
        "decoder = Dense(hidden_dim2, activation='elu')(encoder)\n",
        "decoder = Dense(hidden_dim1, activation='tanh')(decoder)\n",
        "decoder = Dense(input_dim, activation='elu')(decoder)\n",
        "\n",
        "# This creates a model that includes\n",
        "# the Input layer and four Dense layers\n",
        "autoencoder = Model(inputs=input_layer, outputs=decoder)"
      ]
    },
    {
      "cell_type": "code",
      "execution_count": null,
      "metadata": {
        "id": "XMhcCY6BgM6j"
      },
      "outputs": [],
      "source": [
        "# Configure the learning process, by compiling the model\n",
        "autoencoder.compile(optimizer='adam',\n",
        "                    metrics=['accuracy'],\n",
        "                    loss='mean_squared_error')"
      ]
    },
    {
      "cell_type": "code",
      "execution_count": null,
      "metadata": {
        "id": "RHFxHvsjvQj4"
      },
      "outputs": [],
      "source": []
    },
    {
      "cell_type": "code",
      "execution_count": null,
      "metadata": {
        "id": "MhcfOwq1iHyV"
      },
      "outputs": [],
      "source": [
        "# Saving the model\n",
        "cp = ModelCheckpoint(filepath=\"autoencoder_IDS.h5\",\n",
        "                     save_best_only=True,\n",
        "                     verbose=0)"
      ]
    },
    {
      "cell_type": "code",
      "execution_count": null,
      "metadata": {
        "id": "JugTWq0VrQdR"
      },
      "outputs": [],
      "source": [
        "# TensorBoard basic visualizations.\n",
        "# This callback writes a log for TensorBoard,\n",
        "# which allows you to visualize dynamic graphs of your training and test metrics\n",
        "tb = TensorBoard(log_dir='./logs',\n",
        "                 histogram_freq=0,\n",
        "                 write_graph=True,\n",
        "                 write_images=True)"
      ]
    },
    {
      "cell_type": "code",
      "execution_count": null,
      "metadata": {
        "colab": {
          "base_uri": "https://localhost:8080/",
          "height": 175
        },
        "id": "8FFeJ3efvgLm",
        "outputId": "f041d7a3-40b6-4194-886a-1f339b147025"
      },
      "outputs": [
        {
          "ename": "AttributeError",
          "evalue": "'Functional' object has no attribute 'model'",
          "output_type": "error",
          "traceback": [
            "\u001b[0;31m---------------------------------------------------------------------------\u001b[0m",
            "\u001b[0;31mAttributeError\u001b[0m                            Traceback (most recent call last)",
            "\u001b[0;32m<ipython-input-26-396f8e7c5af4>\u001b[0m in \u001b[0;36m<cell line: 1>\u001b[0;34m()\u001b[0m\n\u001b[0;32m----> 1\u001b[0;31m \u001b[0mautoencoder\u001b[0m\u001b[0;34m.\u001b[0m\u001b[0mmodel\u001b[0m\u001b[0;34m.\u001b[0m\u001b[0mget_params\u001b[0m\u001b[0;34m(\u001b[0m\u001b[0;34m)\u001b[0m\u001b[0;34m\u001b[0m\u001b[0;34m\u001b[0m\u001b[0m\n\u001b[0m",
            "\u001b[0;31mAttributeError\u001b[0m: 'Functional' object has no attribute 'model'"
          ]
        }
      ],
      "source": []
    },
    {
      "cell_type": "code",
      "execution_count": null,
      "metadata": {
        "colab": {
          "base_uri": "https://localhost:8080/"
        },
        "id": "-SKXJOXd-Z1u",
        "outputId": "681b717e-c776-4773-ee9a-57b510543f8d"
      },
      "outputs": [
        {
          "name": "stdout",
          "output_type": "stream",
          "text": [
            "Found existing installation: tensorboard 2.15.1\n",
            "Uninstalling tensorboard-2.15.1:\n",
            "  Would remove:\n",
            "    /usr/local/bin/tensorboard\n",
            "    /usr/local/lib/python3.10/dist-packages/tensorboard-2.15.1.dist-info/*\n",
            "    /usr/local/lib/python3.10/dist-packages/tensorboard/*\n",
            "  Would not remove (might be manually added):\n",
            "    /usr/local/lib/python3.10/dist-packages/tensorboard/db.py\n",
            "    /usr/local/lib/python3.10/dist-packages/tensorboard/pip_package/__init__.py\n",
            "    /usr/local/lib/python3.10/dist-packages/tensorboard/pip_package/setup.py\n",
            "    /usr/local/lib/python3.10/dist-packages/tensorboard/plugins/debugger/__init__.py\n",
            "    /usr/local/lib/python3.10/dist-packages/tensorboard/plugins/debugger/comm_channel.py\n",
            "    /usr/local/lib/python3.10/dist-packages/tensorboard/plugins/debugger/constants.py\n",
            "    /usr/local/lib/python3.10/dist-packages/tensorboard/plugins/debugger/debug_graphs_helper.py\n",
            "    /usr/local/lib/python3.10/dist-packages/tensorboard/plugins/debugger/debugger_plugin.py\n",
            "    /usr/local/lib/python3.10/dist-packages/tensorboard/plugins/debugger/debugger_plugin_loader.py\n",
            "    /usr/local/lib/python3.10/dist-packages/tensorboard/plugins/debugger/debugger_server_lib.py\n",
            "    /usr/local/lib/python3.10/dist-packages/tensorboard/plugins/debugger/events_writer_manager.py\n",
            "    /usr/local/lib/python3.10/dist-packages/tensorboard/plugins/debugger/interactive_debugger_plugin.py\n",
            "    /usr/local/lib/python3.10/dist-packages/tensorboard/plugins/debugger/interactive_debugger_server_lib.py\n",
            "    /usr/local/lib/python3.10/dist-packages/tensorboard/plugins/debugger/numerics_alert.py\n",
            "    /usr/local/lib/python3.10/dist-packages/tensorboard/plugins/debugger/tensor_helper.py\n",
            "    /usr/local/lib/python3.10/dist-packages/tensorboard/plugins/debugger/tensor_store.py\n",
            "    /usr/local/lib/python3.10/dist-packages/tensorboard/plugins/profile/__init__.py\n",
            "    /usr/local/lib/python3.10/dist-packages/tensorboard/plugins/profile/profile_plugin.py\n",
            "    /usr/local/lib/python3.10/dist-packages/tensorboard/plugins/profile/trace_events_json.py\n",
            "    /usr/local/lib/python3.10/dist-packages/tensorboard/plugins/profile/trace_events_pb2.py\n",
            "    /usr/local/lib/python3.10/dist-packages/tensorboard/summary.py\n",
            "    /usr/local/lib/python3.10/dist-packages/tensorboard/util.py\n",
            "Proceed (Y/n)? Y\n",
            "  Successfully uninstalled tensorboard-2.15.1\n"
          ]
        }
      ],
      "source": [
        "\n",
        "pip uninstall tensorboard"
      ]
    },
    {
      "cell_type": "code",
      "execution_count": null,
      "metadata": {
        "colab": {
          "base_uri": "https://localhost:8080/",
          "height": 1000
        },
        "id": "UA1RU-X5_KMz",
        "outputId": "882fc109-c0fc-459a-ea31-2dc93d7aee88"
      },
      "outputs": [
        {
          "name": "stdout",
          "output_type": "stream",
          "text": [
            "Requirement already satisfied: tensorflow in /usr/local/lib/python3.10/dist-packages (2.15.0)\n",
            "Collecting tensorflow\n",
            "  Downloading tensorflow-2.15.0.post1-cp310-cp310-manylinux_2_17_x86_64.manylinux2014_x86_64.whl (475.2 MB)\n",
            "\u001b[2K     \u001b[90m━━━━━━━━━━━━━━━━━━━━━━━━━━━━━━━━━━━━━━━━\u001b[0m \u001b[32m475.2/475.2 MB\u001b[0m \u001b[31m1.0 MB/s\u001b[0m eta \u001b[36m0:00:00\u001b[0m\n",
            "\u001b[?25hRequirement already satisfied: absl-py>=1.0.0 in /usr/local/lib/python3.10/dist-packages (from tensorflow) (1.4.0)\n",
            "Requirement already satisfied: astunparse>=1.6.0 in /usr/local/lib/python3.10/dist-packages (from tensorflow) (1.6.3)\n",
            "Requirement already satisfied: flatbuffers>=23.5.26 in /usr/local/lib/python3.10/dist-packages (from tensorflow) (23.5.26)\n",
            "Requirement already satisfied: gast!=0.5.0,!=0.5.1,!=0.5.2,>=0.2.1 in /usr/local/lib/python3.10/dist-packages (from tensorflow) (0.5.4)\n",
            "Requirement already satisfied: google-pasta>=0.1.1 in /usr/local/lib/python3.10/dist-packages (from tensorflow) (0.2.0)\n",
            "Requirement already satisfied: h5py>=2.9.0 in /usr/local/lib/python3.10/dist-packages (from tensorflow) (3.9.0)\n",
            "Requirement already satisfied: libclang>=13.0.0 in /usr/local/lib/python3.10/dist-packages (from tensorflow) (16.0.6)\n",
            "Requirement already satisfied: ml-dtypes~=0.2.0 in /usr/local/lib/python3.10/dist-packages (from tensorflow) (0.2.0)\n",
            "Requirement already satisfied: numpy<2.0.0,>=1.23.5 in /usr/local/lib/python3.10/dist-packages (from tensorflow) (1.23.5)\n",
            "Requirement already satisfied: opt-einsum>=2.3.2 in /usr/local/lib/python3.10/dist-packages (from tensorflow) (3.3.0)\n",
            "Requirement already satisfied: packaging in /usr/local/lib/python3.10/dist-packages (from tensorflow) (23.2)\n",
            "Requirement already satisfied: protobuf!=4.21.0,!=4.21.1,!=4.21.2,!=4.21.3,!=4.21.4,!=4.21.5,<5.0.0dev,>=3.20.3 in /usr/local/lib/python3.10/dist-packages (from tensorflow) (3.20.3)\n",
            "Requirement already satisfied: setuptools in /usr/local/lib/python3.10/dist-packages (from tensorflow) (67.7.2)\n",
            "Requirement already satisfied: six>=1.12.0 in /usr/local/lib/python3.10/dist-packages (from tensorflow) (1.16.0)\n",
            "Requirement already satisfied: termcolor>=1.1.0 in /usr/local/lib/python3.10/dist-packages (from tensorflow) (2.4.0)\n",
            "Requirement already satisfied: typing-extensions>=3.6.6 in /usr/local/lib/python3.10/dist-packages (from tensorflow) (4.5.0)\n",
            "Requirement already satisfied: wrapt<1.15,>=1.11.0 in /usr/local/lib/python3.10/dist-packages (from tensorflow) (1.14.1)\n",
            "Requirement already satisfied: tensorflow-io-gcs-filesystem>=0.23.1 in /usr/local/lib/python3.10/dist-packages (from tensorflow) (0.34.0)\n",
            "Requirement already satisfied: grpcio<2.0,>=1.24.3 in /usr/local/lib/python3.10/dist-packages (from tensorflow) (1.60.0)\n",
            "Collecting tensorboard<2.16,>=2.15 (from tensorflow)\n",
            "  Using cached tensorboard-2.15.1-py3-none-any.whl (5.5 MB)\n",
            "Requirement already satisfied: tensorflow-estimator<2.16,>=2.15.0 in /usr/local/lib/python3.10/dist-packages (from tensorflow) (2.15.0)\n",
            "Requirement already satisfied: keras<2.16,>=2.15.0 in /usr/local/lib/python3.10/dist-packages (from tensorflow) (2.15.0)\n",
            "Requirement already satisfied: wheel<1.0,>=0.23.0 in /usr/local/lib/python3.10/dist-packages (from astunparse>=1.6.0->tensorflow) (0.42.0)\n",
            "Requirement already satisfied: google-auth<3,>=1.6.3 in /usr/local/lib/python3.10/dist-packages (from tensorboard<2.16,>=2.15->tensorflow) (2.17.3)\n",
            "Requirement already satisfied: google-auth-oauthlib<2,>=0.5 in /usr/local/lib/python3.10/dist-packages (from tensorboard<2.16,>=2.15->tensorflow) (1.2.0)\n",
            "Requirement already satisfied: markdown>=2.6.8 in /usr/local/lib/python3.10/dist-packages (from tensorboard<2.16,>=2.15->tensorflow) (3.5.1)\n",
            "Requirement already satisfied: requests<3,>=2.21.0 in /usr/local/lib/python3.10/dist-packages (from tensorboard<2.16,>=2.15->tensorflow) (2.31.0)\n",
            "Requirement already satisfied: tensorboard-data-server<0.8.0,>=0.7.0 in /usr/local/lib/python3.10/dist-packages (from tensorboard<2.16,>=2.15->tensorflow) (0.7.2)\n",
            "Requirement already satisfied: werkzeug>=1.0.1 in /usr/local/lib/python3.10/dist-packages (from tensorboard<2.16,>=2.15->tensorflow) (3.0.1)\n",
            "Requirement already satisfied: cachetools<6.0,>=2.0.0 in /usr/local/lib/python3.10/dist-packages (from google-auth<3,>=1.6.3->tensorboard<2.16,>=2.15->tensorflow) (5.3.2)\n",
            "Requirement already satisfied: pyasn1-modules>=0.2.1 in /usr/local/lib/python3.10/dist-packages (from google-auth<3,>=1.6.3->tensorboard<2.16,>=2.15->tensorflow) (0.3.0)\n",
            "Requirement already satisfied: rsa<5,>=3.1.4 in /usr/local/lib/python3.10/dist-packages (from google-auth<3,>=1.6.3->tensorboard<2.16,>=2.15->tensorflow) (4.9)\n",
            "Requirement already satisfied: requests-oauthlib>=0.7.0 in /usr/local/lib/python3.10/dist-packages (from google-auth-oauthlib<2,>=0.5->tensorboard<2.16,>=2.15->tensorflow) (1.3.1)\n",
            "Requirement already satisfied: charset-normalizer<4,>=2 in /usr/local/lib/python3.10/dist-packages (from requests<3,>=2.21.0->tensorboard<2.16,>=2.15->tensorflow) (3.3.2)\n",
            "Requirement already satisfied: idna<4,>=2.5 in /usr/local/lib/python3.10/dist-packages (from requests<3,>=2.21.0->tensorboard<2.16,>=2.15->tensorflow) (3.6)\n",
            "Requirement already satisfied: urllib3<3,>=1.21.1 in /usr/local/lib/python3.10/dist-packages (from requests<3,>=2.21.0->tensorboard<2.16,>=2.15->tensorflow) (2.0.7)\n",
            "Requirement already satisfied: certifi>=2017.4.17 in /usr/local/lib/python3.10/dist-packages (from requests<3,>=2.21.0->tensorboard<2.16,>=2.15->tensorflow) (2023.11.17)\n",
            "Requirement already satisfied: MarkupSafe>=2.1.1 in /usr/local/lib/python3.10/dist-packages (from werkzeug>=1.0.1->tensorboard<2.16,>=2.15->tensorflow) (2.1.3)\n",
            "Requirement already satisfied: pyasn1<0.6.0,>=0.4.6 in /usr/local/lib/python3.10/dist-packages (from pyasn1-modules>=0.2.1->google-auth<3,>=1.6.3->tensorboard<2.16,>=2.15->tensorflow) (0.5.1)\n",
            "Requirement already satisfied: oauthlib>=3.0.0 in /usr/local/lib/python3.10/dist-packages (from requests-oauthlib>=0.7.0->google-auth-oauthlib<2,>=0.5->tensorboard<2.16,>=2.15->tensorflow) (3.2.2)\n",
            "Installing collected packages: tensorboard, tensorflow\n",
            "  Attempting uninstall: tensorflow\n",
            "    Found existing installation: tensorflow 2.15.0\n",
            "    Uninstalling tensorflow-2.15.0:\n",
            "      Successfully uninstalled tensorflow-2.15.0\n",
            "Successfully installed tensorboard-2.15.1 tensorflow-2.15.0.post1\n"
          ]
        },
        {
          "data": {
            "application/vnd.colab-display-data+json": {
              "pip_warning": {
                "packages": [
                  "tensorboard",
                  "tensorflow"
                ]
              }
            }
          },
          "metadata": {},
          "output_type": "display_data"
        }
      ],
      "source": [
        "!pip install tensorflow --upgrade"
      ]
    },
    {
      "cell_type": "code",
      "execution_count": null,
      "metadata": {
        "colab": {
          "base_uri": "https://localhost:8080/"
        },
        "id": "GLfap8XwrSQu",
        "outputId": "92e1e6fc-d2b0-4c6a-b213-5ecdd81448fb"
      },
      "outputs": [
        {
          "name": "stdout",
          "output_type": "stream",
          "text": [
            "Epoch 1/4\n",
            "1541/1541 [==============================] - 14s 7ms/step - loss: 0.1411 - accuracy: 0.0012 - val_loss: 0.1343 - val_accuracy: 0.0000e+00\n",
            "Epoch 2/4\n",
            "  24/1541 [..............................] - ETA: 6s - loss: 0.1339 - accuracy: 0.0196    "
          ]
        },
        {
          "name": "stderr",
          "output_type": "stream",
          "text": [
            "/usr/local/lib/python3.10/dist-packages/keras/src/engine/training.py:3103: UserWarning: You are saving your model as an HDF5 file via `model.save()`. This file format is considered legacy. We recommend using instead the native Keras format, e.g. `model.save('my_model.keras')`.\n",
            "  saving_api.save_model(\n"
          ]
        },
        {
          "name": "stdout",
          "output_type": "stream",
          "text": [
            "1541/1541 [==============================] - 9s 6ms/step - loss: 0.1328 - accuracy: 0.0077 - val_loss: 0.1324 - val_accuracy: 0.0116\n",
            "Epoch 3/4\n",
            "1541/1541 [==============================] - 9s 6ms/step - loss: 0.1320 - accuracy: 0.0130 - val_loss: 0.1321 - val_accuracy: 2.0769e-05\n",
            "Epoch 4/4\n",
            "1541/1541 [==============================] - 9s 6ms/step - loss: 0.1316 - accuracy: 0.0036 - val_loss: 0.1318 - val_accuracy: 1.5837e-04\n",
            "time complexity :47.418 \n"
          ]
        }
      ],
      "source": [
        "# Starts training\n",
        "# autoencoder: same training(x) and target data(y)\n",
        "# validation_data: tuple (x_val, y_val) on which\n",
        "# to evaluate the loss and any model metrics at the end of each epoch.\n",
        "\n",
        "# History.history attribute is a record of training loss values\n",
        "# and metrics values at successive epochs.\n",
        "start_time=time.time()\n",
        "history = autoencoder.fit(x=x_train, y=y_train,\n",
        "                          epochs=nb_epoch,\n",
        "                          batch_size=batch_size,\n",
        "                          shuffle=True,\n",
        "                          validation_data=(x_test, y_test),\n",
        "                          verbose=1,\n",
        "                          callbacks=[cp, tb]).history\n",
        "end_time=time.time()\n",
        "training_time=end_time - start_time\n",
        "print(\"time complexity :{:.3f} \".format(training_time))\n"
      ]
    },
    {
      "cell_type": "code",
      "execution_count": null,
      "metadata": {
        "id": "j7UZz7bxvmXy"
      },
      "outputs": [],
      "source": []
    },
    {
      "cell_type": "code",
      "execution_count": null,
      "metadata": {
        "id": "UaSwRDmSDmew"
      },
      "outputs": [],
      "source": [
        "autoencoder = load_model('autoencoder_IDS.h5')"
      ]
    },
    {
      "cell_type": "code",
      "execution_count": null,
      "metadata": {
        "colab": {
          "base_uri": "https://localhost:8080/"
        },
        "id": "BRxeDW6ZDMMb",
        "outputId": "40d57042-5b04-4ebe-f376-ffc95633ab0e"
      },
      "outputs": [
        {
          "name": "stdout",
          "output_type": "stream",
          "text": [
            "12037/12037 [==============================] - 21s 2ms/step\n",
            "48148/48148 [==============================] - 82s 2ms/step\n",
            "predicted value [[0.20493658 0.20503008 0.20475036 ... 0.20555131 0.20550606 0.20545962]\n",
            " [0.20493658 0.20503008 0.20475036 ... 0.20555131 0.20550606 0.20545962]\n",
            " [0.20493658 0.20503008 0.20475036 ... 0.20555131 0.20550606 0.20545962]\n",
            " ...\n",
            " [0.20493658 0.20503008 0.20475036 ... 0.20555131 0.20550606 0.20545962]\n",
            " [0.20493658 0.20503008 0.20475036 ... 0.20555131 0.20550606 0.20545962]\n",
            " [0.20493658 0.20503008 0.20475036 ... 0.20555131 0.20550606 0.20545962]]\n",
            "actual  value 636889     0\n",
            "383240     0\n",
            "1179919    0\n",
            "1996805    1\n",
            "127847     0\n",
            "          ..\n",
            "1797847    1\n",
            "484029     0\n",
            "1933856    1\n",
            "504369     0\n",
            "1401093    0\n",
            "Name: Attack_label, Length: 385182, dtype: int64\n"
          ]
        }
      ],
      "source": [
        "#x_train = x_train.values                    # transform to ndarray\n",
        "#x_test = x_test.values                      # transform to ndarray\n",
        "predict = autoencoder.predict(x_test)\n",
        "#predict=np.argmax(predict, axis=1)\n",
        "\n",
        "\n",
        "ytrain_pred=autoencoder.predict(x_train)\n",
        "\n",
        "print(\"predicted value\",predict)\n",
        "print(\"actual  value\",y_test)"
      ]
    },
    {
      "cell_type": "code",
      "execution_count": null,
      "metadata": {
        "id": "rcVo2miW5YQJ"
      },
      "outputs": [],
      "source": [
        "from sklearn.linear_model import LogisticRegression"
      ]
    },
    {
      "cell_type": "code",
      "execution_count": null,
      "metadata": {
        "colab": {
          "base_uri": "https://localhost:8080/"
        },
        "id": "1NjVyHzc5Zp4",
        "outputId": "a94e4aa8-dd0d-464a-8d9f-8f4a5061a5d1"
      },
      "outputs": [
        {
          "name": "stdout",
          "output_type": "stream",
          "text": [
            "0.8356335446620039\n"
          ]
        }
      ],
      "source": [
        "# define the model\n",
        "model = LogisticRegression(max_iter = 200)\n",
        "## specifying max_iter = 200 , to avoid the CONVERGENCE WARNING\n",
        "## Why do we get CONVERGENCE WARNING ?\n",
        "## because the model has converged already , but our loop is still training ovwr many epochs.\n",
        "## Reduce the epochs\n",
        "\n",
        "# fit the model on the training set\n",
        "model.fit(ytrain_pred, y_train)\n",
        "\n",
        "# make predictions on the test set\n",
        "yhat = model.predict(predict)\n",
        "\n",
        "# calculate classification accuracy\n",
        "acc = accuracy_score(y_test, yhat)\n",
        "print(acc)"
      ]
    },
    {
      "cell_type": "code",
      "execution_count": null,
      "metadata": {
        "colab": {
          "base_uri": "https://localhost:8080/"
        },
        "id": "Pp6uZ0_k4Lyp",
        "outputId": "7a166df8-8175-4ae7-9a64-a05b5db65e29"
      },
      "outputs": [
        {
          "name": "stdout",
          "output_type": "stream",
          "text": [
            "[[276047    188]\n",
            " [ 63123  45824]]\n",
            "Classification Report:\n",
            "              precision    recall  f1-score   support\n",
            "\n",
            "           0       0.81      1.00      0.90    276235\n",
            "           1       1.00      0.42      0.59    108947\n",
            "\n",
            "    accuracy                           0.84    385182\n",
            "   macro avg       0.90      0.71      0.74    385182\n",
            "weighted avg       0.87      0.84      0.81    385182\n",
            "\n"
          ]
        }
      ],
      "source": [
        "from sklearn.metrics import confusion_matrix, classification_report\n",
        "from sklearn.preprocessing import LabelBinarizer\n",
        "\n",
        "# Convert predict to a binary label array\n",
        "\n",
        "\n",
        "# Calculate the confusion matrix\n",
        "cm = confusion_matrix(y_test, yhat)\n",
        "print(cm)\n",
        "\n",
        "# Classification Report\n",
        "print(\"Classification Report:\")\n",
        "print(classification_report(y_test, yhat))"
      ]
    },
    {
      "cell_type": "code",
      "execution_count": null,
      "metadata": {
        "colab": {
          "base_uri": "https://localhost:8080/"
        },
        "id": "OyLdPQQzrbz-",
        "outputId": "9c4eb25b-6424-4571-fae1-15906fe0c336"
      },
      "outputs": [
        {
          "name": "stdout",
          "output_type": "stream",
          "text": [
            "True Negatives for each class: [ 45824 276047]\n",
            "False Negatives for each class: [  188 63123]\n",
            "True Positives for each class: [276047  45824]\n",
            "False Positives for each class: [63123   188]\n",
            "False Alarm Rate (FAR) for each class: [0.57939181 0.00068058]\n",
            "Total False Alarm Rate (FAR) for all classes combined: 0.16436645533799607\n"
          ]
        }
      ],
      "source": [
        "num_classes = cm.shape[0]\n",
        "\n",
        "# Initialize arrays to store results\n",
        "true_negatives = np.zeros(num_classes, dtype=int)\n",
        "false_negatives = np.zeros(num_classes, dtype=int)\n",
        "true_positives = np.zeros(num_classes, dtype=int)\n",
        "false_positives = np.zeros(num_classes, dtype=int)\n",
        "\n",
        "# Calculate TN, FN, TP, FP for each class\n",
        "for i in range(num_classes):\n",
        "    # True Negatives (TN) for class i\n",
        "    mask = np.ones(num_classes, dtype=bool)\n",
        "    mask[i] = False\n",
        "    true_negatives[i] = np.sum(cm[mask][:, mask])\n",
        "\n",
        "    # False Negatives (FN) for class i\n",
        "    false_negatives[i] = np.sum(cm[i, :]) - cm[i, i]\n",
        "\n",
        "    # True Positives (TP) for class i\n",
        "    true_positives[i] = cm[i, i]\n",
        "\n",
        "    # False Positives (FP) for class i\n",
        "    false_positives[i] = np.sum(cm[:, i]) - cm[i, i]\n",
        "\n",
        "# Calculate False Alarm Rate (FAR) for each class\n",
        "false_alarm_rate = false_positives / (false_positives + true_negatives)\n",
        "\n",
        "# Calculate total False Alarm Rate (FAR)\n",
        "total_false_alarm_rate = np.sum(false_positives) / np.sum(false_positives + true_negatives)\n",
        "\n",
        "# Print results\n",
        "print(\"True Negatives for each class:\", true_negatives)\n",
        "print(\"False Negatives for each class:\", false_negatives)\n",
        "print(\"True Positives for each class:\", true_positives)\n",
        "print(\"False Positives for each class:\", false_positives)\n",
        "print(\"False Alarm Rate (FAR) for each class:\", false_alarm_rate)\n",
        "print(\"Total False Alarm Rate (FAR) for all classes combined:\", total_false_alarm_rate)"
      ]
    },
    {
      "cell_type": "code",
      "execution_count": null,
      "metadata": {
        "colab": {
          "base_uri": "https://localhost:8080/"
        },
        "id": "m_IX0WVC3w-z",
        "outputId": "dcebda60-c562-400e-a1e4-9e24440a4dba"
      },
      "outputs": [
        {
          "name": "stdout",
          "output_type": "stream",
          "text": [
            "GRU MSE 0.16436645533799607\n",
            "GRU RMSE 0.4054213306401084\n",
            "GRU MAE 0.16436645533799607\n"
          ]
        }
      ],
      "source": [
        "from sklearn.metrics import mean_squared_error\n",
        "from sklearn.metrics import mean_absolute_error\n",
        "import math\n",
        "MSE =mean_squared_error(y_test, yhat)\n",
        "print('GRU MSE',MSE)\n",
        "\n",
        "    #Root Mean squared error\n",
        "RMSE = math.sqrt(MSE)\n",
        "print('GRU RMSE',RMSE)\n",
        "\n",
        "    #Mean absolute error\n",
        "MAE =mean_absolute_error(y_test, yhat)\n",
        "print('GRU MAE',MAE)"
      ]
    },
    {
      "cell_type": "markdown",
      "metadata": {
        "id": "ylI9SJp4vtPf"
      },
      "source": [
        "**Model Evaluation (Model Loss)**\n"
      ]
    },
    {
      "cell_type": "code",
      "execution_count": null,
      "metadata": {
        "colab": {
          "base_uri": "https://localhost:8080/",
          "height": 727
        },
        "id": "K-KNFNAgvvk0",
        "outputId": "8dbeeda5-feab-49f1-fe23-b7bea6a87dd2"
      },
      "outputs": [
        {
          "data": {
            "image/png": "[encoded data removed]",
            "text/plain": [
              "<Figure size 1400x800 with 1 Axes>"
            ]
          },
          "metadata": {},
          "output_type": "display_data"
        }
      ],
      "source": [
        "plt.figure(figsize=(14, 8))\n",
        "plt.plot(history['loss'], linewidth=2, label='Train')\n",
        "plt.plot(history['val_loss'], linewidth=2, label='Test')\n",
        "plt.legend(loc='upper right')\n",
        "plt.title('Model loss')\n",
        "plt.ylabel('Loss')\n",
        "plt.xlabel('Epoch')\n",
        "#plt.ylim(ymin=0.70,ymax=1)\n",
        "plt.show()"
      ]
    },
    {
      "cell_type": "markdown",
      "metadata": {
        "id": "29RKyV3Cwgvl"
      },
      "source": [
        "**Recall vs. Precision Thresholding**"
      ]
    },
    {
      "cell_type": "code",
      "execution_count": null,
      "metadata": {
        "id": "4hnfh_d3w8hZ"
      },
      "outputs": [],
      "source": [
        "from sklearn.metrics import confusion_matrix, precision_recall_curve\n",
        "from sklearn.metrics import recall_score, classification_report, auc, roc_curve\n",
        "from sklearn.metrics import precision_recall_fscore_support, f1_score"
      ]
    },
    {
      "cell_type": "code",
      "execution_count": null,
      "metadata": {
        "colab": {
          "base_uri": "https://localhost:8080/",
          "height": 752
        },
        "id": "_rSx_YUZwsbh",
        "outputId": "70023977-650c-4cb4-8f0a-4c9acaba480f"
      },
      "outputs": [
        {
          "data": {
            "image/png": "[encoded data removed]",
            "text/plain": [
              "<Figure size 1400x800 with 1 Axes>"
            ]
          },
          "metadata": {},
          "output_type": "display_data"
        }
      ],
      "source": [
        "# calculates precision/recall using reconstruction error as the decision function\n",
        "# returns:\n",
        "# precision_rt: Precision values such that element i is the precision of predictions with\n",
        "#               score >= thresholds[i] and the last element is 1.\n",
        "# recall_rt: Decreasing recall values such that element i is the recall of predictions with\n",
        "#           score >= thresholds[i] and the last element is 0.\n",
        "# threshold_rt = Increasing thresholds on the decision function used to compute\n",
        "#                precision and recall.\n",
        "precision_rt, recall_rt, threshold_rt = precision_recall_curve(error_df.True_class,\n",
        "                                                               error_df.Reconstruction_error)\n",
        "\n",
        "pr_auc = auc(recall_rt, precision_rt,)\n",
        "\n",
        "plt.figure(figsize=(14, 8))\n",
        "plt.plot(recall_rt, precision_rt, linewidth=5, label='AUC = %0.3f'% pr_auc)\n",
        "plt.legend(loc='upper right')\n",
        "plt.title('Recall vs Precision')\n",
        "plt.xlabel('Recall')\n",
        "plt.ylabel('Precision')\n",
        "plt.show()"
      ]
    },
    {
      "cell_type": "code",
      "execution_count": null,
      "metadata": {
        "colab": {
          "base_uri": "https://localhost:8080/",
          "height": 475
        },
        "id": "84BMf2FwxMEj",
        "outputId": "996ed238-9c28-4a41-892b-addefd1b9749"
      },
      "outputs": [
        {
          "data": {
            "image/png": "[encoded data removed]",
            "text/plain": [
              "<Figure size 1400x800 with 1 Axes>"
            ]
          },
          "metadata": {},
          "output_type": "display_data"
        }
      ],
      "source": [
        "plt.figure(figsize=(14, 8))\n",
        "plt.plot(threshold_rt, precision_rt[1:], label=\"Precision\",linewidth=5)\n",
        "plt.plot(threshold_rt, recall_rt[1:], label=\"Recall\",linewidth=5)\n",
        "plt.title('Precision and recall for different threshold values')\n",
        "plt.xlabel('Threshold')\n",
        "plt.ylabel('Precision/Recall')\n",
        "plt.legend()\n",
        "plt.show()"
      ]
    },
    {
      "cell_type": "markdown",
      "metadata": {
        "id": "gIMzcbufxWRK"
      },
      "source": [
        "**Reconstruction Error vs Threshold Check**"
      ]
    },
    {
      "cell_type": "markdown",
      "metadata": {
        "id": "056BpVsOygTh"
      },
      "source": [
        "**Confusion Matrix**"
      ]
    },
    {
      "cell_type": "code",
      "execution_count": null,
      "metadata": {
        "colab": {
          "base_uri": "https://localhost:8080/",
          "height": 1000
        },
        "id": "7-UmCxMZyhcv",
        "outputId": "479824c3-72f6-4fe0-d216-ea6f7e5111e6"
      },
      "outputs": [
        {
          "data": {
            "image/png": "[encoded data removed]",
            "text/plain": [
              "<Figure size 1200x1200 with 2 Axes>"
            ]
          },
          "metadata": {},
          "output_type": "display_data"
        }
      ],
      "source": [
        " #As with autoencoders, it is the assumption that fraud or anomalies will suffer\n",
        "# from a detectably high reconstruction error, predicting class as 1 (Fraud)\n",
        "# if reconstruction error is greater than threshold\n",
        "#rcParams['figure.figsize'] = 14, 8.7 # Golden Mean\n",
        "LABELS = [\"Normal\",\"Fraud\"]\n",
        "pred_y = [1 if e > threshold_fixed else 0 for e in error_df.Reconstruction_error.values]\n",
        "conf_matrix = confusion_matrix(error_df.True_class, pred_y)\n",
        "\n",
        "plt.figure(figsize=(12, 12))\n",
        "sns.heatmap(conf_matrix, xticklabels=LABELS, yticklabels=LABELS, annot=True, fmt=\"d\");\n",
        "plt.title(\"Confusion matrix\")\n",
        "plt.ylabel('True class')\n",
        "plt.xlabel('Predicted class')\n",
        "plt.show()"
      ]
    },
    {
      "cell_type": "markdown",
      "metadata": {
        "id": "boxmHV7W98oG"
      },
      "source": [
        "**Multilayer Perceptron (MLP)**"
      ]
    },
    {
      "cell_type": "code",
      "execution_count": null,
      "metadata": {
        "id": "gGsquc57_zmP"
      },
      "outputs": [],
      "source": [
        "from sklearn.neural_network import MLPClassifier"
      ]
    },
    {
      "cell_type": "code",
      "execution_count": null,
      "metadata": {
        "colab": {
          "base_uri": "https://localhost:8080/"
        },
        "id": "dh57za_U_1W3",
        "outputId": "f6322223-e993-476c-a53d-dc392898dece"
      },
      "outputs": [
        {
          "name": "stdout",
          "output_type": "stream",
          "text": [
            "time complexity :997.400 \n"
          ]
        }
      ],
      "source": [
        "# We define the model\n",
        "mlp = MLPClassifier(hidden_layer_sizes=(100,100,100),max_iter=1000, random_state=42)\n",
        "\n",
        "# We train model\n",
        "start_time=time.time()\n",
        "mlp.fit(x_train, y_train)\n",
        "end_time=time.time()\n",
        "training_time=end_time - start_time\n",
        "print(\"time complexity :{:.3f} \".format(training_time))\n",
        "\n",
        "# We predict target values\n",
        "prediction = mlp.predict(x_test)"
      ]
    },
    {
      "cell_type": "code",
      "execution_count": null,
      "metadata": {
        "id": "ciLx7QgHAX2A"
      },
      "outputs": [],
      "source": [
        "#start_time=time.time()\n",
        "#test_acc_mlp = round(mlp.fit(x_train,y_train).score(x_test, y_test)* 100, 2)\n",
        "#train_acc_mlp = round(mlp.fit(x_train, y_train).score(x_train, y_train)* 100, 2)\n",
        "#end_time=time.time()\n",
        "#training_time=end_time - start_time\n",
        "#print(\"time complexity :{:.3f} \".format(training_time))\n"
      ]
    },
    {
      "cell_type": "code",
      "execution_count": null,
      "metadata": {
        "colab": {
          "base_uri": "https://localhost:8080/"
        },
        "id": "O0df4A6g8jAY",
        "outputId": "771102e7-a0d4-43bd-f47a-3671c43e5089"
      },
      "outputs": [
        {
          "name": "stdout",
          "output_type": "stream",
          "text": [
            "[[276319      5]\n",
            " [ 70731  38127]]\n",
            "Classification Report:\n",
            "              precision    recall  f1-score   support\n",
            "\n",
            "           0       0.80      1.00      0.89    276324\n",
            "           1       1.00      0.35      0.52    108858\n",
            "\n",
            "    accuracy                           0.82    385182\n",
            "   macro avg       0.90      0.68      0.70    385182\n",
            "weighted avg       0.85      0.82      0.78    385182\n",
            "\n"
          ]
        }
      ],
      "source": [
        "from sklearn.metrics import confusion_matrix, classification_report\n",
        "from sklearn.preprocessing import LabelBinarizer\n",
        "\n",
        "# Convert predict to a binary label array\n",
        "\n",
        "\n",
        "\n",
        "# Calculate the confusion matrix\n",
        "cm = confusion_matrix(y_test, prediction)\n",
        "print(cm)\n",
        "\n",
        "# Classification Report\n",
        "print(\"Classification Report:\")\n",
        "print(classification_report(y_test, prediction))"
      ]
    },
    {
      "cell_type": "code",
      "execution_count": null,
      "metadata": {
        "id": "57mb_mfmsMos"
      },
      "outputs": [],
      "source": [
        "num_classes = cm.shape[0]\n",
        "\n",
        "# Initialize arrays to store results\n",
        "true_negatives = np.zeros(num_classes, dtype=int)\n",
        "false_negatives = np.zeros(num_classes, dtype=int)\n",
        "true_positives = np.zeros(num_classes, dtype=int)\n",
        "false_positives = np.zeros(num_classes, dtype=int)\n",
        "\n",
        "# Calculate TN, FN, TP, FP for each class\n",
        "for i in range(num_classes):\n",
        "    # True Negatives (TN) for class i\n",
        "    mask = np.ones(num_classes, dtype=bool)\n",
        "    mask[i] = False\n",
        "    true_negatives[i] = np.sum(cm[mask][:, mask])\n",
        "\n",
        "    # False Negatives (FN) for class i\n",
        "    false_negatives[i] = np.sum(cm[i, :]) - cm[i, i]\n",
        "\n",
        "    # True Positives (TP) for class i\n",
        "    true_positives[i] = cm[i, i]\n",
        "\n",
        "    # False Positives (FP) for class i\n",
        "    false_positives[i] = np.sum(cm[:, i]) - cm[i, i]\n",
        "\n",
        "# Calculate False Alarm Rate (FAR) for each class\n",
        "false_alarm_rate = false_positives / (false_positives + true_negatives)\n",
        "\n",
        "# Calculate total False Alarm Rate (FAR)\n",
        "total_false_alarm_rate = np.sum(false_positives) / np.sum(false_positives + true_negatives)\n",
        "\n",
        "# Print results\n",
        "print(\"True Negatives for each class:\", true_negatives)\n",
        "print(\"False Negatives for each class:\", false_negatives)\n",
        "print(\"True Positives for each class:\", true_positives)\n",
        "print(\"False Positives for each class:\", false_positives)\n",
        "print(\"False Alarm Rate (FAR) for each class:\", false_alarm_rate)\n",
        "print(\"Total False Alarm Rate (FAR) for all classes combined:\", total_false_alarm_rate)"
      ]
    },
    {
      "cell_type": "code",
      "execution_count": null,
      "metadata": {
        "colab": {
          "base_uri": "https://localhost:8080/"
        },
        "id": "OO-rsaVuDxsu",
        "outputId": "8f3fadf4-3386-4126-e58e-60e5152bb828"
      },
      "outputs": [
        {
          "name": "stdout",
          "output_type": "stream",
          "text": [
            "GRU MSE 0.18364305704835637\n",
            "GRU RMSE 0.42853594603995165\n",
            "GRU MAE 0.18364305704835637\n"
          ]
        }
      ],
      "source": [
        "from sklearn.metrics import mean_squared_error\n",
        "from sklearn.metrics import mean_absolute_error\n",
        "import math\n",
        "MSE =mean_squared_error(y_test, prediction)\n",
        "print('GRU MSE',MSE)\n",
        "\n",
        "    #Root Mean squared error\n",
        "RMSE = math.sqrt(MSE)\n",
        "print('GRU RMSE',RMSE)\n",
        "\n",
        "    #Mean absolute error\n",
        "MAE =mean_absolute_error(y_test, prediction)\n",
        "print('GRU MAE',MAE)"
      ]
    },
    {
      "cell_type": "markdown",
      "metadata": {
        "id": "3vPz_kM_B6FG"
      },
      "source": [
        "**Confusion matrix**"
      ]
    },
    {
      "cell_type": "code",
      "execution_count": null,
      "metadata": {
        "id": "2M9E99zzCOPS"
      },
      "outputs": [],
      "source": [
        "from sklearn.svm import SVC\n",
        "from sklearn.metrics import confusion_matrix,classification_report\n",
        "from sklearn.model_selection import cross_val_score, GridSearchCV"
      ]
    },
    {
      "cell_type": "markdown",
      "metadata": {
        "id": "54Ci91Zpuik-"
      },
      "source": [
        "**Comparison of ML Models**"
      ]
    },
    {
      "cell_type": "code",
      "execution_count": null,
      "metadata": {
        "colab": {
          "base_uri": "https://localhost:8080/",
          "height": 528
        },
        "id": "_iySyFguujMW",
        "outputId": "2a543223-37a6-44e7-d673-a082d7455755"
      },
      "outputs": [
        {
          "name": "stderr",
          "output_type": "stream",
          "text": [
            "<ipython-input-30-1c5f8ef2bc7d>:36: MatplotlibDeprecationWarning: The legendHandles attribute was deprecated in Matplotlib 3.7 and will be removed two minor releases later. Use legend_handles instead.\n",
            "  for handle in legend.legendHandles:\n"
          ]
        },
        {
          "data": {
            "image/png": "[encoded data removed]",
            "text/plain": [
              "<Figure size 640x480 with 1 Axes>"
            ]
          },
          "metadata": {},
          "output_type": "display_data"
        }
      ],
      "source": [
        "import numpy as np\n",
        "import matplotlib.pyplot as plt\n",
        "\n",
        "# Performance measures for each model and class\n",
        "models = ['LSTM', 'AUC' , 'MLP', 'RNN', 'GRU']\n",
        "accuracy = [100, 83, 82, 100, 100]\n",
        "precision = [100, 91, 90, 100, 100]\n",
        "recall = [100, 71, 68, 100, 100]\n",
        "\n",
        "# Set the width of the bars\n",
        "bar_width = 0.15\n",
        "\n",
        "# Set the positions of the bars on the x-axis\n",
        "r1 = np.arange(len(models))\n",
        "r2 = [x + bar_width + 0.05 for x in r1]\n",
        "r3 = [x + 2*bar_width + 0.1 for x in r1]\n",
        "r4 = [x + 3*bar_width + 0.15 for x in r1]  # Adjust the offset here\n",
        "\n",
        "# Create the bar chart\n",
        "plt.bar(r1, accuracy, color='b', width=bar_width, edgecolor='white', linewidth=2.2, label='Accuracy')\n",
        "plt.bar(r2, precision, width=bar_width, color='g', edgecolor='white', linewidth=2.2, label='Precision')\n",
        "plt.bar(r3, recall, color='r', width=bar_width, edgecolor='white', linewidth=2.2, label='Recall')\n",
        "\n",
        "# Add x-axis labels and tick labels\n",
        "plt.xlabel('')\n",
        "plt.ylabel('')\n",
        "plt.title('Model Evaluation Metrics\\n')\n",
        "\n",
        "# Customize x-axis tick labels\n",
        "plt.xticks(r1 + 1.5*bar_width + 0.025, models)  # Adjust the offset here\n",
        "\n",
        "# Add a legend as a horizontal line below the plot\n",
        "legend = plt.legend(loc='lower center', bbox_to_anchor=(0.5, -0.2), ncol=4, handlelength=1, handletextpad=0.5)\n",
        "\n",
        "# Set the size of the bars in the legend to make them square\n",
        "for handle in legend.legendHandles:\n",
        "    handle.set_height(10)  # Adjust the size here\n",
        "    handle.set_width(10)  # Adjust the size here\n",
        "\n",
        "# Display the chart\n",
        "plt.tight_layout()\n",
        "plt.show()"
      ]
    },
    {
      "cell_type": "markdown",
      "metadata": {
        "id": "KcLMt1B_muw2"
      },
      "source": [
        "**Hyper Parameter Tuning**"
      ]
    },
    {
      "cell_type": "markdown",
      "metadata": {
        "id": "WsMrmfNPmwp3"
      },
      "source": [
        "https://www.kaggle.com/code/essammohamed4320/intrusion-detection-system-with-ml-dl"
      ]
    },
    {
      "cell_type": "markdown",
      "metadata": {
        "id": "EIE6oFLGm8mw"
      },
      "source": [
        "https://www.kaggle.com/code/kamyarazar/stock-price-prediction-lstm-hyperparameter-tuning/input"
      ]
    },
    {
      "cell_type": "markdown",
      "metadata": {
        "id": "zeRunjmBm9kr"
      },
      "source": [
        "https://www.kaggle.com/code/alishaangdembe/time-series-forecasting-lstm-hyperparameter-tune"
      ]
    },
    {
      "cell_type": "markdown",
      "metadata": {
        "id": "g7BYG12mnLFp"
      },
      "source": [
        "https://www.kaggle.com/code/kamyarazar/stock-price-prediction-lstm-hyperparameter-tuning/notebook"
      ]
    },
    {
      "cell_type": "markdown",
      "metadata": {
        "id": "M8gdxW7Xnedu"
      },
      "source": []
    },
    {
      "cell_type": "markdown",
      "metadata": {
        "id": "_dYcJXIunLP8"
      },
      "source": []
    }
  ],
  "metadata": {
    "accelerator": "GPU",
    "colab": {
      "provenance": []
    },
    "kernelspec": {
      "display_name": "Python 3",
      "name": "python3"
    },
    "language_info": {
      "name": "python"
    }
  },
  "nbformat": 4,
  "nbformat_minor": 0
}